{
  "cells": [
    {
      "cell_type": "markdown",
      "metadata": {
        "id": "view-in-github",
        "colab_type": "text"
      },
      "source": [
        "<a href=\"https://colab.research.google.com/github/belalabouzaid/siads699_team13_collab/blob/main/Notebooks/03a-PCA.ipynb\" target=\"_parent\"><img src=\"https://colab.research.google.com/assets/colab-badge.svg\" alt=\"Open In Colab\"/></a>"
      ]
    },
    {
      "cell_type": "markdown",
      "source": [
        "# Notebook Objective\n",
        "\n",
        "The aim of this notebook is to analyze feature importance by using principal component analysis and the number of principal components that would sufficnently preserve the majority of the information in the data, using variance explained as a measure."
      ],
      "metadata": {
        "id": "S-34EWmIlbx1"
      }
    },
    {
      "cell_type": "markdown",
      "source": [
        "# Feature importance by Variance Explained"
      ],
      "metadata": {
        "id": "nQovWpLItbwb"
      }
    },
    {
      "cell_type": "code",
      "execution_count": 1,
      "metadata": {
        "id": "GKzA1SxVty_n"
      },
      "outputs": [],
      "source": [
        "# Import libraries\n",
        "import os\n",
        "import pandas as pd\n",
        "import seaborn as sns\n",
        "import matplotlib.pyplot as plt\n",
        "# To work with numpy arrays\n",
        "import numpy as np\n",
        "# ML model building, training and testing\n",
        "import sklearn\n",
        "# Liner regression model building\n",
        "from sklearn.linear_model import LinearRegression\n",
        "# Polynomial regression\n",
        "from sklearn.preprocessing import PolynomialFeatures\n",
        "# sklearn included transformer\n",
        "from sklearn.preprocessing import QuantileTransformer\n",
        "# to split data into test and train\n",
        "from sklearn.model_selection import train_test_split\n",
        "# Scaling transform for PCA\n",
        "from sklearn.preprocessing import StandardScaler\n",
        "from sklearn.preprocessing import MinMaxScaler\n",
        "# To run PCA feature reduction\n",
        "from sklearn.decomposition import PCA\n",
        "# XGBoost model\n",
        "from xgboost import XGBRegressor,XGBClassifier\n",
        "# Random forest regressor\n",
        "from sklearn.ensemble import RandomForestRegressor\n",
        "# for regression error calculation\n",
        "from sklearn.metrics import mean_absolute_error\n",
        "# for regression r2 score calculation\n",
        "from sklearn.metrics import r2_score\n",
        "# for regression mse score calculation\n",
        "from sklearn.metrics import mean_squared_error\n",
        "# For hyperparameter tuning\n",
        "from sklearn.model_selection import GridSearchCV\n",
        "from sklearn.metrics import make_scorer\n",
        "# To transform the target variable into a normal distribution\n",
        "from sklearn.compose import TransformedTargetRegressor"
      ]
    },
    {
      "cell_type": "markdown",
      "metadata": {
        "id": "jawiShahclXR"
      },
      "source": [
        "## Data Loading"
      ]
    },
    {
      "cell_type": "code",
      "execution_count": 2,
      "metadata": {
        "id": "yYvz2ISLcpbi"
      },
      "outputs": [],
      "source": [
        "mariposa_21 = pd.read_csv('https://github.com/belalabouzaid/siads699_team13_collab/raw/main/Data/mariposa_2021.csv')"
      ]
    },
    {
      "cell_type": "code",
      "source": [
        "threerivers_22 = pd.read_csv('https://github.com/belalabouzaid/siads699_team13_collab/raw/main/Data/threerivers_2022.csv')"
      ],
      "metadata": {
        "id": "5jHnLVAS8UqF"
      },
      "execution_count": 3,
      "outputs": []
    },
    {
      "cell_type": "code",
      "source": [
        "# Taking a random sample from the dataset to reduce size (for runtime and plotting)\n",
        "mariposa_21 = mariposa_21.sample(n = 500, random_state = 42)\n",
        "threerivers_22 = threerivers_22.sample(n = 500, random_state = 42)"
      ],
      "metadata": {
        "id": "n3lsUh0q5Wm-"
      },
      "execution_count": 4,
      "outputs": []
    },
    {
      "cell_type": "markdown",
      "metadata": {
        "id": "0zX1vgI5xAEJ"
      },
      "source": [
        "## PCA Analysis for feature importance for Mariposa 21"
      ]
    },
    {
      "cell_type": "code",
      "execution_count": 5,
      "metadata": {
        "id": "LxMuFcoDxKzX"
      },
      "outputs": [],
      "source": [
        "X = mariposa_21.drop(columns = 'smi')\n",
        "y = mariposa_21['smi']"
      ]
    },
    {
      "cell_type": "code",
      "execution_count": 6,
      "metadata": {
        "id": "IptP7sGQxLzG"
      },
      "outputs": [],
      "source": [
        "X = X[['aspect','slope','NDMI','SR_B5','SAVI','EVI','NDVI','ST_B10'\n",
        "                                  ,'MNDWI','SR_B7','SR_B6','MSAVI', 'MSI']]"
      ]
    },
    {
      "cell_type": "code",
      "execution_count": 7,
      "metadata": {
        "id": "La1nePXB18NH"
      },
      "outputs": [],
      "source": [
        "# Recommended to run PCA after scaling features so that variance is calculated and compared equally between features\n",
        "scaler = StandardScaler()\n",
        "scaler.fit(X)\n",
        "X_scaled = scaler.transform(X)"
      ]
    },
    {
      "cell_type": "code",
      "execution_count": 8,
      "metadata": {
        "id": "TaWMfkC_2HdB"
      },
      "outputs": [],
      "source": [
        "# Creating a PCA object named pca.\n",
        "pca = PCA()\n",
        "X_new = pca.fit_transform(X_scaled)"
      ]
    },
    {
      "cell_type": "code",
      "execution_count": 9,
      "metadata": {
        "colab": {
          "base_uri": "https://localhost:8080/"
        },
        "id": "K7n_v2ac2N39",
        "outputId": "f0be3d94-d12d-4eb6-cbd2-249187979b5c"
      },
      "outputs": [
        {
          "output_type": "stream",
          "name": "stdout",
          "text": [
            "[5.88522595e-01 1.54777718e-01 8.52207837e-02 7.84820544e-02\n",
            " 5.84985826e-02 2.83002307e-02 2.93746582e-03 1.37787196e-03\n",
            " 1.03616690e-03 4.61678906e-04 2.09878743e-04 1.31509002e-04\n",
            " 4.34641572e-05]\n"
          ]
        }
      ],
      "source": [
        "# The PCA class contains explained_variance_ratio_ which returns the variance explained by each of the principal components.\n",
        "print(pca.explained_variance_ratio_) # the percentage of the variance"
      ]
    },
    {
      "cell_type": "code",
      "execution_count": 10,
      "metadata": {
        "colab": {
          "base_uri": "https://localhost:8080/",
          "height": 457
        },
        "id": "t7D9ypQQ2w6R",
        "outputId": "89ac87f7-b591-4ad0-b2f6-dc1b9a9f5814"
      },
      "outputs": [
        {
          "output_type": "execute_result",
          "data": {
            "text/plain": [
              "     index  pct_variance_explained\n",
              "0   aspect               58.852259\n",
              "1    slope               15.477772\n",
              "2     NDMI                8.522078\n",
              "3    SR_B5                7.848205\n",
              "4     SAVI                5.849858\n",
              "5      EVI                2.830023\n",
              "6     NDVI                0.293747\n",
              "7   ST_B10                0.137787\n",
              "8    MNDWI                0.103617\n",
              "9    SR_B7                0.046168\n",
              "10   SR_B6                0.020988\n",
              "11   MSAVI                0.013151\n",
              "12     MSI                0.004346"
            ],
            "text/html": [
              "\n",
              "  <div id=\"df-87cd9142-41e5-46f4-b3a8-d7cdd1069299\" class=\"colab-df-container\">\n",
              "    <div>\n",
              "<style scoped>\n",
              "    .dataframe tbody tr th:only-of-type {\n",
              "        vertical-align: middle;\n",
              "    }\n",
              "\n",
              "    .dataframe tbody tr th {\n",
              "        vertical-align: top;\n",
              "    }\n",
              "\n",
              "    .dataframe thead th {\n",
              "        text-align: right;\n",
              "    }\n",
              "</style>\n",
              "<table border=\"1\" class=\"dataframe\">\n",
              "  <thead>\n",
              "    <tr style=\"text-align: right;\">\n",
              "      <th></th>\n",
              "      <th>index</th>\n",
              "      <th>pct_variance_explained</th>\n",
              "    </tr>\n",
              "  </thead>\n",
              "  <tbody>\n",
              "    <tr>\n",
              "      <th>0</th>\n",
              "      <td>aspect</td>\n",
              "      <td>58.852259</td>\n",
              "    </tr>\n",
              "    <tr>\n",
              "      <th>1</th>\n",
              "      <td>slope</td>\n",
              "      <td>15.477772</td>\n",
              "    </tr>\n",
              "    <tr>\n",
              "      <th>2</th>\n",
              "      <td>NDMI</td>\n",
              "      <td>8.522078</td>\n",
              "    </tr>\n",
              "    <tr>\n",
              "      <th>3</th>\n",
              "      <td>SR_B5</td>\n",
              "      <td>7.848205</td>\n",
              "    </tr>\n",
              "    <tr>\n",
              "      <th>4</th>\n",
              "      <td>SAVI</td>\n",
              "      <td>5.849858</td>\n",
              "    </tr>\n",
              "    <tr>\n",
              "      <th>5</th>\n",
              "      <td>EVI</td>\n",
              "      <td>2.830023</td>\n",
              "    </tr>\n",
              "    <tr>\n",
              "      <th>6</th>\n",
              "      <td>NDVI</td>\n",
              "      <td>0.293747</td>\n",
              "    </tr>\n",
              "    <tr>\n",
              "      <th>7</th>\n",
              "      <td>ST_B10</td>\n",
              "      <td>0.137787</td>\n",
              "    </tr>\n",
              "    <tr>\n",
              "      <th>8</th>\n",
              "      <td>MNDWI</td>\n",
              "      <td>0.103617</td>\n",
              "    </tr>\n",
              "    <tr>\n",
              "      <th>9</th>\n",
              "      <td>SR_B7</td>\n",
              "      <td>0.046168</td>\n",
              "    </tr>\n",
              "    <tr>\n",
              "      <th>10</th>\n",
              "      <td>SR_B6</td>\n",
              "      <td>0.020988</td>\n",
              "    </tr>\n",
              "    <tr>\n",
              "      <th>11</th>\n",
              "      <td>MSAVI</td>\n",
              "      <td>0.013151</td>\n",
              "    </tr>\n",
              "    <tr>\n",
              "      <th>12</th>\n",
              "      <td>MSI</td>\n",
              "      <td>0.004346</td>\n",
              "    </tr>\n",
              "  </tbody>\n",
              "</table>\n",
              "</div>\n",
              "    <div class=\"colab-df-buttons\">\n",
              "\n",
              "  <div class=\"colab-df-container\">\n",
              "    <button class=\"colab-df-convert\" onclick=\"convertToInteractive('df-87cd9142-41e5-46f4-b3a8-d7cdd1069299')\"\n",
              "            title=\"Convert this dataframe to an interactive table.\"\n",
              "            style=\"display:none;\">\n",
              "\n",
              "  <svg xmlns=\"http://www.w3.org/2000/svg\" height=\"24px\" viewBox=\"0 -960 960 960\">\n",
              "    <path d=\"M120-120v-720h720v720H120Zm60-500h600v-160H180v160Zm220 220h160v-160H400v160Zm0 220h160v-160H400v160ZM180-400h160v-160H180v160Zm440 0h160v-160H620v160ZM180-180h160v-160H180v160Zm440 0h160v-160H620v160Z\"/>\n",
              "  </svg>\n",
              "    </button>\n",
              "\n",
              "  <style>\n",
              "    .colab-df-container {\n",
              "      display:flex;\n",
              "      gap: 12px;\n",
              "    }\n",
              "\n",
              "    .colab-df-convert {\n",
              "      background-color: #E8F0FE;\n",
              "      border: none;\n",
              "      border-radius: 50%;\n",
              "      cursor: pointer;\n",
              "      display: none;\n",
              "      fill: #1967D2;\n",
              "      height: 32px;\n",
              "      padding: 0 0 0 0;\n",
              "      width: 32px;\n",
              "    }\n",
              "\n",
              "    .colab-df-convert:hover {\n",
              "      background-color: #E2EBFA;\n",
              "      box-shadow: 0px 1px 2px rgba(60, 64, 67, 0.3), 0px 1px 3px 1px rgba(60, 64, 67, 0.15);\n",
              "      fill: #174EA6;\n",
              "    }\n",
              "\n",
              "    .colab-df-buttons div {\n",
              "      margin-bottom: 4px;\n",
              "    }\n",
              "\n",
              "    [theme=dark] .colab-df-convert {\n",
              "      background-color: #3B4455;\n",
              "      fill: #D2E3FC;\n",
              "    }\n",
              "\n",
              "    [theme=dark] .colab-df-convert:hover {\n",
              "      background-color: #434B5C;\n",
              "      box-shadow: 0px 1px 3px 1px rgba(0, 0, 0, 0.15);\n",
              "      filter: drop-shadow(0px 1px 2px rgba(0, 0, 0, 0.3));\n",
              "      fill: #FFFFFF;\n",
              "    }\n",
              "  </style>\n",
              "\n",
              "    <script>\n",
              "      const buttonEl =\n",
              "        document.querySelector('#df-87cd9142-41e5-46f4-b3a8-d7cdd1069299 button.colab-df-convert');\n",
              "      buttonEl.style.display =\n",
              "        google.colab.kernel.accessAllowed ? 'block' : 'none';\n",
              "\n",
              "      async function convertToInteractive(key) {\n",
              "        const element = document.querySelector('#df-87cd9142-41e5-46f4-b3a8-d7cdd1069299');\n",
              "        const dataTable =\n",
              "          await google.colab.kernel.invokeFunction('convertToInteractive',\n",
              "                                                    [key], {});\n",
              "        if (!dataTable) return;\n",
              "\n",
              "        const docLinkHtml = 'Like what you see? Visit the ' +\n",
              "          '<a target=\"_blank\" href=https://colab.research.google.com/notebooks/data_table.ipynb>data table notebook</a>'\n",
              "          + ' to learn more about interactive tables.';\n",
              "        element.innerHTML = '';\n",
              "        dataTable['output_type'] = 'display_data';\n",
              "        await google.colab.output.renderOutput(dataTable, element);\n",
              "        const docLink = document.createElement('div');\n",
              "        docLink.innerHTML = docLinkHtml;\n",
              "        element.appendChild(docLink);\n",
              "      }\n",
              "    </script>\n",
              "  </div>\n",
              "\n",
              "\n",
              "<div id=\"df-f0bb1ad7-0d44-4219-a61e-f5076af61b15\">\n",
              "  <button class=\"colab-df-quickchart\" onclick=\"quickchart('df-f0bb1ad7-0d44-4219-a61e-f5076af61b15')\"\n",
              "            title=\"Suggest charts\"\n",
              "            style=\"display:none;\">\n",
              "\n",
              "<svg xmlns=\"http://www.w3.org/2000/svg\" height=\"24px\"viewBox=\"0 0 24 24\"\n",
              "     width=\"24px\">\n",
              "    <g>\n",
              "        <path d=\"M19 3H5c-1.1 0-2 .9-2 2v14c0 1.1.9 2 2 2h14c1.1 0 2-.9 2-2V5c0-1.1-.9-2-2-2zM9 17H7v-7h2v7zm4 0h-2V7h2v10zm4 0h-2v-4h2v4z\"/>\n",
              "    </g>\n",
              "</svg>\n",
              "  </button>\n",
              "\n",
              "<style>\n",
              "  .colab-df-quickchart {\n",
              "      --bg-color: #E8F0FE;\n",
              "      --fill-color: #1967D2;\n",
              "      --hover-bg-color: #E2EBFA;\n",
              "      --hover-fill-color: #174EA6;\n",
              "      --disabled-fill-color: #AAA;\n",
              "      --disabled-bg-color: #DDD;\n",
              "  }\n",
              "\n",
              "  [theme=dark] .colab-df-quickchart {\n",
              "      --bg-color: #3B4455;\n",
              "      --fill-color: #D2E3FC;\n",
              "      --hover-bg-color: #434B5C;\n",
              "      --hover-fill-color: #FFFFFF;\n",
              "      --disabled-bg-color: #3B4455;\n",
              "      --disabled-fill-color: #666;\n",
              "  }\n",
              "\n",
              "  .colab-df-quickchart {\n",
              "    background-color: var(--bg-color);\n",
              "    border: none;\n",
              "    border-radius: 50%;\n",
              "    cursor: pointer;\n",
              "    display: none;\n",
              "    fill: var(--fill-color);\n",
              "    height: 32px;\n",
              "    padding: 0;\n",
              "    width: 32px;\n",
              "  }\n",
              "\n",
              "  .colab-df-quickchart:hover {\n",
              "    background-color: var(--hover-bg-color);\n",
              "    box-shadow: 0 1px 2px rgba(60, 64, 67, 0.3), 0 1px 3px 1px rgba(60, 64, 67, 0.15);\n",
              "    fill: var(--button-hover-fill-color);\n",
              "  }\n",
              "\n",
              "  .colab-df-quickchart-complete:disabled,\n",
              "  .colab-df-quickchart-complete:disabled:hover {\n",
              "    background-color: var(--disabled-bg-color);\n",
              "    fill: var(--disabled-fill-color);\n",
              "    box-shadow: none;\n",
              "  }\n",
              "\n",
              "  .colab-df-spinner {\n",
              "    border: 2px solid var(--fill-color);\n",
              "    border-color: transparent;\n",
              "    border-bottom-color: var(--fill-color);\n",
              "    animation:\n",
              "      spin 1s steps(1) infinite;\n",
              "  }\n",
              "\n",
              "  @keyframes spin {\n",
              "    0% {\n",
              "      border-color: transparent;\n",
              "      border-bottom-color: var(--fill-color);\n",
              "      border-left-color: var(--fill-color);\n",
              "    }\n",
              "    20% {\n",
              "      border-color: transparent;\n",
              "      border-left-color: var(--fill-color);\n",
              "      border-top-color: var(--fill-color);\n",
              "    }\n",
              "    30% {\n",
              "      border-color: transparent;\n",
              "      border-left-color: var(--fill-color);\n",
              "      border-top-color: var(--fill-color);\n",
              "      border-right-color: var(--fill-color);\n",
              "    }\n",
              "    40% {\n",
              "      border-color: transparent;\n",
              "      border-right-color: var(--fill-color);\n",
              "      border-top-color: var(--fill-color);\n",
              "    }\n",
              "    60% {\n",
              "      border-color: transparent;\n",
              "      border-right-color: var(--fill-color);\n",
              "    }\n",
              "    80% {\n",
              "      border-color: transparent;\n",
              "      border-right-color: var(--fill-color);\n",
              "      border-bottom-color: var(--fill-color);\n",
              "    }\n",
              "    90% {\n",
              "      border-color: transparent;\n",
              "      border-bottom-color: var(--fill-color);\n",
              "    }\n",
              "  }\n",
              "</style>\n",
              "\n",
              "  <script>\n",
              "    async function quickchart(key) {\n",
              "      const quickchartButtonEl =\n",
              "        document.querySelector('#' + key + ' button');\n",
              "      quickchartButtonEl.disabled = true;  // To prevent multiple clicks.\n",
              "      quickchartButtonEl.classList.add('colab-df-spinner');\n",
              "      try {\n",
              "        const charts = await google.colab.kernel.invokeFunction(\n",
              "            'suggestCharts', [key], {});\n",
              "      } catch (error) {\n",
              "        console.error('Error during call to suggestCharts:', error);\n",
              "      }\n",
              "      quickchartButtonEl.classList.remove('colab-df-spinner');\n",
              "      quickchartButtonEl.classList.add('colab-df-quickchart-complete');\n",
              "    }\n",
              "    (() => {\n",
              "      let quickchartButtonEl =\n",
              "        document.querySelector('#df-f0bb1ad7-0d44-4219-a61e-f5076af61b15 button');\n",
              "      quickchartButtonEl.style.display =\n",
              "        google.colab.kernel.accessAllowed ? 'block' : 'none';\n",
              "    })();\n",
              "  </script>\n",
              "</div>\n",
              "    </div>\n",
              "  </div>\n"
            ]
          },
          "metadata": {},
          "execution_count": 10
        }
      ],
      "source": [
        "# calculating the variance explained (indication of variable importance) from PCA and displaying as a sorted dataframe\n",
        "pct_variance_explained_dict = {}\n",
        "col_names = X.columns\n",
        "for i in range(len(col_names)):\n",
        "  pct_variance_explained_dict [col_names[i]] = pca.explained_variance_ratio_[i]\n",
        "var_explained_df = pd.DataFrame.from_dict(pct_variance_explained_dict,orient='index', columns = ['pct_variance_explained'])\n",
        "var_explained_df['pct_variance_explained'] = var_explained_df['pct_variance_explained']*100\n",
        "var_explained_df = var_explained_df.sort_values('pct_variance_explained', ascending = False).reset_index()\n",
        "var_explained_df"
      ]
    },
    {
      "cell_type": "code",
      "source": [
        "variables = list(var_explained_df['index'])\n",
        "variance_exp = list(var_explained_df['pct_variance_explained'])\n",
        "fig, axs = plt.subplots(figsize=(10, 6))\n",
        "axs.barh(variables, variance_exp, zorder=3)\n",
        "fig.suptitle('Variable variance explained')\n",
        "for index, value in enumerate(variance_exp):\n",
        "    plt.text(value, index,\n",
        "             str(round(value, 1)))\n",
        "axs.grid();"
      ],
      "metadata": {
        "colab": {
          "base_uri": "https://localhost:8080/",
          "height": 582
        },
        "id": "zyRfKcK_Ed-X",
        "outputId": "273749b5-d278-4177-e3f3-dec325b546a9"
      },
      "execution_count": 11,
      "outputs": [
        {
          "output_type": "display_data",
          "data": {
            "text/plain": [
              "<Figure size 1000x600 with 1 Axes>"
            ],
            "image/png": "[encoded data removed]"
          },
          "metadata": {}
        }
      ]
    },
    {
      "cell_type": "code",
      "execution_count": 12,
      "metadata": {
        "colab": {
          "base_uri": "https://localhost:8080/",
          "height": 449
        },
        "id": "2Z0a6i8_6-sL",
        "outputId": "ecc1333a-5c96-4dbf-9458-2e9e33203972"
      },
      "outputs": [
        {
          "output_type": "display_data",
          "data": {
            "text/plain": [
              "<Figure size 640x480 with 1 Axes>"
            ],
            "image/png": "[encoded data removed]"
          },
          "metadata": {}
        }
      ],
      "source": [
        "# To better understand the importance of the derived principal components, we can plot the variance per feature and observe the leaerning curve\n",
        "PCA_fit = PCA().fit(X_scaled)\n",
        "plt.plot(np.cumsum(PCA_fit.explained_variance_ratio_))\n",
        "plt.xlabel('number of components')\n",
        "plt.xticks(np.arange(0, 13, 1.0))\n",
        "plt.ylabel('cumulative explained variance')\n",
        "plt.grid();"
      ]
    },
    {
      "cell_type": "markdown",
      "metadata": {
        "id": "__n2s8Rv-gzq"
      },
      "source": [
        "From the plot above, we can see number of principal components to achieve maximum learning value from the dimentionality reduction.\n",
        "The dataframe **var_explained_df** shown previously lists the variables in descending order in terms of variance explained (importance)"
      ]
    },
    {
      "cell_type": "code",
      "execution_count": 13,
      "metadata": {
        "id": "T1BNFB62m6wv",
        "colab": {
          "base_uri": "https://localhost:8080/",
          "height": 472
        },
        "outputId": "fe908689-a95e-42ef-b51d-8af6898e935d"
      },
      "outputs": [
        {
          "output_type": "display_data",
          "data": {
            "text/plain": [
              "<Figure size 640x480 with 1 Axes>"
            ],
            "image/png": "[encoded data removed]"
          },
          "metadata": {}
        }
      ],
      "source": [
        "#plt.style.use(\"ggplot\")\n",
        "\n",
        "eigen_vals = pca.explained_variance_\n",
        "\n",
        "plt.plot(eigen_vals#, marker='o', color='blue'\n",
        "         )\n",
        "plt.xlabel(\"Eigenvalue number\")\n",
        "plt.ylabel(\"Eigenvalue size\")\n",
        "plt.title(\"Scree Plot\")\n",
        "plt.grid()\n",
        "\n",
        "# plt.savefig('scree plot.png')"
      ]
    },
    {
      "cell_type": "code",
      "source": [
        "# https://medium.com/data-science-365/2-plots-that-help-me-to-choose-the-right-number-of-principal-components-351a87e15a9f\n",
        "\n",
        "exp_var = pca.explained_variance_ratio_ * 100\n",
        "cum_exp_var = np.cumsum(exp_var)\n",
        "\n",
        "a = 14 # Number of input features + 1\n",
        "\n",
        "plt.bar(range(1, a), exp_var, align='center',\n",
        "        label='Individual explained variance')\n",
        "\n",
        "plt.step(range(1, a), cum_exp_var, where='mid',\n",
        "         label='Cumulative explained variance', color='blue')\n",
        "\n",
        "plt.ylabel('Explained variance percentage')\n",
        "plt.xlabel('Principal component index')\n",
        "plt.xticks(ticks=list(range(1, a)))\n",
        "plt.legend(loc='best')\n",
        "plt.tight_layout()\n",
        "plt.grid()"
      ],
      "metadata": {
        "colab": {
          "base_uri": "https://localhost:8080/",
          "height": 487
        },
        "id": "p3XrNg5wvgoq",
        "outputId": "3c5ed9ea-5346-4fcb-a512-6f20842e1830"
      },
      "execution_count": 14,
      "outputs": [
        {
          "output_type": "display_data",
          "data": {
            "text/plain": [
              "<Figure size 640x480 with 1 Axes>"
            ],
            "image/png": "[encoded data removed]"
          },
          "metadata": {}
        }
      ]
    },
    {
      "cell_type": "markdown",
      "source": [
        "The above scree plot and variance explained bar chart both show that 6 principal components are sufficient to preserve the information in the variables selected using variance explained as a measure."
      ],
      "metadata": {
        "id": "sofvA0dg7Blh"
      }
    },
    {
      "cell_type": "markdown",
      "source": [
        "The below visualizations explore which variables contribute to the most important principal components"
      ],
      "metadata": {
        "id": "qZXcYJ9r8rWJ"
      }
    },
    {
      "cell_type": "markdown",
      "source": [
        "## PCA for feature importance Three Rivers 22"
      ],
      "metadata": {
        "id": "wHhiM9Y89WGu"
      }
    },
    {
      "cell_type": "code",
      "source": [
        "X = threerivers_22.drop(columns = 'smi')\n",
        "y = threerivers_22['smi']"
      ],
      "metadata": {
        "id": "mqjsJ1159bsH"
      },
      "execution_count": 16,
      "outputs": []
    },
    {
      "cell_type": "code",
      "source": [
        "X = X[['aspect','slope','NDMI','SR_B5','SAVI','EVI','NDVI','ST_B10'\n",
        "                                  ,'MNDWI','SR_B7','SR_B6','MSAVI', 'MSI']]"
      ],
      "metadata": {
        "id": "4kCVhaQw9lTh"
      },
      "execution_count": 17,
      "outputs": []
    },
    {
      "cell_type": "code",
      "source": [
        "# Recommended to run PCA after scaling features so that variance is calculated and compared equally between features\n",
        "scaler = StandardScaler()\n",
        "scaler.fit(X)\n",
        "X_scaled = scaler.transform(X)"
      ],
      "metadata": {
        "id": "Yc6XOkub-N_h"
      },
      "execution_count": 18,
      "outputs": []
    },
    {
      "cell_type": "code",
      "source": [
        "# Creating a PCA object named pca.\n",
        "pca = PCA()\n",
        "X_new = pca.fit_transform(X_scaled)"
      ],
      "metadata": {
        "id": "_2811kP0-SEM"
      },
      "execution_count": 19,
      "outputs": []
    },
    {
      "cell_type": "code",
      "source": [
        "# The PCA class contains explained_variance_ratio_ which returns the variance explained by each of the principal components.\n",
        "print(pca.explained_variance_ratio_) # the percentage of the variance"
      ],
      "metadata": {
        "colab": {
          "base_uri": "https://localhost:8080/"
        },
        "id": "VCNM-7dw-WQv",
        "outputId": "544fb602-4fe4-4d8c-b9fa-d11a692d0b3d"
      },
      "execution_count": 20,
      "outputs": [
        {
          "output_type": "stream",
          "name": "stdout",
          "text": [
            "[6.32349044e-01 1.69915527e-01 8.08660779e-02 6.17878952e-02\n",
            " 3.58497521e-02 1.40952876e-02 2.69245586e-03 1.23507547e-03\n",
            " 5.75017062e-04 4.49937090e-04 1.25111693e-04 4.12892787e-05\n",
            " 1.75295181e-05]\n"
          ]
        }
      ]
    },
    {
      "cell_type": "code",
      "source": [
        "# calculating the variance explained (indication of variable importance) from PCA and displaying as a sorted dataframe\n",
        "pct_variance_explained_dict = {}\n",
        "col_names = X.columns\n",
        "for i in range(len(col_names)):\n",
        "  pct_variance_explained_dict [col_names[i]] = pca.explained_variance_ratio_[i]\n",
        "var_explained_df = pd.DataFrame.from_dict(pct_variance_explained_dict,orient='index', columns = ['pct_variance_explained'])\n",
        "var_explained_df['pct_variance_explained'] = var_explained_df['pct_variance_explained']*100\n",
        "var_explained_df = var_explained_df.sort_values('pct_variance_explained').reset_index()\n",
        "var_explained_df"
      ],
      "metadata": {
        "colab": {
          "base_uri": "https://localhost:8080/",
          "height": 457
        },
        "id": "4kMZnPDN-aPR",
        "outputId": "1b85d142-d273-4420-a0c8-8f601efd3296"
      },
      "execution_count": 21,
      "outputs": [
        {
          "output_type": "execute_result",
          "data": {
            "text/plain": [
              "     index  pct_variance_explained\n",
              "0      MSI                0.001753\n",
              "1    MSAVI                0.004129\n",
              "2    SR_B6                0.012511\n",
              "3    SR_B7                0.044994\n",
              "4    MNDWI                0.057502\n",
              "5   ST_B10                0.123508\n",
              "6     NDVI                0.269246\n",
              "7      EVI                1.409529\n",
              "8     SAVI                3.584975\n",
              "9    SR_B5                6.178790\n",
              "10    NDMI                8.086608\n",
              "11   slope               16.991553\n",
              "12  aspect               63.234904"
            ],
            "text/html": [
              "\n",
              "  <div id=\"df-f18a22a2-256a-4006-a6dc-1f457e85abd3\" class=\"colab-df-container\">\n",
              "    <div>\n",
              "<style scoped>\n",
              "    .dataframe tbody tr th:only-of-type {\n",
              "        vertical-align: middle;\n",
              "    }\n",
              "\n",
              "    .dataframe tbody tr th {\n",
              "        vertical-align: top;\n",
              "    }\n",
              "\n",
              "    .dataframe thead th {\n",
              "        text-align: right;\n",
              "    }\n",
              "</style>\n",
              "<table border=\"1\" class=\"dataframe\">\n",
              "  <thead>\n",
              "    <tr style=\"text-align: right;\">\n",
              "      <th></th>\n",
              "      <th>index</th>\n",
              "      <th>pct_variance_explained</th>\n",
              "    </tr>\n",
              "  </thead>\n",
              "  <tbody>\n",
              "    <tr>\n",
              "      <th>0</th>\n",
              "      <td>MSI</td>\n",
              "      <td>0.001753</td>\n",
              "    </tr>\n",
              "    <tr>\n",
              "      <th>1</th>\n",
              "      <td>MSAVI</td>\n",
              "      <td>0.004129</td>\n",
              "    </tr>\n",
              "    <tr>\n",
              "      <th>2</th>\n",
              "      <td>SR_B6</td>\n",
              "      <td>0.012511</td>\n",
              "    </tr>\n",
              "    <tr>\n",
              "      <th>3</th>\n",
              "      <td>SR_B7</td>\n",
              "      <td>0.044994</td>\n",
              "    </tr>\n",
              "    <tr>\n",
              "      <th>4</th>\n",
              "      <td>MNDWI</td>\n",
              "      <td>0.057502</td>\n",
              "    </tr>\n",
              "    <tr>\n",
              "      <th>5</th>\n",
              "      <td>ST_B10</td>\n",
              "      <td>0.123508</td>\n",
              "    </tr>\n",
              "    <tr>\n",
              "      <th>6</th>\n",
              "      <td>NDVI</td>\n",
              "      <td>0.269246</td>\n",
              "    </tr>\n",
              "    <tr>\n",
              "      <th>7</th>\n",
              "      <td>EVI</td>\n",
              "      <td>1.409529</td>\n",
              "    </tr>\n",
              "    <tr>\n",
              "      <th>8</th>\n",
              "      <td>SAVI</td>\n",
              "      <td>3.584975</td>\n",
              "    </tr>\n",
              "    <tr>\n",
              "      <th>9</th>\n",
              "      <td>SR_B5</td>\n",
              "      <td>6.178790</td>\n",
              "    </tr>\n",
              "    <tr>\n",
              "      <th>10</th>\n",
              "      <td>NDMI</td>\n",
              "      <td>8.086608</td>\n",
              "    </tr>\n",
              "    <tr>\n",
              "      <th>11</th>\n",
              "      <td>slope</td>\n",
              "      <td>16.991553</td>\n",
              "    </tr>\n",
              "    <tr>\n",
              "      <th>12</th>\n",
              "      <td>aspect</td>\n",
              "      <td>63.234904</td>\n",
              "    </tr>\n",
              "  </tbody>\n",
              "</table>\n",
              "</div>\n",
              "    <div class=\"colab-df-buttons\">\n",
              "\n",
              "  <div class=\"colab-df-container\">\n",
              "    <button class=\"colab-df-convert\" onclick=\"convertToInteractive('df-f18a22a2-256a-4006-a6dc-1f457e85abd3')\"\n",
              "            title=\"Convert this dataframe to an interactive table.\"\n",
              "            style=\"display:none;\">\n",
              "\n",
              "  <svg xmlns=\"http://www.w3.org/2000/svg\" height=\"24px\" viewBox=\"0 -960 960 960\">\n",
              "    <path d=\"M120-120v-720h720v720H120Zm60-500h600v-160H180v160Zm220 220h160v-160H400v160Zm0 220h160v-160H400v160ZM180-400h160v-160H180v160Zm440 0h160v-160H620v160ZM180-180h160v-160H180v160Zm440 0h160v-160H620v160Z\"/>\n",
              "  </svg>\n",
              "    </button>\n",
              "\n",
              "  <style>\n",
              "    .colab-df-container {\n",
              "      display:flex;\n",
              "      gap: 12px;\n",
              "    }\n",
              "\n",
              "    .colab-df-convert {\n",
              "      background-color: #E8F0FE;\n",
              "      border: none;\n",
              "      border-radius: 50%;\n",
              "      cursor: pointer;\n",
              "      display: none;\n",
              "      fill: #1967D2;\n",
              "      height: 32px;\n",
              "      padding: 0 0 0 0;\n",
              "      width: 32px;\n",
              "    }\n",
              "\n",
              "    .colab-df-convert:hover {\n",
              "      background-color: #E2EBFA;\n",
              "      box-shadow: 0px 1px 2px rgba(60, 64, 67, 0.3), 0px 1px 3px 1px rgba(60, 64, 67, 0.15);\n",
              "      fill: #174EA6;\n",
              "    }\n",
              "\n",
              "    .colab-df-buttons div {\n",
              "      margin-bottom: 4px;\n",
              "    }\n",
              "\n",
              "    [theme=dark] .colab-df-convert {\n",
              "      background-color: #3B4455;\n",
              "      fill: #D2E3FC;\n",
              "    }\n",
              "\n",
              "    [theme=dark] .colab-df-convert:hover {\n",
              "      background-color: #434B5C;\n",
              "      box-shadow: 0px 1px 3px 1px rgba(0, 0, 0, 0.15);\n",
              "      filter: drop-shadow(0px 1px 2px rgba(0, 0, 0, 0.3));\n",
              "      fill: #FFFFFF;\n",
              "    }\n",
              "  </style>\n",
              "\n",
              "    <script>\n",
              "      const buttonEl =\n",
              "        document.querySelector('#df-f18a22a2-256a-4006-a6dc-1f457e85abd3 button.colab-df-convert');\n",
              "      buttonEl.style.display =\n",
              "        google.colab.kernel.accessAllowed ? 'block' : 'none';\n",
              "\n",
              "      async function convertToInteractive(key) {\n",
              "        const element = document.querySelector('#df-f18a22a2-256a-4006-a6dc-1f457e85abd3');\n",
              "        const dataTable =\n",
              "          await google.colab.kernel.invokeFunction('convertToInteractive',\n",
              "                                                    [key], {});\n",
              "        if (!dataTable) return;\n",
              "\n",
              "        const docLinkHtml = 'Like what you see? Visit the ' +\n",
              "          '<a target=\"_blank\" href=https://colab.research.google.com/notebooks/data_table.ipynb>data table notebook</a>'\n",
              "          + ' to learn more about interactive tables.';\n",
              "        element.innerHTML = '';\n",
              "        dataTable['output_type'] = 'display_data';\n",
              "        await google.colab.output.renderOutput(dataTable, element);\n",
              "        const docLink = document.createElement('div');\n",
              "        docLink.innerHTML = docLinkHtml;\n",
              "        element.appendChild(docLink);\n",
              "      }\n",
              "    </script>\n",
              "  </div>\n",
              "\n",
              "\n",
              "<div id=\"df-e2ecd89b-9167-4cec-96c4-c1cc1deac731\">\n",
              "  <button class=\"colab-df-quickchart\" onclick=\"quickchart('df-e2ecd89b-9167-4cec-96c4-c1cc1deac731')\"\n",
              "            title=\"Suggest charts\"\n",
              "            style=\"display:none;\">\n",
              "\n",
              "<svg xmlns=\"http://www.w3.org/2000/svg\" height=\"24px\"viewBox=\"0 0 24 24\"\n",
              "     width=\"24px\">\n",
              "    <g>\n",
              "        <path d=\"M19 3H5c-1.1 0-2 .9-2 2v14c0 1.1.9 2 2 2h14c1.1 0 2-.9 2-2V5c0-1.1-.9-2-2-2zM9 17H7v-7h2v7zm4 0h-2V7h2v10zm4 0h-2v-4h2v4z\"/>\n",
              "    </g>\n",
              "</svg>\n",
              "  </button>\n",
              "\n",
              "<style>\n",
              "  .colab-df-quickchart {\n",
              "      --bg-color: #E8F0FE;\n",
              "      --fill-color: #1967D2;\n",
              "      --hover-bg-color: #E2EBFA;\n",
              "      --hover-fill-color: #174EA6;\n",
              "      --disabled-fill-color: #AAA;\n",
              "      --disabled-bg-color: #DDD;\n",
              "  }\n",
              "\n",
              "  [theme=dark] .colab-df-quickchart {\n",
              "      --bg-color: #3B4455;\n",
              "      --fill-color: #D2E3FC;\n",
              "      --hover-bg-color: #434B5C;\n",
              "      --hover-fill-color: #FFFFFF;\n",
              "      --disabled-bg-color: #3B4455;\n",
              "      --disabled-fill-color: #666;\n",
              "  }\n",
              "\n",
              "  .colab-df-quickchart {\n",
              "    background-color: var(--bg-color);\n",
              "    border: none;\n",
              "    border-radius: 50%;\n",
              "    cursor: pointer;\n",
              "    display: none;\n",
              "    fill: var(--fill-color);\n",
              "    height: 32px;\n",
              "    padding: 0;\n",
              "    width: 32px;\n",
              "  }\n",
              "\n",
              "  .colab-df-quickchart:hover {\n",
              "    background-color: var(--hover-bg-color);\n",
              "    box-shadow: 0 1px 2px rgba(60, 64, 67, 0.3), 0 1px 3px 1px rgba(60, 64, 67, 0.15);\n",
              "    fill: var(--button-hover-fill-color);\n",
              "  }\n",
              "\n",
              "  .colab-df-quickchart-complete:disabled,\n",
              "  .colab-df-quickchart-complete:disabled:hover {\n",
              "    background-color: var(--disabled-bg-color);\n",
              "    fill: var(--disabled-fill-color);\n",
              "    box-shadow: none;\n",
              "  }\n",
              "\n",
              "  .colab-df-spinner {\n",
              "    border: 2px solid var(--fill-color);\n",
              "    border-color: transparent;\n",
              "    border-bottom-color: var(--fill-color);\n",
              "    animation:\n",
              "      spin 1s steps(1) infinite;\n",
              "  }\n",
              "\n",
              "  @keyframes spin {\n",
              "    0% {\n",
              "      border-color: transparent;\n",
              "      border-bottom-color: var(--fill-color);\n",
              "      border-left-color: var(--fill-color);\n",
              "    }\n",
              "    20% {\n",
              "      border-color: transparent;\n",
              "      border-left-color: var(--fill-color);\n",
              "      border-top-color: var(--fill-color);\n",
              "    }\n",
              "    30% {\n",
              "      border-color: transparent;\n",
              "      border-left-color: var(--fill-color);\n",
              "      border-top-color: var(--fill-color);\n",
              "      border-right-color: var(--fill-color);\n",
              "    }\n",
              "    40% {\n",
              "      border-color: transparent;\n",
              "      border-right-color: var(--fill-color);\n",
              "      border-top-color: var(--fill-color);\n",
              "    }\n",
              "    60% {\n",
              "      border-color: transparent;\n",
              "      border-right-color: var(--fill-color);\n",
              "    }\n",
              "    80% {\n",
              "      border-color: transparent;\n",
              "      border-right-color: var(--fill-color);\n",
              "      border-bottom-color: var(--fill-color);\n",
              "    }\n",
              "    90% {\n",
              "      border-color: transparent;\n",
              "      border-bottom-color: var(--fill-color);\n",
              "    }\n",
              "  }\n",
              "</style>\n",
              "\n",
              "  <script>\n",
              "    async function quickchart(key) {\n",
              "      const quickchartButtonEl =\n",
              "        document.querySelector('#' + key + ' button');\n",
              "      quickchartButtonEl.disabled = true;  // To prevent multiple clicks.\n",
              "      quickchartButtonEl.classList.add('colab-df-spinner');\n",
              "      try {\n",
              "        const charts = await google.colab.kernel.invokeFunction(\n",
              "            'suggestCharts', [key], {});\n",
              "      } catch (error) {\n",
              "        console.error('Error during call to suggestCharts:', error);\n",
              "      }\n",
              "      quickchartButtonEl.classList.remove('colab-df-spinner');\n",
              "      quickchartButtonEl.classList.add('colab-df-quickchart-complete');\n",
              "    }\n",
              "    (() => {\n",
              "      let quickchartButtonEl =\n",
              "        document.querySelector('#df-e2ecd89b-9167-4cec-96c4-c1cc1deac731 button');\n",
              "      quickchartButtonEl.style.display =\n",
              "        google.colab.kernel.accessAllowed ? 'block' : 'none';\n",
              "    })();\n",
              "  </script>\n",
              "</div>\n",
              "    </div>\n",
              "  </div>\n"
            ]
          },
          "metadata": {},
          "execution_count": 21
        }
      ]
    },
    {
      "cell_type": "code",
      "source": [
        "variables = list(var_explained_df['index'])\n",
        "variance_exp = list(var_explained_df['pct_variance_explained'])\n",
        "fig, axs = plt.subplots(figsize=(10, 6))\n",
        "axs.barh(variables, variance_exp, zorder = 3)\n",
        "fig.suptitle('Variable variance explained')\n",
        "for index, value in enumerate(variance_exp):\n",
        "    plt.text(value, index,\n",
        "             str(round(value, 1)))\n",
        "plt.ylabel('Features', fontsize=10)\n",
        "plt.xlabel('Variance explained (pct)', fontsize=10)\n",
        "axs.grid();"
      ],
      "metadata": {
        "colab": {
          "base_uri": "https://localhost:8080/",
          "height": 602
        },
        "id": "wucOlYPt-eU2",
        "outputId": "f1c55988-db45-4343-b257-976553f04ff4"
      },
      "execution_count": 28,
      "outputs": [
        {
          "output_type": "display_data",
          "data": {
            "text/plain": [
              "<Figure size 1000x600 with 1 Axes>"
            ],
            "image/png": "[encoded data removed]"
          },
          "metadata": {}
        }
      ]
    },
    {
      "cell_type": "code",
      "source": [],
      "metadata": {
        "id": "mcsy0AkNIRzW"
      },
      "execution_count": null,
      "outputs": []
    }
  ],
  "metadata": {
    "colab": {
      "provenance": [],
      "toc_visible": true,
      "include_colab_link": true
    },
    "kernelspec": {
      "display_name": "Python 3",
      "name": "python3"
    },
    "language_info": {
      "name": "python"
    }
  },
  "nbformat": 4,
  "nbformat_minor": 0
}