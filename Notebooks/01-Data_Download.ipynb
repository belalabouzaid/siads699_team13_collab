{
  "cells": [
    {
      "cell_type": "markdown",
      "metadata": {
        "id": "view-in-github",
        "colab_type": "text"
      },
      "source": [
        "<a href=\"https://colab.research.google.com/github/belalabouzaid/siads699_team13_collab/blob/main/Notebooks/01-Data_Download.ipynb\" target=\"_parent\"><img src=\"https://colab.research.google.com/assets/colab-badge.svg\" alt=\"Open In Colab\"/></a>"
      ]
    },
    {
      "cell_type": "markdown",
      "source": [
        "# Notebook Objective\n",
        "This notebook downloads the Landsat-8 images from Google Earth Engine after defining the boundaries of the region of interest. The images are then used to extract the relevant bands information which will be used as features for drought prediction. Finally, the features are then saved along with the target variable in a dataframe and exported to .csv format to be used in subsequent notebooks for analysis and model training/testing."
      ],
      "metadata": {
        "id": "JeO93z2ezcrI"
      }
    },
    {
      "cell_type": "markdown",
      "metadata": {
        "id": "v94J__dxAEqY"
      },
      "source": [
        "# Setting up environment"
      ]
    },
    {
      "cell_type": "code",
      "execution_count": null,
      "metadata": {
        "id": "MaBi2N0RF2yC"
      },
      "outputs": [],
      "source": [
        "!pip install wxee"
      ]
    },
    {
      "cell_type": "code",
      "execution_count": null,
      "metadata": {
        "id": "wu8PoNHIjDhn"
      },
      "outputs": [],
      "source": [
        "# Import libraries\n",
        "import ee\n",
        "import geemap\n",
        "import os\n",
        "import pandas as pd\n",
        "import wxee\n",
        "import rioxarray\n",
        "import seaborn as sns\n",
        "import matplotlib.pyplot as plt\n",
        "from functools import reduce"
      ]
    },
    {
      "cell_type": "markdown",
      "metadata": {
        "id": "za_s2LBgAbwA"
      },
      "source": [
        "## Authenticating Google Earth Engine API"
      ]
    },
    {
      "cell_type": "code",
      "execution_count": null,
      "metadata": {
        "id": "rrVCgVKBl0Jn"
      },
      "outputs": [],
      "source": [
        "# Authenticate Earth Engine API\n",
        "ee.Authenticate()"
      ]
    },
    {
      "cell_type": "code",
      "execution_count": null,
      "metadata": {
        "colab": {
          "base_uri": "https://localhost:8080/",
          "height": 17
        },
        "id": "QPxSawRSmzW8",
        "outputId": "d3b1f88f-6b3f-4955-aaf3-367c4130c829"
      },
      "outputs": [
        {
          "output_type": "display_data",
          "data": {
            "text/plain": [
              "<IPython.core.display.HTML object>"
            ],
            "text/html": [
              "\n",
              "            <style>\n",
              "                .geemap-dark {\n",
              "                    --jp-widgets-color: white;\n",
              "                    --jp-widgets-label-color: white;\n",
              "                    --jp-ui-font-color1: white;\n",
              "                    --jp-layout-color2: #454545;\n",
              "                    background-color: #383838;\n",
              "                }\n",
              "                    \n",
              "                .geemap-dark .jupyter-button {\n",
              "                    --jp-layout-color3: #383838;\n",
              "                }\n",
              "                \n",
              "                .geemap-colab {\n",
              "                    background-color: var(--colab-primary-surface-color, white);\n",
              "                }\n",
              "                    \n",
              "                .geemap-colab .jupyter-button {\n",
              "                    --jp-layout-color3: var(--colab-primary-surface-color, white);\n",
              "                }\n",
              "            </style>\n",
              "            "
            ]
          },
          "metadata": {}
        }
      ],
      "source": [
        "# Intialize Earth Engine API\n",
        "ee.Initialize()"
      ]
    },
    {
      "cell_type": "markdown",
      "metadata": {
        "id": "8M9OROV0AqlK"
      },
      "source": [
        "# Obtain Data\n",
        "Setting up functions"
      ]
    },
    {
      "cell_type": "code",
      "execution_count": null,
      "metadata": {
        "colab": {
          "base_uri": "https://localhost:8080/",
          "height": 17
        },
        "id": "vVuadT5xJjRM",
        "outputId": "4ebd63fd-a46d-4f14-cf47-f5ef376bce22"
      },
      "outputs": [
        {
          "output_type": "display_data",
          "data": {
            "text/plain": [
              "<IPython.core.display.HTML object>"
            ],
            "text/html": [
              "\n",
              "            <style>\n",
              "                .geemap-dark {\n",
              "                    --jp-widgets-color: white;\n",
              "                    --jp-widgets-label-color: white;\n",
              "                    --jp-ui-font-color1: white;\n",
              "                    --jp-layout-color2: #454545;\n",
              "                    background-color: #383838;\n",
              "                }\n",
              "                    \n",
              "                .geemap-dark .jupyter-button {\n",
              "                    --jp-layout-color3: #383838;\n",
              "                }\n",
              "                \n",
              "                .geemap-colab {\n",
              "                    background-color: var(--colab-primary-surface-color, white);\n",
              "                }\n",
              "                    \n",
              "                .geemap-colab .jupyter-button {\n",
              "                    --jp-layout-color3: var(--colab-primary-surface-color, white);\n",
              "                }\n",
              "            </style>\n",
              "            "
            ]
          },
          "metadata": {}
        }
      ],
      "source": [
        "# https://developers.google.com/earth-engine/datasets/catalog/LANDSAT_LC08_C02_T1_L2\n",
        "\n",
        "def apply_scale_factors(image):\n",
        "  \"\"\"apply scaling factors per landsat guidelines\"\"\"\n",
        "  optical_bands = image.select('SR_B.').multiply(0.0000275).add(-0.2)\n",
        "  thermal_bands = image.select('ST_B.*').multiply(0.00341802).add(149.0)\n",
        "  return image.addBands(optical_bands, None, True).addBands(thermal_bands, None, True)"
      ]
    },
    {
      "cell_type": "code",
      "execution_count": null,
      "metadata": {
        "colab": {
          "base_uri": "https://localhost:8080/",
          "height": 17
        },
        "id": "qBKQa8qCJqtn",
        "outputId": "1fc2b60c-078f-4c51-9896-d06559e4bbd8"
      },
      "outputs": [
        {
          "output_type": "display_data",
          "data": {
            "text/plain": [
              "<IPython.core.display.HTML object>"
            ],
            "text/html": [
              "\n",
              "            <style>\n",
              "                .geemap-dark {\n",
              "                    --jp-widgets-color: white;\n",
              "                    --jp-widgets-label-color: white;\n",
              "                    --jp-ui-font-color1: white;\n",
              "                    --jp-layout-color2: #454545;\n",
              "                    background-color: #383838;\n",
              "                }\n",
              "                    \n",
              "                .geemap-dark .jupyter-button {\n",
              "                    --jp-layout-color3: #383838;\n",
              "                }\n",
              "                \n",
              "                .geemap-colab {\n",
              "                    background-color: var(--colab-primary-surface-color, white);\n",
              "                }\n",
              "                    \n",
              "                .geemap-colab .jupyter-button {\n",
              "                    --jp-layout-color3: var(--colab-primary-surface-color, white);\n",
              "                }\n",
              "            </style>\n",
              "            "
            ]
          },
          "metadata": {}
        }
      ],
      "source": [
        "def calculate_var(img):\n",
        "    \"\"\"compute and add multiple bands to an ee image collection\"\"\"\n",
        "    ndvi = img.normalizedDifference(['SR_B5', 'SR_B4']).rename('NDVI')\n",
        "    ndmi = img.normalizedDifference(['SR_B5', 'SR_B6']).rename('NDMI')\n",
        "    mndwi = img.normalizedDifference(['SR_B3', 'SR_B6']).rename('MNDWI')\n",
        "    evi = ee.Image().expression('2.5*((NIR-Red)/(NIR+6*Red-7.5*Blue+1))', {'NIR': img.select('SR_B5'), 'Red': img.select('SR_B4'), 'Blue': img.select('SR_B2')}).rename('EVI')\n",
        "    savi = ee.Image().expression('((NIR-Red)/(NIR+Red+0.5))*1.5', {'NIR': img.select('SR_B5'), 'Red': img.select('SR_B4')}).rename('SAVI')\n",
        "    msavi = ee.Image().expression('(2*NIR+1-sqrt(pow((2*NIR+1),2)-8*(NIR-Red)))/2', {'NIR': img.select('SR_B5'), 'Red': img.select('SR_B4')}).rename('MSAVI')\n",
        "    msi = img.select('SR_B6').divide(img.select('SR_B5')).rename('MSI')\n",
        "\n",
        "    new_bands = ee.Image([ndvi, ndmi, mndwi, evi, savi, msavi, msi])\n",
        "    return img.addBands(new_bands)"
      ]
    },
    {
      "cell_type": "code",
      "execution_count": null,
      "metadata": {
        "colab": {
          "base_uri": "https://localhost:8080/",
          "height": 17
        },
        "id": "Bhk0_2nUJuHR",
        "outputId": "a7828282-04e9-4ab3-82a4-c42e4f0fc2e7"
      },
      "outputs": [
        {
          "output_type": "display_data",
          "data": {
            "text/plain": [
              "<IPython.core.display.HTML object>"
            ],
            "text/html": [
              "\n",
              "            <style>\n",
              "                .geemap-dark {\n",
              "                    --jp-widgets-color: white;\n",
              "                    --jp-widgets-label-color: white;\n",
              "                    --jp-ui-font-color1: white;\n",
              "                    --jp-layout-color2: #454545;\n",
              "                    background-color: #383838;\n",
              "                }\n",
              "                    \n",
              "                .geemap-dark .jupyter-button {\n",
              "                    --jp-layout-color3: #383838;\n",
              "                }\n",
              "                \n",
              "                .geemap-colab {\n",
              "                    background-color: var(--colab-primary-surface-color, white);\n",
              "                }\n",
              "                    \n",
              "                .geemap-colab .jupyter-button {\n",
              "                    --jp-layout-color3: var(--colab-primary-surface-color, white);\n",
              "                }\n",
              "            </style>\n",
              "            "
            ]
          },
          "metadata": {}
        }
      ],
      "source": [
        "def save_landsat8(roi, date_range, bands, roiname, datename):\n",
        "    \"\"\"function to fetch the various bands using ee and save the geotiffs, returning the metadata for the bands\"\"\"\n",
        "    # Select the satellite image collection\n",
        "    image_collection = ee.ImageCollection(\"LANDSAT/LC08/C02/T1_L2\")\n",
        "\n",
        "    # Filter the image collection by date and region of interest(roi)\n",
        "    image_collection = image_collection.filterDate(date_range).filterBounds(roi)\n",
        "\n",
        "    # Scale the data per USGS guidelines\n",
        "    image_collection = image_collection.map(apply_scale_factors)\n",
        "\n",
        "    # Calculate additional variables and add the bands to the collection\n",
        "    image_collection = image_collection.map(calculate_var)\n",
        "    image_collection = image_collection.select(bands)\n",
        "\n",
        "    # sort so percent cloud cover is smallest to largest select the most cloud free image in our filtered set\n",
        "    image_collection = image_collection.sort(\"CLOUD_COVER\").first()\n",
        "\n",
        "    # save\n",
        "    #after scaling file is too large so run through loop to sep. bands\n",
        "    for band in bands:\n",
        "        geemap.ee_export_image(image_collection.select(band),filename = str(band)+roiname+datename+'_ls8.tif',region = roi)\n",
        "\n",
        "    #show metadata\n",
        "    return geemap.image_props(image_collection)"
      ]
    },
    {
      "cell_type": "code",
      "execution_count": null,
      "metadata": {
        "colab": {
          "base_uri": "https://localhost:8080/",
          "height": 17
        },
        "id": "MPUXa2erKUde",
        "outputId": "c2b0744e-7b8d-4380-8de3-90e397eb5f85"
      },
      "outputs": [
        {
          "output_type": "display_data",
          "data": {
            "text/plain": [
              "<IPython.core.display.HTML object>"
            ],
            "text/html": [
              "\n",
              "            <style>\n",
              "                .geemap-dark {\n",
              "                    --jp-widgets-color: white;\n",
              "                    --jp-widgets-label-color: white;\n",
              "                    --jp-ui-font-color1: white;\n",
              "                    --jp-layout-color2: #454545;\n",
              "                    background-color: #383838;\n",
              "                }\n",
              "                    \n",
              "                .geemap-dark .jupyter-button {\n",
              "                    --jp-layout-color3: #383838;\n",
              "                }\n",
              "                \n",
              "                .geemap-colab {\n",
              "                    background-color: var(--colab-primary-surface-color, white);\n",
              "                }\n",
              "                    \n",
              "                .geemap-colab .jupyter-button {\n",
              "                    --jp-layout-color3: var(--colab-primary-surface-color, white);\n",
              "                }\n",
              "            </style>\n",
              "            "
            ]
          },
          "metadata": {}
        }
      ],
      "source": [
        "# some inspiration # https://docs.dea.ga.gov.au/notebooks/How_to_guides/Opening_GeoTIFFs_NetCDFs.html\n",
        "\n",
        "def geotiff_df(files, roiname):\n",
        "    \"\"\"convert geotiffs to xarrays and create and return one dataframe of all data\"\"\"\n",
        "    # create an empty list to append dataframes to\n",
        "    dfs = []\n",
        "    # read through files\n",
        "    for f in files:\n",
        "        # get variable name\n",
        "        var = f.partition(roiname)[0]\n",
        "        # open into xarray.DataArray\n",
        "        da = rioxarray.open_rasterio(f)\n",
        "        #convert to xarray.Dataset\n",
        "        ds = da.to_dataset('band').rename({1: var})\n",
        "        #convert to dataframe\n",
        "        df = ds.to_dataframe().drop(columns=['spatial_ref'])\n",
        "        # append df to list of dataframes\n",
        "        dfs.append(df)\n",
        "        # # no longer need file, so delete to save space\n",
        "        # del f\n",
        "\n",
        "    return reduce(lambda  left,right: pd.merge(left,right, on=['x','y']), dfs)"
      ]
    },
    {
      "cell_type": "markdown",
      "source": [
        "## Barstow, CA"
      ],
      "metadata": {
        "id": "Cv8HaNQ3XJii"
      }
    },
    {
      "cell_type": "code",
      "source": [
        "# original size (638.2 sqMiles or 1,6553 sqKilometers)\n",
        "barstow_og_polygon = [[\n",
        "                    [-117.234950659999981,35.089222565000057]\n",
        "                   ,[-116.807024866999939,35.087490072000037]\n",
        "                   ,[-116.808567143999994,34.706547820000026]\n",
        "                   ,[-117.236492935999991,34.708280313000046]\n",
        "                    ]]"
      ],
      "metadata": {
        "colab": {
          "base_uri": "https://localhost:8080/",
          "height": 17
        },
        "id": "chJt5W4bXV7h",
        "outputId": "0dc53702-645e-4187-bea7-85b1938a3a81"
      },
      "execution_count": null,
      "outputs": [
        {
          "output_type": "display_data",
          "data": {
            "text/plain": [
              "<IPython.core.display.HTML object>"
            ],
            "text/html": [
              "\n",
              "            <style>\n",
              "                .geemap-dark {\n",
              "                    --jp-widgets-color: white;\n",
              "                    --jp-widgets-label-color: white;\n",
              "                    --jp-ui-font-color1: white;\n",
              "                    --jp-layout-color2: #454545;\n",
              "                    background-color: #383838;\n",
              "                }\n",
              "                    \n",
              "                .geemap-dark .jupyter-button {\n",
              "                    --jp-layout-color3: #383838;\n",
              "                }\n",
              "                \n",
              "                .geemap-colab {\n",
              "                    background-color: var(--colab-primary-surface-color, white);\n",
              "                }\n",
              "                    \n",
              "                .geemap-colab .jupyter-button {\n",
              "                    --jp-layout-color3: var(--colab-primary-surface-color, white);\n",
              "                }\n",
              "            </style>\n",
              "            "
            ]
          },
          "metadata": {}
        }
      ]
    },
    {
      "cell_type": "code",
      "source": [
        "# area 1.5 times larger than original (1,436 sqMiles or 3,719 sqKilometers)\n",
        "barstow_lg_polygon = [[\n",
        "                         [-117.34154653899998, 35.18489125100007]\n",
        "                        ,[-116.69965785, 35.18229251200006]\n",
        "                        ,[-116.70197126499994, 34.61087913400007]\n",
        "                        ,[-117.34385995299999, 34.61347787300008]\n",
        "                          ]]"
      ],
      "metadata": {
        "colab": {
          "base_uri": "https://localhost:8080/",
          "height": 17
        },
        "id": "i9xDeeZlXXV5",
        "outputId": "71505439-a24b-43cc-f514-48151da816ce"
      },
      "execution_count": null,
      "outputs": [
        {
          "output_type": "display_data",
          "data": {
            "text/plain": [
              "<IPython.core.display.HTML object>"
            ],
            "text/html": [
              "\n",
              "            <style>\n",
              "                .geemap-dark {\n",
              "                    --jp-widgets-color: white;\n",
              "                    --jp-widgets-label-color: white;\n",
              "                    --jp-ui-font-color1: white;\n",
              "                    --jp-layout-color2: #454545;\n",
              "                    background-color: #383838;\n",
              "                }\n",
              "                    \n",
              "                .geemap-dark .jupyter-button {\n",
              "                    --jp-layout-color3: #383838;\n",
              "                }\n",
              "                \n",
              "                .geemap-colab {\n",
              "                    background-color: var(--colab-primary-surface-color, white);\n",
              "                }\n",
              "                    \n",
              "                .geemap-colab .jupyter-button {\n",
              "                    --jp-layout-color3: var(--colab-primary-surface-color, white);\n",
              "                }\n",
              "            </style>\n",
              "            "
            ]
          },
          "metadata": {}
        }
      ]
    },
    {
      "cell_type": "code",
      "source": [
        "# smaller area (25.55 sqMiles or 66 sqKilometers)\n",
        "barstow_sm_polygon = [[\n",
        "                         [-117.26037873599995, 34.85258562000007]\n",
        "                        ,[-117.17479357799999, 34.852239121000025]\n",
        "                        ,[-117.17510203299997, 34.776050671000064]\n",
        "                        ,[-117.26068719099999, 34.77639717000005]\n",
        "                          ]]"
      ],
      "metadata": {
        "colab": {
          "base_uri": "https://localhost:8080/",
          "height": 17
        },
        "id": "Ybzplr93XaP6",
        "outputId": "84f21380-facf-43ef-c654-659e945de9e5"
      },
      "execution_count": null,
      "outputs": [
        {
          "output_type": "display_data",
          "data": {
            "text/plain": [
              "<IPython.core.display.HTML object>"
            ],
            "text/html": [
              "\n",
              "            <style>\n",
              "                .geemap-dark {\n",
              "                    --jp-widgets-color: white;\n",
              "                    --jp-widgets-label-color: white;\n",
              "                    --jp-ui-font-color1: white;\n",
              "                    --jp-layout-color2: #454545;\n",
              "                    background-color: #383838;\n",
              "                }\n",
              "                    \n",
              "                .geemap-dark .jupyter-button {\n",
              "                    --jp-layout-color3: #383838;\n",
              "                }\n",
              "                \n",
              "                .geemap-colab {\n",
              "                    background-color: var(--colab-primary-surface-color, white);\n",
              "                }\n",
              "                    \n",
              "                .geemap-colab .jupyter-button {\n",
              "                    --jp-layout-color3: var(--colab-primary-surface-color, white);\n",
              "                }\n",
              "            </style>\n",
              "            "
            ]
          },
          "metadata": {}
        }
      ]
    },
    {
      "cell_type": "markdown",
      "source": [
        "### Obtain Spectral Data"
      ],
      "metadata": {
        "id": "zwWwjKclSqbM"
      }
    },
    {
      "cell_type": "markdown",
      "source": [
        "Need spectral data for the first part of the drought (and as inputs to the model). This time frame is typically early in the season."
      ],
      "metadata": {
        "id": "x4NqIUrCXmzk"
      }
    },
    {
      "cell_type": "code",
      "source": [
        "input_bands = ['SR_B2','SR_B3','SR_B4','SR_B5','SR_B6','SR_B7','ST_B10','NDVI','NDMI','MNDWI','EVI','SAVI','MSAVI','MSI']"
      ],
      "metadata": {
        "colab": {
          "base_uri": "https://localhost:8080/",
          "height": 17
        },
        "id": "0qop69DNXpT5",
        "outputId": "4bb3cc1b-1296-4a3d-da45-a899ac9b9383"
      },
      "execution_count": null,
      "outputs": [
        {
          "output_type": "display_data",
          "data": {
            "text/plain": [
              "<IPython.core.display.HTML object>"
            ],
            "text/html": [
              "\n",
              "            <style>\n",
              "                .geemap-dark {\n",
              "                    --jp-widgets-color: white;\n",
              "                    --jp-widgets-label-color: white;\n",
              "                    --jp-ui-font-color1: white;\n",
              "                    --jp-layout-color2: #454545;\n",
              "                    background-color: #383838;\n",
              "                }\n",
              "                    \n",
              "                .geemap-dark .jupyter-button {\n",
              "                    --jp-layout-color3: #383838;\n",
              "                }\n",
              "                \n",
              "                .geemap-colab {\n",
              "                    background-color: var(--colab-primary-surface-color, white);\n",
              "                }\n",
              "                    \n",
              "                .geemap-colab .jupyter-button {\n",
              "                    --jp-layout-color3: var(--colab-primary-surface-color, white);\n",
              "                }\n",
              "            </style>\n",
              "            "
            ]
          },
          "metadata": {}
        }
      ]
    },
    {
      "cell_type": "markdown",
      "source": [
        "#### Testing and Training Data"
      ],
      "metadata": {
        "id": "hySVHWGjYC1T"
      }
    },
    {
      "cell_type": "code",
      "source": [
        "# Inputs to the function to get the testing and training data\n",
        "# 2017 was the driest year for Barstow so this will be best to use for testing and training\n",
        "\n",
        "save_landsat8(\n",
        "    roi = ee.Geometry.Polygon(barstow_og_polygon),\n",
        "    date_range = ee.DateRange('2017-03-01', '2017-03-31'),\n",
        "    bands = input_bands,\n",
        "    roiname = 'barstow',\n",
        "    datename = 'Mar2017')"
      ],
      "metadata": {
        "id": "A7to_yZxYFkc"
      },
      "execution_count": null,
      "outputs": []
    },
    {
      "cell_type": "code",
      "source": [
        "# Inputs to the function to get the testing and training data but for a smaller area around Barstow\n",
        "# Still using 2017\n",
        "\n",
        "save_landsat8(\n",
        "    roi = ee.Geometry.Polygon(barstow_sm_polygon),\n",
        "    date_range = ee.DateRange('2017-03-01', '2017-03-31'),\n",
        "    bands = input_bands,\n",
        "    roiname = 'barstow_sm',\n",
        "    datename = 'Mar2017')"
      ],
      "metadata": {
        "id": "9LS3Gqp4YJrc"
      },
      "execution_count": null,
      "outputs": []
    },
    {
      "cell_type": "markdown",
      "source": [
        "Landsat Imagery for Barstow Training and Testing is from 2017-03-14"
      ],
      "metadata": {
        "id": "O9KmjRehYMBH"
      }
    },
    {
      "cell_type": "markdown",
      "source": [
        "#### Validation Data"
      ],
      "metadata": {
        "id": "eHkNxRugYPWz"
      }
    },
    {
      "cell_type": "code",
      "source": [
        "# Inputs to the function to get validation data\n",
        "# 2022 was another dry year so this will be good to use for validation\n",
        "\n",
        "save_landsat8(\n",
        "    roi = ee.Geometry.Polygon(barstow_og_polygon),\n",
        "    date_range = ee.DateRange('2022-03-01', '2022-03-31'),\n",
        "    bands = input_bands,\n",
        "    roiname = 'barstow',\n",
        "    datename = 'Mar2022')"
      ],
      "metadata": {
        "id": "r1e5n-JfYOMe"
      },
      "execution_count": null,
      "outputs": []
    },
    {
      "cell_type": "code",
      "source": [
        "# Inputs to the function to get validation data for the smaller area around Barstow\n",
        "# still using 2022\n",
        "\n",
        "save_landsat8(\n",
        "    roi = ee.Geometry.Polygon(barstow_sm_polygon),\n",
        "    date_range = ee.DateRange('2022-03-01', '2022-03-31'),\n",
        "    bands = input_bands,\n",
        "    roiname = 'barstow_sm',\n",
        "    datename = 'Mar2022')"
      ],
      "metadata": {
        "id": "vD8-rD9iYRu6"
      },
      "execution_count": null,
      "outputs": []
    },
    {
      "cell_type": "code",
      "source": [
        "# Inputs to the function to get a larger area for validation but still around Barstow, CA\n",
        "\n",
        "save_landsat8(\n",
        "    roi = ee.Geometry.Polygon(barstow_lg_polygon),\n",
        "    date_range = ee.DateRange('2022-03-01', '2022-03-31'),\n",
        "    bands = input_bands,\n",
        "    roiname = 'barstow_lg',\n",
        "    datename = 'Mar2022')"
      ],
      "metadata": {
        "id": "uFdTZk0sYgLm"
      },
      "execution_count": null,
      "outputs": []
    },
    {
      "cell_type": "markdown",
      "source": [
        "Landsat Imagery for Barstow Validation is from 2022-03-12"
      ],
      "metadata": {
        "id": "B15zItK-Yi9-"
      }
    },
    {
      "cell_type": "markdown",
      "source": [
        "### Create Dataframe of Data"
      ],
      "metadata": {
        "id": "NTmjmIXeYkpP"
      }
    },
    {
      "cell_type": "code",
      "source": [
        "# inputs to function and run the function to create a dataframe for Barstow and Barstow_sm 2017\n",
        "# these are for training and testing\n",
        "\n",
        "roiname='barstow'\n",
        "files = [f for f in os.listdir() if f.endswith('barstowMar2017_ls8.tif')]\n",
        "barstow_2017_df = geotiff_df(files, roiname)\n",
        "\n",
        "roiname='barstow_sm'\n",
        "files = [f for f in os.listdir() if f.endswith('barstow_smMar2017_ls8.tif')]\n",
        "barstow_sm2017_df = geotiff_df(files, roiname)"
      ],
      "metadata": {
        "colab": {
          "base_uri": "https://localhost:8080/",
          "height": 17
        },
        "id": "2Jx3nFojYlkk",
        "outputId": "313e5596-b32e-475d-a5a6-f4d522b81e55"
      },
      "execution_count": null,
      "outputs": [
        {
          "output_type": "display_data",
          "data": {
            "text/plain": [
              "<IPython.core.display.HTML object>"
            ],
            "text/html": [
              "\n",
              "            <style>\n",
              "                .geemap-dark {\n",
              "                    --jp-widgets-color: white;\n",
              "                    --jp-widgets-label-color: white;\n",
              "                    --jp-ui-font-color1: white;\n",
              "                    --jp-layout-color2: #454545;\n",
              "                    background-color: #383838;\n",
              "                }\n",
              "                    \n",
              "                .geemap-dark .jupyter-button {\n",
              "                    --jp-layout-color3: #383838;\n",
              "                }\n",
              "                \n",
              "                .geemap-colab {\n",
              "                    background-color: var(--colab-primary-surface-color, white);\n",
              "                }\n",
              "                    \n",
              "                .geemap-colab .jupyter-button {\n",
              "                    --jp-layout-color3: var(--colab-primary-surface-color, white);\n",
              "                }\n",
              "            </style>\n",
              "            "
            ]
          },
          "metadata": {}
        }
      ]
    },
    {
      "cell_type": "code",
      "source": [
        "# inputs to function and run the function to create a dataframe for Barstow, Barstow_lg, and Barstow_sm 2022\n",
        "# these are for validation\n",
        "\n",
        "roiname='barstow'\n",
        "files = [f for f in os.listdir() if f.endswith('barstowMar2022_ls8.tif')]\n",
        "barstow_2022_df = geotiff_df(files, roiname)\n",
        "\n",
        "roiname='barstow_sm'\n",
        "files = [f for f in os.listdir() if f.endswith('barstow_smMar2022_ls8.tif')]\n",
        "barstow_sm2022_df = geotiff_df(files, roiname)\n",
        "\n",
        "roiname='barstow_lg'\n",
        "files = [f for f in os.listdir() if f.endswith('barstow_lgMar2022_ls8.tif')]\n",
        "barstow_lg2022_df = geotiff_df(files, roiname)"
      ],
      "metadata": {
        "colab": {
          "base_uri": "https://localhost:8080/",
          "height": 17
        },
        "id": "w9PZ9qK3YpkS",
        "outputId": "c9aa8902-6b33-4ca1-ce74-fac4b76f7695"
      },
      "execution_count": null,
      "outputs": [
        {
          "output_type": "display_data",
          "data": {
            "text/plain": [
              "<IPython.core.display.HTML object>"
            ],
            "text/html": [
              "\n",
              "            <style>\n",
              "                .geemap-dark {\n",
              "                    --jp-widgets-color: white;\n",
              "                    --jp-widgets-label-color: white;\n",
              "                    --jp-ui-font-color1: white;\n",
              "                    --jp-layout-color2: #454545;\n",
              "                    background-color: #383838;\n",
              "                }\n",
              "                    \n",
              "                .geemap-dark .jupyter-button {\n",
              "                    --jp-layout-color3: #383838;\n",
              "                }\n",
              "                \n",
              "                .geemap-colab {\n",
              "                    background-color: var(--colab-primary-surface-color, white);\n",
              "                }\n",
              "                    \n",
              "                .geemap-colab .jupyter-button {\n",
              "                    --jp-layout-color3: var(--colab-primary-surface-color, white);\n",
              "                }\n",
              "            </style>\n",
              "            "
            ]
          },
          "metadata": {}
        }
      ]
    },
    {
      "cell_type": "markdown",
      "source": [
        "### Elevation Data"
      ],
      "metadata": {
        "id": "qF2uMRI5Ysij"
      }
    },
    {
      "cell_type": "markdown",
      "source": [
        "Using Esri's ArcGIS Pro, imported an example geotiff (one that was retrieved above) to Esri for the area of interest. Terrain derivatives created from Digital Terrain Model (DTM) are available in Esri. Added slope and aspect layers (description of data: https://www.arcgis.com/home/item.html?id=58a541efc59545e6b7137f961d7de883) to the map and exported the raster data using the imported geotiff for the extent, the coordinate system, and the raster properties (looked at the Source properties, raster information to get number of columns and rows or alternately cell size) and maintained clipping extent. Then, still within Esri, created a csv of the data to import here."
      ],
      "metadata": {
        "id": "cPWO-154Yu-p"
      }
    },
    {
      "cell_type": "code",
      "source": [
        "# Terrain: slope and aspect\n",
        "# import csv but without first column of OIDs (ESRI byproduct)\n",
        "# https://www.statology.org/pandas-read-csv-ignore-first-column/\n",
        "# slope values are in degrees and aspect values are in cardinal direction with 361 as flat ground.\n",
        "\n",
        "# Barstow area\n",
        "with open('/content/data/barstow_dem_var.csv') as x:\n",
        "    ncols = len(x.readline().split(','))\n",
        "barstow_dem_var = pd.read_csv('/content/data/barstow_dem_var.csv', usecols=range(1,ncols))\n",
        "\n",
        "# Barstow smaller area\n",
        "with open('/content/data/barstowsm_dem_var.csv') as x:\n",
        "    ncols = len(x.readline().split(','))\n",
        "barstow_smdem_var = pd.read_csv('/content/data/barstowsm_dem_var.csv', usecols=range(1,ncols))\n",
        "\n",
        "# Barstow 1.5 times larger area\n",
        "with open('/content/data/barstowlg_dem_var.csv') as x:\n",
        "    ncols = len(x.readline().split(','))\n",
        "barstow_lgdem_var = pd.read_csv('/content/data/barstowlg_dem_var.csv', usecols=range(1,ncols))"
      ],
      "metadata": {
        "colab": {
          "base_uri": "https://localhost:8080/",
          "height": 17
        },
        "id": "bHNt6-UkY0P3",
        "outputId": "dccc6475-6b8a-44ac-e318-4466a8718a83"
      },
      "execution_count": null,
      "outputs": [
        {
          "output_type": "display_data",
          "data": {
            "text/plain": [
              "<IPython.core.display.HTML object>"
            ],
            "text/html": [
              "\n",
              "            <style>\n",
              "                .geemap-dark {\n",
              "                    --jp-widgets-color: white;\n",
              "                    --jp-widgets-label-color: white;\n",
              "                    --jp-ui-font-color1: white;\n",
              "                    --jp-layout-color2: #454545;\n",
              "                    background-color: #383838;\n",
              "                }\n",
              "                    \n",
              "                .geemap-dark .jupyter-button {\n",
              "                    --jp-layout-color3: #383838;\n",
              "                }\n",
              "                \n",
              "                .geemap-colab {\n",
              "                    background-color: var(--colab-primary-surface-color, white);\n",
              "                }\n",
              "                    \n",
              "                .geemap-colab .jupyter-button {\n",
              "                    --jp-layout-color3: var(--colab-primary-surface-color, white);\n",
              "                }\n",
              "            </style>\n",
              "            "
            ]
          },
          "metadata": {}
        }
      ]
    },
    {
      "cell_type": "code",
      "source": [
        "# merge data dataframes with appropriate dem variables df\n",
        "\n",
        "#2017 data\n",
        "barstow_Mar2017_df = pd.merge(barstow_dem_var, barstow_2017_df, how='left', left_on=['X','Y'], right_on = ['x','y'])\n",
        "barstow_Mar2017_df.rename(columns={'barstow_aspect': 'aspect', 'barstow_slope': 'slope'}, inplace=True)\n",
        "\n",
        "#2017 data for smaller area\n",
        "barstow_smMar2017_df = pd.merge(barstow_smdem_var, barstow_sm2017_df, how='left', left_on=['X','Y'], right_on = ['x','y'])\n",
        "barstow_smMar2017_df.rename(columns={'barstowsm_aspect_Band_1': 'aspect', 'barstowsm_slope_Band_1': 'slope'}, inplace=True)\n",
        "\n",
        "\n",
        "#2022 data\n",
        "barstow_Mar2022_df = pd.merge(barstow_dem_var, barstow_2022_df, how='left', left_on=['X','Y'], right_on = ['x','y'])\n",
        "barstow_Mar2022_df.rename(columns={'barstow_aspect': 'aspect', 'barstow_slope': 'slope'}, inplace=True)\n",
        "\n",
        "#2022 data for smaller area\n",
        "barstow_smMar2022_df = pd.merge(barstow_smdem_var, barstow_sm2022_df, how='left', left_on=['X','Y'], right_on = ['x','y'])\n",
        "barstow_smMar2022_df.rename(columns={'barstowsm_aspect_Band_1': 'aspect', 'barstowsm_slope_Band_1': 'slope'}, inplace=True)\n",
        "\n",
        "#2022 data for larger, extended area\n",
        "barstow_lgMar2022_df = pd.merge(barstow_lgdem_var, barstow_lg2022_df, how='left', left_on=['X','Y'], right_on = ['x','y'])\n",
        "barstow_lgMar2022_df.rename(columns={'barstow1pt5_aspect': 'aspect', 'barstow1pt5_slope': 'slope'}, inplace=True)"
      ],
      "metadata": {
        "colab": {
          "base_uri": "https://localhost:8080/",
          "height": 17
        },
        "id": "jb-4O1dWZK5H",
        "outputId": "9c6e33bf-a031-47e4-8039-0cd43376d98b"
      },
      "execution_count": null,
      "outputs": [
        {
          "output_type": "display_data",
          "data": {
            "text/plain": [
              "<IPython.core.display.HTML object>"
            ],
            "text/html": [
              "\n",
              "            <style>\n",
              "                .geemap-dark {\n",
              "                    --jp-widgets-color: white;\n",
              "                    --jp-widgets-label-color: white;\n",
              "                    --jp-ui-font-color1: white;\n",
              "                    --jp-layout-color2: #454545;\n",
              "                    background-color: #383838;\n",
              "                }\n",
              "                    \n",
              "                .geemap-dark .jupyter-button {\n",
              "                    --jp-layout-color3: #383838;\n",
              "                }\n",
              "                \n",
              "                .geemap-colab {\n",
              "                    background-color: var(--colab-primary-surface-color, white);\n",
              "                }\n",
              "                    \n",
              "                .geemap-colab .jupyter-button {\n",
              "                    --jp-layout-color3: var(--colab-primary-surface-color, white);\n",
              "                }\n",
              "            </style>\n",
              "            "
            ]
          },
          "metadata": {}
        }
      ]
    },
    {
      "cell_type": "markdown",
      "source": [
        "### SMI Data"
      ],
      "metadata": {
        "id": "AXP56QL2ZNqv"
      }
    },
    {
      "cell_type": "markdown",
      "source": [
        "The target variable for the last part of the drought, the Soil Moisture Index, was calculated in ArcGIS Pro and brought into this workspace.  The data for the last part of the drought is typically several months later, so usually in June, July, or August.\n",
        "Using Esri's ArcGIS Pro, imported geotiffs of a cloud free image of Bands 4, 5, 10, 11 from Landsat OLI/TIRS C2 L1 from https://earthexplorer.usgs.gov for the region of interest. Performed raster calculations based on https://www.youtube.com/watch?v=KeIYja7CaFg of the method that is referenced by our inspiration study in Korea and detailed in the paper here: https://ieeexplore.ieee.org/document/1370089. SMI was calculated accordingly and brought into Python to join with input data from March."
      ],
      "metadata": {
        "id": "fmr-ThkLZP_V"
      }
    },
    {
      "cell_type": "code",
      "source": [
        "# import csv but without first column of OIDs (ESRI byproduct)\n",
        "# https://www.statology.org/pandas-read-csv-ignore-first-column/\n",
        "# soil moisture values range from 0 (dry) to 1 (wet)\n",
        "\n",
        "# 2017 - Training and Testing - Data from June 18, 2017\n",
        "# original area\n",
        "with open('/content/data/smi_barstow_2017.csv') as x:\n",
        "    ncols = len(x.readline().split(','))\n",
        "smi_barstow_2017 = pd.read_csv('/content/data/smi_barstow_2017.csv', usecols=range(1,ncols))\n",
        "smi_barstow_2017.rename(columns = {'smi_17_Band_1': 'smi'}, inplace=True)\n",
        "\n",
        "# smaller area\n",
        "with open('/content/data/smi_barstowsm_2017.csv') as x:\n",
        "    ncols = len(x.readline().split(','))\n",
        "smi_barstowsm_2017 = pd.read_csv('/content/data/smi_barstowsm_2017.csv', usecols=range(1,ncols))\n",
        "smi_barstowsm_2017.rename(columns = {'smi_sm17_Band_1': 'smi'}, inplace=True)\n",
        "\n",
        "\n",
        "# 2022 - Validation - Data from July 2, 2022\n",
        "# original area\n",
        "with open('/content/data/smi_barstow_2022.csv') as x:\n",
        "    ncols = len(x.readline().split(','))\n",
        "smi_barstow_2022 = pd.read_csv('/content/data/smi_barstow_2022.csv', usecols=range(1,ncols))\n",
        "smi_barstow_2022.rename(columns = {'smi_clip22_Band_1': 'smi'}, inplace=True)\n",
        "\n",
        "# smaller area\n",
        "with open('/content/data/smi_barstowsm_2022.csv') as x:\n",
        "    ncols = len(x.readline().split(','))\n",
        "smi_barstowsm_2022 = pd.read_csv('/content/data/smi_barstowsm_2022.csv', usecols=range(1,ncols))\n",
        "smi_barstowsm_2022.rename(columns = {'smi_sm22_Band_1': 'smi'}, inplace=True)\n",
        "\n",
        "# larger, extended area\n",
        "with open('/content/data/smi_barstowlg_2022.csv') as x:\n",
        "    ncols = len(x.readline().split(','))\n",
        "smi_barstowlg_2022 = pd.read_csv('/content/data/smi_barstowlg_2022.csv', usecols=range(1,ncols))\n",
        "smi_barstowlg_2022.rename(columns = {'smi_22_Band_1': 'smi'}, inplace=True)"
      ],
      "metadata": {
        "colab": {
          "base_uri": "https://localhost:8080/",
          "height": 17
        },
        "id": "nqpnjZX4ZSnj",
        "outputId": "366bda8c-4a70-4c2c-dd39-91215eeeb91c"
      },
      "execution_count": null,
      "outputs": [
        {
          "output_type": "display_data",
          "data": {
            "text/plain": [
              "<IPython.core.display.HTML object>"
            ],
            "text/html": [
              "\n",
              "            <style>\n",
              "                .geemap-dark {\n",
              "                    --jp-widgets-color: white;\n",
              "                    --jp-widgets-label-color: white;\n",
              "                    --jp-ui-font-color1: white;\n",
              "                    --jp-layout-color2: #454545;\n",
              "                    background-color: #383838;\n",
              "                }\n",
              "                    \n",
              "                .geemap-dark .jupyter-button {\n",
              "                    --jp-layout-color3: #383838;\n",
              "                }\n",
              "                \n",
              "                .geemap-colab {\n",
              "                    background-color: var(--colab-primary-surface-color, white);\n",
              "                }\n",
              "                    \n",
              "                .geemap-colab .jupyter-button {\n",
              "                    --jp-layout-color3: var(--colab-primary-surface-color, white);\n",
              "                }\n",
              "            </style>\n",
              "            "
            ]
          },
          "metadata": {}
        }
      ]
    },
    {
      "cell_type": "code",
      "source": [
        "#merge smi with data\n",
        "barstow_2017 = pd.merge(barstow_Mar2017_df, smi_barstow_2017)\n",
        "barstow_sm_2017 = pd.merge(barstow_smMar2017_df, smi_barstowsm_2017)\n",
        "barstow_2022 = pd.merge(barstow_Mar2022_df, smi_barstow_2022)\n",
        "barstow_sm_2022 = pd.merge(barstow_smMar2022_df, smi_barstowsm_2022)\n",
        "barstow_lg_2022 = pd.merge(barstow_lgMar2022_df, smi_barstowlg_2022)"
      ],
      "metadata": {
        "colab": {
          "base_uri": "https://localhost:8080/",
          "height": 17
        },
        "id": "2FSxAaLsZm38",
        "outputId": "115c5b83-b28f-4780-d629-166b4f78633b"
      },
      "execution_count": null,
      "outputs": [
        {
          "output_type": "display_data",
          "data": {
            "text/plain": [
              "<IPython.core.display.HTML object>"
            ],
            "text/html": [
              "\n",
              "            <style>\n",
              "                .geemap-dark {\n",
              "                    --jp-widgets-color: white;\n",
              "                    --jp-widgets-label-color: white;\n",
              "                    --jp-ui-font-color1: white;\n",
              "                    --jp-layout-color2: #454545;\n",
              "                    background-color: #383838;\n",
              "                }\n",
              "                    \n",
              "                .geemap-dark .jupyter-button {\n",
              "                    --jp-layout-color3: #383838;\n",
              "                }\n",
              "                \n",
              "                .geemap-colab {\n",
              "                    background-color: var(--colab-primary-surface-color, white);\n",
              "                }\n",
              "                    \n",
              "                .geemap-colab .jupyter-button {\n",
              "                    --jp-layout-color3: var(--colab-primary-surface-color, white);\n",
              "                }\n",
              "            </style>\n",
              "            "
            ]
          },
          "metadata": {}
        }
      ]
    },
    {
      "cell_type": "markdown",
      "source": [
        "### Export Finalized Data to CSV"
      ],
      "metadata": {
        "id": "2fWQADQTZoVr"
      }
    },
    {
      "cell_type": "code",
      "source": [
        "# barstow_2017.to_csv('/content/data/barstow_2017.csv', index=False)\n",
        "# barstow_sm_2017.to_csv('/content/data/barstow_sm_2017.csv', index=False)\n",
        "# barstow_2022.to_csv('/content/data/barstow_2022.csv', index=False)\n",
        "# barstow_sm_2022.to_csv('/content/data/barstow_sm_2022.csv', index=False)\n",
        "# barstow_lg_2022.to_csv('/content/data/Barstow/barstow_lg_2022.csv', index=False)"
      ],
      "metadata": {
        "colab": {
          "base_uri": "https://localhost:8080/",
          "height": 17
        },
        "id": "7CgcC7aSZq_E",
        "outputId": "3627ea2c-a881-44a4-e157-6fed5f631129"
      },
      "execution_count": null,
      "outputs": [
        {
          "output_type": "display_data",
          "data": {
            "text/plain": [
              "<IPython.core.display.HTML object>"
            ],
            "text/html": [
              "\n",
              "            <style>\n",
              "                .geemap-dark {\n",
              "                    --jp-widgets-color: white;\n",
              "                    --jp-widgets-label-color: white;\n",
              "                    --jp-ui-font-color1: white;\n",
              "                    --jp-layout-color2: #454545;\n",
              "                    background-color: #383838;\n",
              "                }\n",
              "                    \n",
              "                .geemap-dark .jupyter-button {\n",
              "                    --jp-layout-color3: #383838;\n",
              "                }\n",
              "                \n",
              "                .geemap-colab {\n",
              "                    background-color: var(--colab-primary-surface-color, white);\n",
              "                }\n",
              "                    \n",
              "                .geemap-colab .jupyter-button {\n",
              "                    --jp-layout-color3: var(--colab-primary-surface-color, white);\n",
              "                }\n",
              "            </style>\n",
              "            "
            ]
          },
          "metadata": {}
        }
      ]
    },
    {
      "cell_type": "markdown",
      "source": [
        "## Three Rivers, CA"
      ],
      "metadata": {
        "id": "TZ20wsxUZuIe"
      }
    },
    {
      "cell_type": "code",
      "source": [
        "# area is 14.06 sqMiles or 36 sqKilometers\n",
        "ThreeRivers_polygon = [[\n",
        "                         [-118.89959054,36.48577439]\n",
        "                        ,[-118.8270702,36.4862047]\n",
        "                        ,[-118.82660683,36.43570829]\n",
        "                        ,[-118.89912718,36.43527771]\n",
        "                        ]]"
      ],
      "metadata": {
        "colab": {
          "base_uri": "https://localhost:8080/",
          "height": 17
        },
        "id": "XYs3b4PnZwqt",
        "outputId": "6e9a4cd8-2b3a-40f0-efbd-8567fc7021b8"
      },
      "execution_count": null,
      "outputs": [
        {
          "output_type": "display_data",
          "data": {
            "text/plain": [
              "<IPython.core.display.HTML object>"
            ],
            "text/html": [
              "\n",
              "            <style>\n",
              "                .geemap-dark {\n",
              "                    --jp-widgets-color: white;\n",
              "                    --jp-widgets-label-color: white;\n",
              "                    --jp-ui-font-color1: white;\n",
              "                    --jp-layout-color2: #454545;\n",
              "                    background-color: #383838;\n",
              "                }\n",
              "                    \n",
              "                .geemap-dark .jupyter-button {\n",
              "                    --jp-layout-color3: #383838;\n",
              "                }\n",
              "                \n",
              "                .geemap-colab {\n",
              "                    background-color: var(--colab-primary-surface-color, white);\n",
              "                }\n",
              "                    \n",
              "                .geemap-colab .jupyter-button {\n",
              "                    --jp-layout-color3: var(--colab-primary-surface-color, white);\n",
              "                }\n",
              "            </style>\n",
              "            "
            ]
          },
          "metadata": {}
        }
      ]
    },
    {
      "cell_type": "markdown",
      "source": [
        "### Obtain Spectral Data"
      ],
      "metadata": {
        "id": "0id-TmO4Z0NC"
      }
    },
    {
      "cell_type": "markdown",
      "source": [
        "Need spectral data for the first part of the drought (and as inputs to the model). This time frame is typically early in the season."
      ],
      "metadata": {
        "id": "zMEpNNg0Z2R6"
      }
    },
    {
      "cell_type": "code",
      "source": [
        "input_bands = ['SR_B2','SR_B3','SR_B4','SR_B5','SR_B6','SR_B7','ST_B10','NDVI','NDMI','MNDWI','EVI','SAVI','MSAVI','MSI']"
      ],
      "metadata": {
        "colab": {
          "base_uri": "https://localhost:8080/",
          "height": 17
        },
        "id": "pXvZDRNlZzes",
        "outputId": "c8f063ef-9d2a-4d39-cba2-860a302410d2"
      },
      "execution_count": null,
      "outputs": [
        {
          "output_type": "display_data",
          "data": {
            "text/plain": [
              "<IPython.core.display.HTML object>"
            ],
            "text/html": [
              "\n",
              "            <style>\n",
              "                .geemap-dark {\n",
              "                    --jp-widgets-color: white;\n",
              "                    --jp-widgets-label-color: white;\n",
              "                    --jp-ui-font-color1: white;\n",
              "                    --jp-layout-color2: #454545;\n",
              "                    background-color: #383838;\n",
              "                }\n",
              "                    \n",
              "                .geemap-dark .jupyter-button {\n",
              "                    --jp-layout-color3: #383838;\n",
              "                }\n",
              "                \n",
              "                .geemap-colab {\n",
              "                    background-color: var(--colab-primary-surface-color, white);\n",
              "                }\n",
              "                    \n",
              "                .geemap-colab .jupyter-button {\n",
              "                    --jp-layout-color3: var(--colab-primary-surface-color, white);\n",
              "                }\n",
              "            </style>\n",
              "            "
            ]
          },
          "metadata": {}
        }
      ]
    },
    {
      "cell_type": "markdown",
      "source": [
        "#### Testing and Training Data"
      ],
      "metadata": {
        "id": "pzsGMPr-Z7KO"
      }
    },
    {
      "cell_type": "code",
      "source": [
        "# Inputs to the function to get testing and training data for Three Rivers\n",
        "# 2022 was the driest year so this will be best to use for testing and training\n",
        "\n",
        "save_landsat8(\n",
        "    roi = ee.Geometry.Polygon(ThreeRivers_polygon),\n",
        "    date_range = ee.DateRange('2022-05-01', '2022-05-31'),\n",
        "    bands = input_bands,\n",
        "    roiname = 'ThreeRivers',\n",
        "    datename = 'May2022')"
      ],
      "metadata": {
        "id": "Ols5sy1JZ6Rj"
      },
      "execution_count": null,
      "outputs": []
    },
    {
      "cell_type": "markdown",
      "source": [
        "Landsat Imagery for Three Rivers Training and Testing is from 2022-05-13"
      ],
      "metadata": {
        "id": "-8RcPdbCZ_LG"
      }
    },
    {
      "cell_type": "markdown",
      "source": [
        "#### Validation Data"
      ],
      "metadata": {
        "id": "EtKgSVGCaByF"
      }
    },
    {
      "cell_type": "code",
      "source": [
        "# Inputs to the function to get validation data\n",
        "# 2021 was another dry year so this will be good to use for validation\n",
        "\n",
        "save_landsat8(\n",
        "    roi = ee.Geometry.Polygon(ThreeRivers_polygon),\n",
        "    date_range = ee.DateRange('2021-06-01', '2021-06-30'),\n",
        "    bands = input_bands,\n",
        "    roiname = 'ThreeRivers',\n",
        "    datename = 'June2021')"
      ],
      "metadata": {
        "id": "6g8FmB5gZ-dy"
      },
      "execution_count": null,
      "outputs": []
    },
    {
      "cell_type": "markdown",
      "source": [
        "Landsat Imagery for Three Rivers Validation is from 2021-06-11"
      ],
      "metadata": {
        "id": "r3fVaj0baG_9"
      }
    },
    {
      "cell_type": "markdown",
      "source": [
        "### Create Dataframe of Data"
      ],
      "metadata": {
        "id": "Au6D-2nHaJZf"
      }
    },
    {
      "cell_type": "code",
      "source": [
        "# inputs to function and run the function to create a dataframe for ThreeRivers 2022\n",
        "# these are for training and testing\n",
        "\n",
        "roiname='ThreeRivers'\n",
        "files = [f for f in os.listdir() if f.endswith('ThreeRiversMay2022_ls8.tif')]\n",
        "ThreeRivers_2022_df = geotiff_df(files, roiname)"
      ],
      "metadata": {
        "colab": {
          "base_uri": "https://localhost:8080/",
          "height": 17
        },
        "id": "e3b8-0AraL8f",
        "outputId": "74820279-9e0e-4bb8-dfd7-aadc7de781d7"
      },
      "execution_count": null,
      "outputs": [
        {
          "output_type": "display_data",
          "data": {
            "text/plain": [
              "<IPython.core.display.HTML object>"
            ],
            "text/html": [
              "\n",
              "            <style>\n",
              "                .geemap-dark {\n",
              "                    --jp-widgets-color: white;\n",
              "                    --jp-widgets-label-color: white;\n",
              "                    --jp-ui-font-color1: white;\n",
              "                    --jp-layout-color2: #454545;\n",
              "                    background-color: #383838;\n",
              "                }\n",
              "                    \n",
              "                .geemap-dark .jupyter-button {\n",
              "                    --jp-layout-color3: #383838;\n",
              "                }\n",
              "                \n",
              "                .geemap-colab {\n",
              "                    background-color: var(--colab-primary-surface-color, white);\n",
              "                }\n",
              "                    \n",
              "                .geemap-colab .jupyter-button {\n",
              "                    --jp-layout-color3: var(--colab-primary-surface-color, white);\n",
              "                }\n",
              "            </style>\n",
              "            "
            ]
          },
          "metadata": {}
        }
      ]
    },
    {
      "cell_type": "code",
      "source": [
        "# inputs to function and run the function to create a dataframe for ThreeRivers 2021\n",
        "# these are for validation\n",
        "\n",
        "roiname='ThreeRivers'\n",
        "files = [f for f in os.listdir() if f.endswith('ThreeRiversJune2021_ls8.tif')]\n",
        "ThreeRivers_2021_df = geotiff_df(files, roiname)"
      ],
      "metadata": {
        "colab": {
          "base_uri": "https://localhost:8080/",
          "height": 17
        },
        "id": "a5v3tCEmaPOT",
        "outputId": "305644ac-9dce-4dde-89f9-161c4f2a2518"
      },
      "execution_count": null,
      "outputs": [
        {
          "output_type": "display_data",
          "data": {
            "text/plain": [
              "<IPython.core.display.HTML object>"
            ],
            "text/html": [
              "\n",
              "            <style>\n",
              "                .geemap-dark {\n",
              "                    --jp-widgets-color: white;\n",
              "                    --jp-widgets-label-color: white;\n",
              "                    --jp-ui-font-color1: white;\n",
              "                    --jp-layout-color2: #454545;\n",
              "                    background-color: #383838;\n",
              "                }\n",
              "                    \n",
              "                .geemap-dark .jupyter-button {\n",
              "                    --jp-layout-color3: #383838;\n",
              "                }\n",
              "                \n",
              "                .geemap-colab {\n",
              "                    background-color: var(--colab-primary-surface-color, white);\n",
              "                }\n",
              "                    \n",
              "                .geemap-colab .jupyter-button {\n",
              "                    --jp-layout-color3: var(--colab-primary-surface-color, white);\n",
              "                }\n",
              "            </style>\n",
              "            "
            ]
          },
          "metadata": {}
        }
      ]
    },
    {
      "cell_type": "markdown",
      "source": [
        "### Elevation Data"
      ],
      "metadata": {
        "id": "XzR2VXRMaQ68"
      }
    },
    {
      "cell_type": "markdown",
      "source": [
        "Using Esri's ArcGIS Pro, imported an example geotiff (one that was retrieved above) to Esri for the area of interest. Terrain derivatives created from Digital Terrain Model (DTM) are available in Esri. Added slope and aspect layers (description of data: https://www.arcgis.com/home/item.html?id=58a541efc59545e6b7137f961d7de883) to the map and exported the raster data using the imported geotiff for the extent, the coordinate system, and the raster properties (looked at the Source properties, raster information to get number of columns and rows or alternately cell size) and maintained clipping extent. Then, still within Esri, created a csv of the data to import here."
      ],
      "metadata": {
        "id": "ZG1xBcrbaUWl"
      }
    },
    {
      "cell_type": "code",
      "source": [
        "# Terrain: slope and aspect\n",
        "# import csv but without first column of OIDs (ESRI byproduct)\n",
        "# https://www.statology.org/pandas-read-csv-ignore-first-column/\n",
        "# slope values are in degrees and aspect values are in cardinal direction with 361 as flat ground.\n",
        "\n",
        "# ThreeRivers area\n",
        "with open('/content/data/threerivers_dem_var.csv') as x:\n",
        "    ncols = len(x.readline().split(','))\n",
        "threerivers_dem_var = pd.read_csv('/content/data/threerivers_dem_var.csv', usecols=range(1,ncols))"
      ],
      "metadata": {
        "colab": {
          "base_uri": "https://localhost:8080/",
          "height": 17
        },
        "id": "5XFEvh66aXMm",
        "outputId": "e8272791-f987-49b2-8ff1-fea03b2bfca3"
      },
      "execution_count": null,
      "outputs": [
        {
          "output_type": "display_data",
          "data": {
            "text/plain": [
              "<IPython.core.display.HTML object>"
            ],
            "text/html": [
              "\n",
              "            <style>\n",
              "                .geemap-dark {\n",
              "                    --jp-widgets-color: white;\n",
              "                    --jp-widgets-label-color: white;\n",
              "                    --jp-ui-font-color1: white;\n",
              "                    --jp-layout-color2: #454545;\n",
              "                    background-color: #383838;\n",
              "                }\n",
              "                    \n",
              "                .geemap-dark .jupyter-button {\n",
              "                    --jp-layout-color3: #383838;\n",
              "                }\n",
              "                \n",
              "                .geemap-colab {\n",
              "                    background-color: var(--colab-primary-surface-color, white);\n",
              "                }\n",
              "                    \n",
              "                .geemap-colab .jupyter-button {\n",
              "                    --jp-layout-color3: var(--colab-primary-surface-color, white);\n",
              "                }\n",
              "            </style>\n",
              "            "
            ]
          },
          "metadata": {}
        }
      ]
    },
    {
      "cell_type": "code",
      "source": [
        "# merge data dataframes with appropriate dem variables df\n",
        "\n",
        "#2021 data\n",
        "ThreeRivers_June2021_df = pd.merge(threerivers_dem_var, ThreeRivers_2021_df, how='left', left_on=['X','Y'], right_on = ['x','y'])\n",
        "ThreeRivers_June2021_df.rename(columns={'aspect_Band_1': 'aspect', 'slope_Band_1': 'slope'}, inplace=True)\n",
        "\n",
        "#2022 data\n",
        "ThreeRivers_May2022_df = pd.merge(threerivers_dem_var, ThreeRivers_2022_df, how='left', left_on=['X','Y'], right_on = ['x','y'])\n",
        "ThreeRivers_May2022_df.rename(columns={'aspect_Band_1': 'aspect', 'slope_Band_1': 'slope'}, inplace=True)"
      ],
      "metadata": {
        "colab": {
          "base_uri": "https://localhost:8080/",
          "height": 17
        },
        "id": "1KfvYN3sadcZ",
        "outputId": "92de028d-9083-4f53-d8ac-59141ce6138b"
      },
      "execution_count": null,
      "outputs": [
        {
          "output_type": "display_data",
          "data": {
            "text/plain": [
              "<IPython.core.display.HTML object>"
            ],
            "text/html": [
              "\n",
              "            <style>\n",
              "                .geemap-dark {\n",
              "                    --jp-widgets-color: white;\n",
              "                    --jp-widgets-label-color: white;\n",
              "                    --jp-ui-font-color1: white;\n",
              "                    --jp-layout-color2: #454545;\n",
              "                    background-color: #383838;\n",
              "                }\n",
              "                    \n",
              "                .geemap-dark .jupyter-button {\n",
              "                    --jp-layout-color3: #383838;\n",
              "                }\n",
              "                \n",
              "                .geemap-colab {\n",
              "                    background-color: var(--colab-primary-surface-color, white);\n",
              "                }\n",
              "                    \n",
              "                .geemap-colab .jupyter-button {\n",
              "                    --jp-layout-color3: var(--colab-primary-surface-color, white);\n",
              "                }\n",
              "            </style>\n",
              "            "
            ]
          },
          "metadata": {}
        }
      ]
    },
    {
      "cell_type": "markdown",
      "source": [
        "### SMI Data"
      ],
      "metadata": {
        "id": "qqBWnaTfagrW"
      }
    },
    {
      "cell_type": "markdown",
      "source": [
        "The target variable for the last part of the drought, the Soil Moisture Index, was calculated in ArcGIS Pro and brought into this workspace.  The data for the last part of the drought is typically several months later, so usually in June, July, or August.\n",
        "Using Esri's ArcGIS Pro, imported geotiffs of a cloud free image of Bands 4, 5, 10, 11 from Landsat OLI/TIRS C2 L1 from https://earthexplorer.usgs.gov for the region of interest. Performed raster calculations based on https://www.youtube.com/watch?v=KeIYja7CaFg of the method that is referenced by our inspiration study in Korea and detailed in the paper here: https://ieeexplore.ieee.org/document/1370089. SMI was calculated accordingly and brought into Python to join with input data from March."
      ],
      "metadata": {
        "id": "BDKoLmB1ajhx"
      }
    },
    {
      "cell_type": "code",
      "source": [
        "# import csv but without first column of OIDs (ESRI byproduct)\n",
        "# https://www.statology.org/pandas-read-csv-ignore-first-column/\n",
        "# soil moisture values range from 0 (dry) to 1 (wet)\n",
        "\n",
        "# #2022 - Training and Testing - Data from July 16, 2022\n",
        "with open('/content/data/smi_ThreeRivers_2022.csv') as x:\n",
        "    ncols = len(x.readline().split(','))\n",
        "smi_ThreeRivers_2022 = pd.read_csv('/content/data/smi_ThreeRivers_2022.csv', usecols=range(1,ncols))\n",
        "smi_ThreeRivers_2022.rename(columns = {'smi22_Clip_Band_1': 'smi'}, inplace=True)\n",
        "\n",
        "# #2021 - Validation - Data from August 30, 2021\n",
        "with open('/content/data/smi_ThreeRivers_2021.csv') as x:\n",
        "    ncols = len(x.readline().split(','))\n",
        "smi_ThreeRivers_2021 = pd.read_csv('/content/data/smi_ThreeRivers_2021.csv', usecols=range(1,ncols))\n",
        "smi_ThreeRivers_2021.rename(columns = {'smi21_Clip_Band_1': 'smi'}, inplace=True)"
      ],
      "metadata": {
        "colab": {
          "base_uri": "https://localhost:8080/",
          "height": 17
        },
        "id": "iAgvrBBIal4W",
        "outputId": "56a632e9-788b-4604-8fa0-14b8e4983f98"
      },
      "execution_count": null,
      "outputs": [
        {
          "output_type": "display_data",
          "data": {
            "text/plain": [
              "<IPython.core.display.HTML object>"
            ],
            "text/html": [
              "\n",
              "            <style>\n",
              "                .geemap-dark {\n",
              "                    --jp-widgets-color: white;\n",
              "                    --jp-widgets-label-color: white;\n",
              "                    --jp-ui-font-color1: white;\n",
              "                    --jp-layout-color2: #454545;\n",
              "                    background-color: #383838;\n",
              "                }\n",
              "                    \n",
              "                .geemap-dark .jupyter-button {\n",
              "                    --jp-layout-color3: #383838;\n",
              "                }\n",
              "                \n",
              "                .geemap-colab {\n",
              "                    background-color: var(--colab-primary-surface-color, white);\n",
              "                }\n",
              "                    \n",
              "                .geemap-colab .jupyter-button {\n",
              "                    --jp-layout-color3: var(--colab-primary-surface-color, white);\n",
              "                }\n",
              "            </style>\n",
              "            "
            ]
          },
          "metadata": {}
        }
      ]
    },
    {
      "cell_type": "code",
      "source": [
        "ThreeRivers_2022 = pd.merge(ThreeRivers_May2022_df, smi_ThreeRivers_2022)\n",
        "ThreeRivers_2021 = pd.merge(ThreeRivers_June2021_df, smi_ThreeRivers_2021)"
      ],
      "metadata": {
        "colab": {
          "base_uri": "https://localhost:8080/",
          "height": 17
        },
        "id": "FCyI5M2CatMg",
        "outputId": "fb26062f-fb03-496a-ea89-3eebd9e74363"
      },
      "execution_count": null,
      "outputs": [
        {
          "output_type": "display_data",
          "data": {
            "text/plain": [
              "<IPython.core.display.HTML object>"
            ],
            "text/html": [
              "\n",
              "            <style>\n",
              "                .geemap-dark {\n",
              "                    --jp-widgets-color: white;\n",
              "                    --jp-widgets-label-color: white;\n",
              "                    --jp-ui-font-color1: white;\n",
              "                    --jp-layout-color2: #454545;\n",
              "                    background-color: #383838;\n",
              "                }\n",
              "                    \n",
              "                .geemap-dark .jupyter-button {\n",
              "                    --jp-layout-color3: #383838;\n",
              "                }\n",
              "                \n",
              "                .geemap-colab {\n",
              "                    background-color: var(--colab-primary-surface-color, white);\n",
              "                }\n",
              "                    \n",
              "                .geemap-colab .jupyter-button {\n",
              "                    --jp-layout-color3: var(--colab-primary-surface-color, white);\n",
              "                }\n",
              "            </style>\n",
              "            "
            ]
          },
          "metadata": {}
        }
      ]
    },
    {
      "cell_type": "markdown",
      "source": [
        "### Export Finalized Data to CSV"
      ],
      "metadata": {
        "id": "uOxrtWJFau9_"
      }
    },
    {
      "cell_type": "code",
      "source": [
        "# ThreeRivers_2022.to_csv('/content/data/threerivers_2022.csv', index=False)\n",
        "# ThreeRivers_2021.to_csv('/content/data/threerivers_2021.csv', index=False)"
      ],
      "metadata": {
        "colab": {
          "base_uri": "https://localhost:8080/",
          "height": 17
        },
        "id": "1wUhvTmiav4V",
        "outputId": "e4d546c6-5b17-4e00-9427-9023009983ee"
      },
      "execution_count": null,
      "outputs": [
        {
          "output_type": "display_data",
          "data": {
            "text/plain": [
              "<IPython.core.display.HTML object>"
            ],
            "text/html": [
              "\n",
              "            <style>\n",
              "                .geemap-dark {\n",
              "                    --jp-widgets-color: white;\n",
              "                    --jp-widgets-label-color: white;\n",
              "                    --jp-ui-font-color1: white;\n",
              "                    --jp-layout-color2: #454545;\n",
              "                    background-color: #383838;\n",
              "                }\n",
              "                    \n",
              "                .geemap-dark .jupyter-button {\n",
              "                    --jp-layout-color3: #383838;\n",
              "                }\n",
              "                \n",
              "                .geemap-colab {\n",
              "                    background-color: var(--colab-primary-surface-color, white);\n",
              "                }\n",
              "                    \n",
              "                .geemap-colab .jupyter-button {\n",
              "                    --jp-layout-color3: var(--colab-primary-surface-color, white);\n",
              "                }\n",
              "            </style>\n",
              "            "
            ]
          },
          "metadata": {}
        }
      ]
    },
    {
      "cell_type": "markdown",
      "source": [
        "## Mariposa, CA"
      ],
      "metadata": {
        "id": "Nkm-sx1f3os9"
      }
    },
    {
      "cell_type": "code",
      "source": [
        "# area is 20.69 sqMiles or 54 sqKilometers\n",
        "mariposa_polygon = [[\n",
        "                         [-119.93332186358441,37.492038950610564]\n",
        "                        ,[-120.02430507710635,37.491733062301975]\n",
        "                        ,[-120.02462577206953,37.55175969111435]\n",
        "                        ,[-119.93364255854758,37.55206533342423]\n",
        "                        ]]"
      ],
      "metadata": {
        "colab": {
          "base_uri": "https://localhost:8080/",
          "height": 17
        },
        "id": "TvMGonFg3nvE",
        "outputId": "2f8af9a7-0be7-4da5-8a3a-62a72b3c9c2e"
      },
      "execution_count": null,
      "outputs": [
        {
          "output_type": "display_data",
          "data": {
            "text/plain": [
              "<IPython.core.display.HTML object>"
            ],
            "text/html": [
              "\n",
              "            <style>\n",
              "                .geemap-dark {\n",
              "                    --jp-widgets-color: white;\n",
              "                    --jp-widgets-label-color: white;\n",
              "                    --jp-ui-font-color1: white;\n",
              "                    --jp-layout-color2: #454545;\n",
              "                    background-color: #383838;\n",
              "                }\n",
              "                    \n",
              "                .geemap-dark .jupyter-button {\n",
              "                    --jp-layout-color3: #383838;\n",
              "                }\n",
              "                \n",
              "                .geemap-colab {\n",
              "                    background-color: var(--colab-primary-surface-color, white);\n",
              "                }\n",
              "                    \n",
              "                .geemap-colab .jupyter-button {\n",
              "                    --jp-layout-color3: var(--colab-primary-surface-color, white);\n",
              "                }\n",
              "            </style>\n",
              "            "
            ]
          },
          "metadata": {}
        }
      ]
    },
    {
      "cell_type": "markdown",
      "source": [
        "### Obtain Spectral Data"
      ],
      "metadata": {
        "id": "RyamPHvP6g36"
      }
    },
    {
      "cell_type": "code",
      "source": [
        "input_bands = ['SR_B2','SR_B3','SR_B4','SR_B5','SR_B6','SR_B7','ST_B10','NDVI','NDMI','MNDWI','EVI','SAVI','MSAVI','MSI']"
      ],
      "metadata": {
        "colab": {
          "base_uri": "https://localhost:8080/",
          "height": 17
        },
        "id": "3qKB7UpL5adc",
        "outputId": "3a36e763-4004-4a31-88cf-408a298b0c5c"
      },
      "execution_count": null,
      "outputs": [
        {
          "output_type": "display_data",
          "data": {
            "text/plain": [
              "<IPython.core.display.HTML object>"
            ],
            "text/html": [
              "\n",
              "            <style>\n",
              "                .geemap-dark {\n",
              "                    --jp-widgets-color: white;\n",
              "                    --jp-widgets-label-color: white;\n",
              "                    --jp-ui-font-color1: white;\n",
              "                    --jp-layout-color2: #454545;\n",
              "                    background-color: #383838;\n",
              "                }\n",
              "                    \n",
              "                .geemap-dark .jupyter-button {\n",
              "                    --jp-layout-color3: #383838;\n",
              "                }\n",
              "                \n",
              "                .geemap-colab {\n",
              "                    background-color: var(--colab-primary-surface-color, white);\n",
              "                }\n",
              "                    \n",
              "                .geemap-colab .jupyter-button {\n",
              "                    --jp-layout-color3: var(--colab-primary-surface-color, white);\n",
              "                }\n",
              "            </style>\n",
              "            "
            ]
          },
          "metadata": {}
        }
      ]
    },
    {
      "cell_type": "markdown",
      "source": [
        "#### Testing and Training Data"
      ],
      "metadata": {
        "id": "XYULEKwP5gNv"
      }
    },
    {
      "cell_type": "code",
      "source": [
        "# Inputs to the function to get the testing and training data\n",
        "# 2021 was the driest year for Mariposa so this will be best to use for testing and training\n",
        "\n",
        "save_landsat8(\n",
        "    roi = ee.Geometry.Polygon(mariposa_polygon),\n",
        "    date_range = ee.DateRange('2021-05-01', '2021-05-31'),\n",
        "    bands = input_bands,\n",
        "    roiname = 'mariposa',\n",
        "    datename = 'May2021')"
      ],
      "metadata": {
        "id": "AtJzYg1C4zQN"
      },
      "execution_count": null,
      "outputs": []
    },
    {
      "cell_type": "markdown",
      "source": [
        "Landsat Imagery for Mariposa Training and Testing is from 2021-05-01"
      ],
      "metadata": {
        "id": "R6i5gHvf507Y"
      }
    },
    {
      "cell_type": "markdown",
      "source": [
        "#### Validation Data"
      ],
      "metadata": {
        "id": "pASRhr-B58HC"
      }
    },
    {
      "cell_type": "code",
      "source": [
        "# Inputs to the function to get validation data\n",
        "# 2022 was another dry year so this will be good to use for validation\n",
        "\n",
        "save_landsat8(\n",
        "    roi = ee.Geometry.Polygon(mariposa_polygon),\n",
        "    date_range = ee.DateRange('2022-05-01', '2022-05-31'),\n",
        "    bands = input_bands,\n",
        "    roiname = 'mariposa',\n",
        "    datename = 'May2022')"
      ],
      "metadata": {
        "id": "SrmbwQTv599f"
      },
      "execution_count": null,
      "outputs": []
    },
    {
      "cell_type": "markdown",
      "source": [
        "Landsat Imagery for Mariposa Training and Testing is from 2022-05-20"
      ],
      "metadata": {
        "id": "vfJtfyxa6QRz"
      }
    },
    {
      "cell_type": "markdown",
      "source": [
        "### Create Dataframe of Data"
      ],
      "metadata": {
        "id": "IGei6MuP6WD5"
      }
    },
    {
      "cell_type": "code",
      "source": [
        "# inputs to function and run the function to create a dataframe for Mariposa 2021\n",
        "# this is for training and testing\n",
        "\n",
        "roiname='mariposa'\n",
        "files = [f for f in os.listdir() if f.endswith('mariposaMay2021_ls8.tif')]\n",
        "mariposa_2021_df = geotiff_df(files, roiname)"
      ],
      "metadata": {
        "colab": {
          "base_uri": "https://localhost:8080/",
          "height": 17
        },
        "id": "ENIqEC8T6aWl",
        "outputId": "e5724980-90aa-4feb-b70a-d5201aa7c582"
      },
      "execution_count": null,
      "outputs": [
        {
          "output_type": "display_data",
          "data": {
            "text/plain": [
              "<IPython.core.display.HTML object>"
            ],
            "text/html": [
              "\n",
              "            <style>\n",
              "                .geemap-dark {\n",
              "                    --jp-widgets-color: white;\n",
              "                    --jp-widgets-label-color: white;\n",
              "                    --jp-ui-font-color1: white;\n",
              "                    --jp-layout-color2: #454545;\n",
              "                    background-color: #383838;\n",
              "                }\n",
              "                    \n",
              "                .geemap-dark .jupyter-button {\n",
              "                    --jp-layout-color3: #383838;\n",
              "                }\n",
              "                \n",
              "                .geemap-colab {\n",
              "                    background-color: var(--colab-primary-surface-color, white);\n",
              "                }\n",
              "                    \n",
              "                .geemap-colab .jupyter-button {\n",
              "                    --jp-layout-color3: var(--colab-primary-surface-color, white);\n",
              "                }\n",
              "            </style>\n",
              "            "
            ]
          },
          "metadata": {}
        }
      ]
    },
    {
      "cell_type": "code",
      "source": [
        "# inputs to function and run the function to create a dataframe for Mariposa 2022\n",
        "# this is for validation\n",
        "\n",
        "roiname='mariposa'\n",
        "files = [f for f in os.listdir() if f.endswith('mariposaMay2022_ls8.tif')]\n",
        "mariposa_2022_df = geotiff_df(files, roiname)"
      ],
      "metadata": {
        "colab": {
          "base_uri": "https://localhost:8080/",
          "height": 17
        },
        "id": "lMQ8PBiC7B6O",
        "outputId": "75fe4019-a477-461d-b9a2-09c55a88b3b2"
      },
      "execution_count": null,
      "outputs": [
        {
          "output_type": "display_data",
          "data": {
            "text/plain": [
              "<IPython.core.display.HTML object>"
            ],
            "text/html": [
              "\n",
              "            <style>\n",
              "                .geemap-dark {\n",
              "                    --jp-widgets-color: white;\n",
              "                    --jp-widgets-label-color: white;\n",
              "                    --jp-ui-font-color1: white;\n",
              "                    --jp-layout-color2: #454545;\n",
              "                    background-color: #383838;\n",
              "                }\n",
              "                    \n",
              "                .geemap-dark .jupyter-button {\n",
              "                    --jp-layout-color3: #383838;\n",
              "                }\n",
              "                \n",
              "                .geemap-colab {\n",
              "                    background-color: var(--colab-primary-surface-color, white);\n",
              "                }\n",
              "                    \n",
              "                .geemap-colab .jupyter-button {\n",
              "                    --jp-layout-color3: var(--colab-primary-surface-color, white);\n",
              "                }\n",
              "            </style>\n",
              "            "
            ]
          },
          "metadata": {}
        }
      ]
    },
    {
      "cell_type": "markdown",
      "source": [
        "### Elevation Data"
      ],
      "metadata": {
        "id": "qPINmoL1FCyc"
      }
    },
    {
      "cell_type": "code",
      "source": [
        "# Terrain: slope and aspect\n",
        "# import csv but without first column of OIDs (ESRI byproduct)\n",
        "# https://www.statology.org/pandas-read-csv-ignore-first-column/\n",
        "# slope values are in degrees and aspect values are in cardinal direction with 361 as flat ground.\n",
        "\n",
        "# Mariposa area\n",
        "with open('/content/data/mariposa_dem_var.csv') as x:\n",
        "    ncols = len(x.readline().split(','))\n",
        "mariposa_dem_var = pd.read_csv('/content/data/mariposa_dem_var.csv', usecols=range(1,ncols))"
      ],
      "metadata": {
        "colab": {
          "base_uri": "https://localhost:8080/",
          "height": 17
        },
        "id": "BRNeDaqXFNBu",
        "outputId": "ee458e41-dd26-4b02-985a-056e2fefd644"
      },
      "execution_count": null,
      "outputs": [
        {
          "output_type": "display_data",
          "data": {
            "text/plain": [
              "<IPython.core.display.HTML object>"
            ],
            "text/html": [
              "\n",
              "            <style>\n",
              "                .geemap-dark {\n",
              "                    --jp-widgets-color: white;\n",
              "                    --jp-widgets-label-color: white;\n",
              "                    --jp-ui-font-color1: white;\n",
              "                    --jp-layout-color2: #454545;\n",
              "                    background-color: #383838;\n",
              "                }\n",
              "                    \n",
              "                .geemap-dark .jupyter-button {\n",
              "                    --jp-layout-color3: #383838;\n",
              "                }\n",
              "                \n",
              "                .geemap-colab {\n",
              "                    background-color: var(--colab-primary-surface-color, white);\n",
              "                }\n",
              "                    \n",
              "                .geemap-colab .jupyter-button {\n",
              "                    --jp-layout-color3: var(--colab-primary-surface-color, white);\n",
              "                }\n",
              "            </style>\n",
              "            "
            ]
          },
          "metadata": {}
        }
      ]
    },
    {
      "cell_type": "code",
      "source": [
        "# merge data dataframes with appropriate dem variables df\n",
        "\n",
        "#2021 data\n",
        "mariposa_May2021_df = pd.merge(mariposa_dem_var, mariposa_2021_df, how='left', left_on=['X','Y'], right_on = ['x','y'])\n",
        "mariposa_May2021_df.rename(columns={'aspect_Band_1': 'aspect', 'slope_Band_1': 'slope'}, inplace=True)\n",
        "\n",
        "#2022 data\n",
        "mariposa_May2022_df = pd.merge(mariposa_dem_var, mariposa_2022_df, how='left', left_on=['X','Y'], right_on = ['x','y'])\n",
        "mariposa_May2022_df.rename(columns={'aspect_Band_1': 'aspect', 'slope_Band_1': 'slope'}, inplace=True)"
      ],
      "metadata": {
        "colab": {
          "base_uri": "https://localhost:8080/",
          "height": 17
        },
        "id": "cXPOrbSVFXPq",
        "outputId": "5a877c4d-b255-4bd2-e6cf-8f7bf351ec94"
      },
      "execution_count": null,
      "outputs": [
        {
          "output_type": "display_data",
          "data": {
            "text/plain": [
              "<IPython.core.display.HTML object>"
            ],
            "text/html": [
              "\n",
              "            <style>\n",
              "                .geemap-dark {\n",
              "                    --jp-widgets-color: white;\n",
              "                    --jp-widgets-label-color: white;\n",
              "                    --jp-ui-font-color1: white;\n",
              "                    --jp-layout-color2: #454545;\n",
              "                    background-color: #383838;\n",
              "                }\n",
              "                    \n",
              "                .geemap-dark .jupyter-button {\n",
              "                    --jp-layout-color3: #383838;\n",
              "                }\n",
              "                \n",
              "                .geemap-colab {\n",
              "                    background-color: var(--colab-primary-surface-color, white);\n",
              "                }\n",
              "                    \n",
              "                .geemap-colab .jupyter-button {\n",
              "                    --jp-layout-color3: var(--colab-primary-surface-color, white);\n",
              "                }\n",
              "            </style>\n",
              "            "
            ]
          },
          "metadata": {}
        }
      ]
    },
    {
      "cell_type": "markdown",
      "source": [
        "### SMI Data"
      ],
      "metadata": {
        "id": "Gbw73GK4T7GP"
      }
    },
    {
      "cell_type": "code",
      "source": [
        "# import csv but without first column of OIDs (ESRI byproduct)\n",
        "# https://www.statology.org/pandas-read-csv-ignore-first-column/\n",
        "# soil moisture values range from 0 (dry) to 1 (wet)\n",
        "\n",
        "# 2021 - Training and Testing - Data from July 20, 2021\n",
        "with open('/content/data/smi_mariposa_2021.csv') as x:\n",
        "    ncols = len(x.readline().split(','))\n",
        "smi_mariposa_2021 = pd.read_csv('/content/data/smi_mariposa_2021.csv', usecols=range(1,ncols))\n",
        "smi_mariposa_2021.rename(columns = {'smi_21_Band_1': 'smi'}, inplace=True)\n",
        "\n",
        "# #2022 - Validation - Data from July 23, 2022\n",
        "with open('/content/data/smi_mariposa_2022.csv') as x:\n",
        "    ncols = len(x.readline().split(','))\n",
        "smi_mariposa_2022 = pd.read_csv('/content/data/smi_mariposa_2022.csv', usecols=range(1,ncols))\n",
        "smi_mariposa_2022.rename(columns = {'smi_22_Band_1': 'smi'}, inplace=True)"
      ],
      "metadata": {
        "colab": {
          "base_uri": "https://localhost:8080/",
          "height": 17
        },
        "id": "9CN8BDjAFjB-",
        "outputId": "db2e3cc1-d372-4120-d3b4-dd0bb313de41"
      },
      "execution_count": null,
      "outputs": [
        {
          "output_type": "display_data",
          "data": {
            "text/plain": [
              "<IPython.core.display.HTML object>"
            ],
            "text/html": [
              "\n",
              "            <style>\n",
              "                .geemap-dark {\n",
              "                    --jp-widgets-color: white;\n",
              "                    --jp-widgets-label-color: white;\n",
              "                    --jp-ui-font-color1: white;\n",
              "                    --jp-layout-color2: #454545;\n",
              "                    background-color: #383838;\n",
              "                }\n",
              "                    \n",
              "                .geemap-dark .jupyter-button {\n",
              "                    --jp-layout-color3: #383838;\n",
              "                }\n",
              "                \n",
              "                .geemap-colab {\n",
              "                    background-color: var(--colab-primary-surface-color, white);\n",
              "                }\n",
              "                    \n",
              "                .geemap-colab .jupyter-button {\n",
              "                    --jp-layout-color3: var(--colab-primary-surface-color, white);\n",
              "                }\n",
              "            </style>\n",
              "            "
            ]
          },
          "metadata": {}
        }
      ]
    },
    {
      "cell_type": "code",
      "source": [
        "#merge smi with data\n",
        "mariposa_2021 = pd.merge(mariposa_May2021_df, smi_mariposa_2021)\n",
        "mariposa_2022 = pd.merge(mariposa_May2022_df, smi_mariposa_2022)"
      ],
      "metadata": {
        "colab": {
          "base_uri": "https://localhost:8080/",
          "height": 17
        },
        "id": "0iT3_1Q_mAFK",
        "outputId": "55027f3c-10ed-484e-e875-1b0094c6728e"
      },
      "execution_count": null,
      "outputs": [
        {
          "output_type": "display_data",
          "data": {
            "text/plain": [
              "<IPython.core.display.HTML object>"
            ],
            "text/html": [
              "\n",
              "            <style>\n",
              "                .geemap-dark {\n",
              "                    --jp-widgets-color: white;\n",
              "                    --jp-widgets-label-color: white;\n",
              "                    --jp-ui-font-color1: white;\n",
              "                    --jp-layout-color2: #454545;\n",
              "                    background-color: #383838;\n",
              "                }\n",
              "                    \n",
              "                .geemap-dark .jupyter-button {\n",
              "                    --jp-layout-color3: #383838;\n",
              "                }\n",
              "                \n",
              "                .geemap-colab {\n",
              "                    background-color: var(--colab-primary-surface-color, white);\n",
              "                }\n",
              "                    \n",
              "                .geemap-colab .jupyter-button {\n",
              "                    --jp-layout-color3: var(--colab-primary-surface-color, white);\n",
              "                }\n",
              "            </style>\n",
              "            "
            ]
          },
          "metadata": {}
        }
      ]
    },
    {
      "cell_type": "markdown",
      "source": [
        "### Export Finalized Data to CSV"
      ],
      "metadata": {
        "id": "rHIX43x0miKv"
      }
    },
    {
      "cell_type": "code",
      "source": [
        "# mariposa_2021.to_csv('/content/data/mariposa_2021.csv', index=False)\n",
        "# mariposa_2022.to_csv('/content/data/mariposa_2022.csv', index=False)"
      ],
      "metadata": {
        "colab": {
          "base_uri": "https://localhost:8080/",
          "height": 17
        },
        "id": "L1hFVkr5mbDG",
        "outputId": "3e3ff074-fded-4b23-de6c-640425b46c52"
      },
      "execution_count": null,
      "outputs": [
        {
          "output_type": "display_data",
          "data": {
            "text/plain": [
              "<IPython.core.display.HTML object>"
            ],
            "text/html": [
              "\n",
              "            <style>\n",
              "                .geemap-dark {\n",
              "                    --jp-widgets-color: white;\n",
              "                    --jp-widgets-label-color: white;\n",
              "                    --jp-ui-font-color1: white;\n",
              "                    --jp-layout-color2: #454545;\n",
              "                    background-color: #383838;\n",
              "                }\n",
              "                    \n",
              "                .geemap-dark .jupyter-button {\n",
              "                    --jp-layout-color3: #383838;\n",
              "                }\n",
              "                \n",
              "                .geemap-colab {\n",
              "                    background-color: var(--colab-primary-surface-color, white);\n",
              "                }\n",
              "                    \n",
              "                .geemap-colab .jupyter-button {\n",
              "                    --jp-layout-color3: var(--colab-primary-surface-color, white);\n",
              "                }\n",
              "            </style>\n",
              "            "
            ]
          },
          "metadata": {}
        }
      ]
    }
  ],
  "metadata": {
    "colab": {
      "provenance": [],
      "include_colab_link": true
    },
    "kernelspec": {
      "display_name": "Python 3",
      "name": "python3"
    },
    "language_info": {
      "name": "python"
    }
  },
  "nbformat": 4,
  "nbformat_minor": 0
}