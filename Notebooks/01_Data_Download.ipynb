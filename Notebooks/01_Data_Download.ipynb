{
  "cells": [
    {
      "cell_type": "markdown",
      "metadata": {
        "id": "view-in-github",
        "colab_type": "text"
      },
      "source": [
        "<a href=\"https://colab.research.google.com/github/belalabouzaid/siads699_team13_collab/blob/main/Notebooks/01_Data_Download.ipynb\" target=\"_parent\"><img src=\"https://colab.research.google.com/assets/colab-badge.svg\" alt=\"Open In Colab\"/></a>"
      ]
    },
    {
      "cell_type": "markdown",
      "source": [
        "# Notebook Objective\n",
        "This notebook downloads the Landsat-8 images from Google Earth Engine after defining the boundaries of the region of interest. The images are then used to extract the relevant bands information which will be used as features for drought prediction. Finally, the features are then saved along with the target variable in a dataframe and exported to .csv format to be used in subsequent notebooks for analysis and model training/testing."
      ],
      "metadata": {
        "id": "JeO93z2ezcrI"
      }
    },
    {
      "cell_type": "markdown",
      "metadata": {
        "id": "v94J__dxAEqY"
      },
      "source": [
        "# Setting up environment"
      ]
    },
    {
      "cell_type": "code",
      "execution_count": null,
      "metadata": {
        "id": "MaBi2N0RF2yC"
      },
      "outputs": [],
      "source": [
        "!pip install wxee"
      ]
    },
    {
      "cell_type": "code",
      "execution_count": null,
      "metadata": {
        "id": "wu8PoNHIjDhn"
      },
      "outputs": [],
      "source": [
        "# Import libraries\n",
        "import ee\n",
        "import geemap\n",
        "import os\n",
        "import pandas as pd\n",
        "import wxee\n",
        "import rioxarray\n",
        "import seaborn as sns\n",
        "import matplotlib.pyplot as plt\n",
        "from functools import reduce"
      ]
    },
    {
      "cell_type": "markdown",
      "metadata": {
        "id": "za_s2LBgAbwA"
      },
      "source": [
        "## Authenticating Google Earth Engine API"
      ]
    },
    {
      "cell_type": "code",
      "execution_count": null,
      "metadata": {
        "id": "rrVCgVKBl0Jn"
      },
      "outputs": [],
      "source": [
        "# Authenticate Earth Engine API\n",
        "ee.Authenticate()"
      ]
    },
    {
      "cell_type": "code",
      "execution_count": null,
      "metadata": {
        "colab": {
          "base_uri": "https://localhost:8080/",
          "height": 17
        },
        "id": "QPxSawRSmzW8",
        "outputId": "d3b1f88f-6b3f-4955-aaf3-367c4130c829"
      },
      "outputs": [
        {
          "output_type": "display_data",
          "data": {
            "text/plain": [
              "<IPython.core.display.HTML object>"
            ],
            "text/html": [
              "\n",
              "            <style>\n",
              "                .geemap-dark {\n",
              "                    --jp-widgets-color: white;\n",
              "                    --jp-widgets-label-color: white;\n",
              "                    --jp-ui-font-color1: white;\n",
              "                    --jp-layout-color2: #454545;\n",
              "                    background-color: #383838;\n",
              "                }\n",
              "                    \n",
              "                .geemap-dark .jupyter-button {\n",
              "                    --jp-layout-color3: #383838;\n",
              "                }\n",
              "                \n",
              "                .geemap-colab {\n",
              "                    background-color: var(--colab-primary-surface-color, white);\n",
              "                }\n",
              "                    \n",
              "                .geemap-colab .jupyter-button {\n",
              "                    --jp-layout-color3: var(--colab-primary-surface-color, white);\n",
              "                }\n",
              "            </style>\n",
              "            "
            ]
          },
          "metadata": {}
        }
      ],
      "source": [
        "# Intialize Earth Engine API\n",
        "ee.Initialize()"
      ]
    },
    {
      "cell_type": "markdown",
      "metadata": {
        "id": "8M9OROV0AqlK"
      },
      "source": [
        "# Obtain Data\n",
        "Setting up functions"
      ]
    },
    {
      "cell_type": "code",
      "execution_count": null,
      "metadata": {
        "colab": {
          "base_uri": "https://localhost:8080/",
          "height": 17
        },
        "id": "vVuadT5xJjRM",
        "outputId": "4ebd63fd-a46d-4f14-cf47-f5ef376bce22"
      },
      "outputs": [
        {
          "output_type": "display_data",
          "data": {
            "text/plain": [
              "<IPython.core.display.HTML object>"
            ],
            "text/html": [
              "\n",
              "            <style>\n",
              "                .geemap-dark {\n",
              "                    --jp-widgets-color: white;\n",
              "                    --jp-widgets-label-color: white;\n",
              "                    --jp-ui-font-color1: white;\n",
              "                    --jp-layout-color2: #454545;\n",
              "                    background-color: #383838;\n",
              "                }\n",
              "                    \n",
              "                .geemap-dark .jupyter-button {\n",
              "                    --jp-layout-color3: #383838;\n",
              "                }\n",
              "                \n",
              "                .geemap-colab {\n",
              "                    background-color: var(--colab-primary-surface-color, white);\n",
              "                }\n",
              "                    \n",
              "                .geemap-colab .jupyter-button {\n",
              "                    --jp-layout-color3: var(--colab-primary-surface-color, white);\n",
              "                }\n",
              "            </style>\n",
              "            "
            ]
          },
          "metadata": {}
        }
      ],
      "source": [
        "# https://developers.google.com/earth-engine/datasets/catalog/LANDSAT_LC08_C02_T1_L2\n",
        "\n",
        "def apply_scale_factors(image):\n",
        "  \"\"\"apply scaling factors per landsat guidelines\"\"\"\n",
        "  optical_bands = image.select('SR_B.').multiply(0.0000275).add(-0.2)\n",
        "  thermal_bands = image.select('ST_B.*').multiply(0.00341802).add(149.0)\n",
        "  return image.addBands(optical_bands, None, True).addBands(thermal_bands, None, True)"
      ]
    },
    {
      "cell_type": "code",
      "execution_count": null,
      "metadata": {
        "colab": {
          "base_uri": "https://localhost:8080/",
          "height": 17
        },
        "id": "qBKQa8qCJqtn",
        "outputId": "1fc2b60c-078f-4c51-9896-d06559e4bbd8"
      },
      "outputs": [
        {
          "output_type": "display_data",
          "data": {
            "text/plain": [
              "<IPython.core.display.HTML object>"
            ],
            "text/html": [
              "\n",
              "            <style>\n",
              "                .geemap-dark {\n",
              "                    --jp-widgets-color: white;\n",
              "                    --jp-widgets-label-color: white;\n",
              "                    --jp-ui-font-color1: white;\n",
              "                    --jp-layout-color2: #454545;\n",
              "                    background-color: #383838;\n",
              "                }\n",
              "                    \n",
              "                .geemap-dark .jupyter-button {\n",
              "                    --jp-layout-color3: #383838;\n",
              "                }\n",
              "                \n",
              "                .geemap-colab {\n",
              "                    background-color: var(--colab-primary-surface-color, white);\n",
              "                }\n",
              "                    \n",
              "                .geemap-colab .jupyter-button {\n",
              "                    --jp-layout-color3: var(--colab-primary-surface-color, white);\n",
              "                }\n",
              "            </style>\n",
              "            "
            ]
          },
          "metadata": {}
        }
      ],
      "source": [
        "def calculate_var(img):\n",
        "    \"\"\"compute and add multiple bands to an ee image collection\"\"\"\n",
        "    ndvi = img.normalizedDifference(['SR_B5', 'SR_B4']).rename('NDVI')\n",
        "    ndmi = img.normalizedDifference(['SR_B5', 'SR_B6']).rename('NDMI')\n",
        "    mndwi = img.normalizedDifference(['SR_B3', 'SR_B6']).rename('MNDWI')\n",
        "    evi = ee.Image().expression('2.5*((NIR-Red)/(NIR+6*Red-7.5*Blue+1))', {'NIR': img.select('SR_B5'), 'Red': img.select('SR_B4'), 'Blue': img.select('SR_B2')}).rename('EVI')\n",
        "    savi = ee.Image().expression('((NIR-Red)/(NIR+Red+0.5))*1.5', {'NIR': img.select('SR_B5'), 'Red': img.select('SR_B4')}).rename('SAVI')\n",
        "    msavi = ee.Image().expression('(2*NIR+1-sqrt(pow((2*NIR+1),2)-8*(NIR-Red)))/2', {'NIR': img.select('SR_B5'), 'Red': img.select('SR_B4')}).rename('MSAVI')\n",
        "    msi = img.select('SR_B6').divide(img.select('SR_B5')).rename('MSI')\n",
        "\n",
        "    new_bands = ee.Image([ndvi, ndmi, mndwi, evi, savi, msavi, msi])\n",
        "    return img.addBands(new_bands)"
      ]
    },
    {
      "cell_type": "code",
      "execution_count": null,
      "metadata": {
        "colab": {
          "base_uri": "https://localhost:8080/",
          "height": 17
        },
        "id": "Bhk0_2nUJuHR",
        "outputId": "a7828282-04e9-4ab3-82a4-c42e4f0fc2e7"
      },
      "outputs": [
        {
          "output_type": "display_data",
          "data": {
            "text/plain": [
              "<IPython.core.display.HTML object>"
            ],
            "text/html": [
              "\n",
              "            <style>\n",
              "                .geemap-dark {\n",
              "                    --jp-widgets-color: white;\n",
              "                    --jp-widgets-label-color: white;\n",
              "                    --jp-ui-font-color1: white;\n",
              "                    --jp-layout-color2: #454545;\n",
              "                    background-color: #383838;\n",
              "                }\n",
              "                    \n",
              "                .geemap-dark .jupyter-button {\n",
              "                    --jp-layout-color3: #383838;\n",
              "                }\n",
              "                \n",
              "                .geemap-colab {\n",
              "                    background-color: var(--colab-primary-surface-color, white);\n",
              "                }\n",
              "                    \n",
              "                .geemap-colab .jupyter-button {\n",
              "                    --jp-layout-color3: var(--colab-primary-surface-color, white);\n",
              "                }\n",
              "            </style>\n",
              "            "
            ]
          },
          "metadata": {}
        }
      ],
      "source": [
        "def save_landsat8(roi, date_range, bands, roiname, datename):\n",
        "    \"\"\"function to fetch the various bands using ee and save the geotiffs, returning the metadata for the bands\"\"\"\n",
        "    # Select the satellite image collection\n",
        "    image_collection = ee.ImageCollection(\"LANDSAT/LC08/C02/T1_L2\")\n",
        "\n",
        "    # Filter the image collection by date and region of interest(roi)\n",
        "    image_collection = image_collection.filterDate(date_range).filterBounds(roi)\n",
        "\n",
        "    # Scale the data per USGS guidelines\n",
        "    image_collection = image_collection.map(apply_scale_factors)\n",
        "\n",
        "    # Calculate additional variables and add the bands to the collection\n",
        "    image_collection = image_collection.map(calculate_var)\n",
        "    image_collection = image_collection.select(bands)\n",
        "\n",
        "    # sort so percent cloud cover is smallest to largest select the most cloud free image in our filtered set\n",
        "    image_collection = image_collection.sort(\"CLOUD_COVER\").first()\n",
        "\n",
        "    # save\n",
        "    #after scaling file is too large so run through loop to sep. bands\n",
        "    for band in bands:\n",
        "        geemap.ee_export_image(image_collection.select(band),filename = str(band)+roiname+datename+'_ls8.tif',region = roi)\n",
        "\n",
        "    #show metadata\n",
        "    return geemap.image_props(image_collection)"
      ]
    },
    {
      "cell_type": "code",
      "execution_count": null,
      "metadata": {
        "colab": {
          "base_uri": "https://localhost:8080/",
          "height": 17
        },
        "id": "MPUXa2erKUde",
        "outputId": "c2b0744e-7b8d-4380-8de3-90e397eb5f85"
      },
      "outputs": [
        {
          "output_type": "display_data",
          "data": {
            "text/plain": [
              "<IPython.core.display.HTML object>"
            ],
            "text/html": [
              "\n",
              "            <style>\n",
              "                .geemap-dark {\n",
              "                    --jp-widgets-color: white;\n",
              "                    --jp-widgets-label-color: white;\n",
              "                    --jp-ui-font-color1: white;\n",
              "                    --jp-layout-color2: #454545;\n",
              "                    background-color: #383838;\n",
              "                }\n",
              "                    \n",
              "                .geemap-dark .jupyter-button {\n",
              "                    --jp-layout-color3: #383838;\n",
              "                }\n",
              "                \n",
              "                .geemap-colab {\n",
              "                    background-color: var(--colab-primary-surface-color, white);\n",
              "                }\n",
              "                    \n",
              "                .geemap-colab .jupyter-button {\n",
              "                    --jp-layout-color3: var(--colab-primary-surface-color, white);\n",
              "                }\n",
              "            </style>\n",
              "            "
            ]
          },
          "metadata": {}
        }
      ],
      "source": [
        "# some inspiration # https://docs.dea.ga.gov.au/notebooks/How_to_guides/Opening_GeoTIFFs_NetCDFs.html\n",
        "\n",
        "def geotiff_df(files, roiname):\n",
        "    \"\"\"convert geotiffs to xarrays and create and return one dataframe of all data\"\"\"\n",
        "    # create an empty list to append dataframes to\n",
        "    dfs = []\n",
        "    # read through files\n",
        "    for f in files:\n",
        "        # get variable name\n",
        "        var = f.partition(roiname)[0]\n",
        "        # open into xarray.DataArray\n",
        "        da = rioxarray.open_rasterio(f)\n",
        "        #convert to xarray.Dataset\n",
        "        ds = da.to_dataset('band').rename({1: var})\n",
        "        #convert to dataframe\n",
        "        df = ds.to_dataframe().drop(columns=['spatial_ref'])\n",
        "        # append df to list of dataframes\n",
        "        dfs.append(df)\n",
        "        # # no longer need file, so delete to save space\n",
        "        # del f\n",
        "\n",
        "    return reduce(lambda  left,right: pd.merge(left,right, on=['x','y']), dfs)"
      ]
    },
    {
      "cell_type": "markdown",
      "source": [
        "## Three Rivers, CA"
      ],
      "metadata": {
        "id": "TZ20wsxUZuIe"
      }
    },
    {
      "cell_type": "code",
      "source": [
        "# area is 14.06 sqMiles or 36 sqKilometers\n",
        "ThreeRivers_polygon = [[\n",
        "                         [-118.89959054,36.48577439]\n",
        "                        ,[-118.8270702,36.4862047]\n",
        "                        ,[-118.82660683,36.43570829]\n",
        "                        ,[-118.89912718,36.43527771]\n",
        "                        ]]"
      ],
      "metadata": {
        "colab": {
          "base_uri": "https://localhost:8080/",
          "height": 17
        },
        "id": "XYs3b4PnZwqt",
        "outputId": "6e9a4cd8-2b3a-40f0-efbd-8567fc7021b8"
      },
      "execution_count": null,
      "outputs": [
        {
          "output_type": "display_data",
          "data": {
            "text/plain": [
              "<IPython.core.display.HTML object>"
            ],
            "text/html": [
              "\n",
              "            <style>\n",
              "                .geemap-dark {\n",
              "                    --jp-widgets-color: white;\n",
              "                    --jp-widgets-label-color: white;\n",
              "                    --jp-ui-font-color1: white;\n",
              "                    --jp-layout-color2: #454545;\n",
              "                    background-color: #383838;\n",
              "                }\n",
              "                    \n",
              "                .geemap-dark .jupyter-button {\n",
              "                    --jp-layout-color3: #383838;\n",
              "                }\n",
              "                \n",
              "                .geemap-colab {\n",
              "                    background-color: var(--colab-primary-surface-color, white);\n",
              "                }\n",
              "                    \n",
              "                .geemap-colab .jupyter-button {\n",
              "                    --jp-layout-color3: var(--colab-primary-surface-color, white);\n",
              "                }\n",
              "            </style>\n",
              "            "
            ]
          },
          "metadata": {}
        }
      ]
    },
    {
      "cell_type": "markdown",
      "source": [
        "### Obtain Spectral Data"
      ],
      "metadata": {
        "id": "0id-TmO4Z0NC"
      }
    },
    {
      "cell_type": "markdown",
      "source": [
        "Need spectral data for the first part of the drought (and as inputs to the model). This time frame is typically early in the season."
      ],
      "metadata": {
        "id": "zMEpNNg0Z2R6"
      }
    },
    {
      "cell_type": "code",
      "source": [
        "input_bands = ['SR_B2','SR_B3','SR_B4','SR_B5','SR_B6','SR_B7','ST_B10','NDVI','NDMI','MNDWI','EVI','SAVI','MSAVI','MSI']"
      ],
      "metadata": {
        "colab": {
          "base_uri": "https://localhost:8080/",
          "height": 17
        },
        "id": "pXvZDRNlZzes",
        "outputId": "c8f063ef-9d2a-4d39-cba2-860a302410d2"
      },
      "execution_count": null,
      "outputs": [
        {
          "output_type": "display_data",
          "data": {
            "text/plain": [
              "<IPython.core.display.HTML object>"
            ],
            "text/html": [
              "\n",
              "            <style>\n",
              "                .geemap-dark {\n",
              "                    --jp-widgets-color: white;\n",
              "                    --jp-widgets-label-color: white;\n",
              "                    --jp-ui-font-color1: white;\n",
              "                    --jp-layout-color2: #454545;\n",
              "                    background-color: #383838;\n",
              "                }\n",
              "                    \n",
              "                .geemap-dark .jupyter-button {\n",
              "                    --jp-layout-color3: #383838;\n",
              "                }\n",
              "                \n",
              "                .geemap-colab {\n",
              "                    background-color: var(--colab-primary-surface-color, white);\n",
              "                }\n",
              "                    \n",
              "                .geemap-colab .jupyter-button {\n",
              "                    --jp-layout-color3: var(--colab-primary-surface-color, white);\n",
              "                }\n",
              "            </style>\n",
              "            "
            ]
          },
          "metadata": {}
        }
      ]
    },
    {
      "cell_type": "markdown",
      "source": [
        "#### Testing and Training Data"
      ],
      "metadata": {
        "id": "pzsGMPr-Z7KO"
      }
    },
    {
      "cell_type": "code",
      "source": [
        "# Inputs to the function to get testing and training data for Three Rivers\n",
        "# 2022 was the driest year so this will be best to use for testing and training\n",
        "\n",
        "save_landsat8(\n",
        "    roi = ee.Geometry.Polygon(ThreeRivers_polygon),\n",
        "    date_range = ee.DateRange('2022-05-01', '2022-05-31'),\n",
        "    bands = input_bands,\n",
        "    roiname = 'ThreeRivers',\n",
        "    datename = 'May2022')"
      ],
      "metadata": {
        "id": "Ols5sy1JZ6Rj"
      },
      "execution_count": null,
      "outputs": []
    },
    {
      "cell_type": "markdown",
      "source": [
        "Landsat Imagery for Three Rivers Training and Testing is from 2022-05-13"
      ],
      "metadata": {
        "id": "-8RcPdbCZ_LG"
      }
    },
    {
      "cell_type": "markdown",
      "source": [
        "#### Validation Data"
      ],
      "metadata": {
        "id": "EtKgSVGCaByF"
      }
    },
    {
      "cell_type": "code",
      "source": [
        "# Inputs to the function to get validation data\n",
        "# 2021 was another dry year so this will be good to use for validation\n",
        "\n",
        "save_landsat8(\n",
        "    roi = ee.Geometry.Polygon(ThreeRivers_polygon),\n",
        "    date_range = ee.DateRange('2021-06-01', '2021-06-30'),\n",
        "    bands = input_bands,\n",
        "    roiname = 'ThreeRivers',\n",
        "    datename = 'June2021')"
      ],
      "metadata": {
        "id": "6g8FmB5gZ-dy"
      },
      "execution_count": null,
      "outputs": []
    },
    {
      "cell_type": "markdown",
      "source": [
        "Landsat Imagery for Three Rivers Validation is from 2021-06-11"
      ],
      "metadata": {
        "id": "r3fVaj0baG_9"
      }
    },
    {
      "cell_type": "markdown",
      "source": [
        "### Create Dataframe of Data"
      ],
      "metadata": {
        "id": "Au6D-2nHaJZf"
      }
    },
    {
      "cell_type": "code",
      "source": [
        "# inputs to function and run the function to create a dataframe for ThreeRivers 2022\n",
        "# these are for training and testing\n",
        "\n",
        "roiname='ThreeRivers'\n",
        "files = [f for f in os.listdir() if f.endswith('ThreeRiversMay2022_ls8.tif')]\n",
        "ThreeRivers_2022_df = geotiff_df(files, roiname)"
      ],
      "metadata": {
        "colab": {
          "base_uri": "https://localhost:8080/",
          "height": 17
        },
        "id": "e3b8-0AraL8f",
        "outputId": "74820279-9e0e-4bb8-dfd7-aadc7de781d7"
      },
      "execution_count": null,
      "outputs": [
        {
          "output_type": "display_data",
          "data": {
            "text/plain": [
              "<IPython.core.display.HTML object>"
            ],
            "text/html": [
              "\n",
              "            <style>\n",
              "                .geemap-dark {\n",
              "                    --jp-widgets-color: white;\n",
              "                    --jp-widgets-label-color: white;\n",
              "                    --jp-ui-font-color1: white;\n",
              "                    --jp-layout-color2: #454545;\n",
              "                    background-color: #383838;\n",
              "                }\n",
              "                    \n",
              "                .geemap-dark .jupyter-button {\n",
              "                    --jp-layout-color3: #383838;\n",
              "                }\n",
              "                \n",
              "                .geemap-colab {\n",
              "                    background-color: var(--colab-primary-surface-color, white);\n",
              "                }\n",
              "                    \n",
              "                .geemap-colab .jupyter-button {\n",
              "                    --jp-layout-color3: var(--colab-primary-surface-color, white);\n",
              "                }\n",
              "            </style>\n",
              "            "
            ]
          },
          "metadata": {}
        }
      ]
    },
    {
      "cell_type": "code",
      "source": [
        "# inputs to function and run the function to create a dataframe for ThreeRivers 2021\n",
        "# these are for validation\n",
        "\n",
        "roiname='ThreeRivers'\n",
        "files = [f for f in os.listdir() if f.endswith('ThreeRiversJune2021_ls8.tif')]\n",
        "ThreeRivers_2021_df = geotiff_df(files, roiname)"
      ],
      "metadata": {
        "colab": {
          "base_uri": "https://localhost:8080/",
          "height": 17
        },
        "id": "a5v3tCEmaPOT",
        "outputId": "305644ac-9dce-4dde-89f9-161c4f2a2518"
      },
      "execution_count": null,
      "outputs": [
        {
          "output_type": "display_data",
          "data": {
            "text/plain": [
              "<IPython.core.display.HTML object>"
            ],
            "text/html": [
              "\n",
              "            <style>\n",
              "                .geemap-dark {\n",
              "                    --jp-widgets-color: white;\n",
              "                    --jp-widgets-label-color: white;\n",
              "                    --jp-ui-font-color1: white;\n",
              "                    --jp-layout-color2: #454545;\n",
              "                    background-color: #383838;\n",
              "                }\n",
              "                    \n",
              "                .geemap-dark .jupyter-button {\n",
              "                    --jp-layout-color3: #383838;\n",
              "                }\n",
              "                \n",
              "                .geemap-colab {\n",
              "                    background-color: var(--colab-primary-surface-color, white);\n",
              "                }\n",
              "                    \n",
              "                .geemap-colab .jupyter-button {\n",
              "                    --jp-layout-color3: var(--colab-primary-surface-color, white);\n",
              "                }\n",
              "            </style>\n",
              "            "
            ]
          },
          "metadata": {}
        }
      ]
    },
    {
      "cell_type": "markdown",
      "source": [
        "### Elevation Data"
      ],
      "metadata": {
        "id": "XzR2VXRMaQ68"
      }
    },
    {
      "cell_type": "markdown",
      "source": [
        "Using Esri's ArcGIS Pro, imported an example geotiff (one that was retrieved above) to Esri for the area of interest. Terrain derivatives created from Digital Terrain Model (DTM) are available in Esri. Added slope and aspect layers (description of data: https://www.arcgis.com/home/item.html?id=58a541efc59545e6b7137f961d7de883) to the map and exported the raster data using the imported geotiff for the extent, the coordinate system, and the raster properties (looked at the Source properties, raster information to get number of columns and rows or alternately cell size) and maintained clipping extent. Then, still within Esri, created a csv of the upscaled data to import here."
      ],
      "metadata": {
        "id": "ZG1xBcrbaUWl"
      }
    },
    {
      "cell_type": "code",
      "source": [
        "# Terrain: slope and aspect\n",
        "# import csv but without first column of OIDs (ESRI byproduct)\n",
        "# https://www.statology.org/pandas-read-csv-ignore-first-column/\n",
        "# slope values are in degrees and aspect values are in cardinal direction with 361 as flat ground.\n",
        "\n",
        "# ThreeRivers area\n",
        "with open('https://github.com/belalabouzaid/siads699_team13_collab/blob/main/Data/threerivers_dem_var.csv') as x:\n",
        "    ncols = len(x.readline().split(','))\n",
        "threerivers_dem_var = pd.read_csv('https://github.com/belalabouzaid/siads699_team13_collab/blob/main/Data/threerivers_dem_var.csv', usecols=range(1,ncols))"
      ],
      "metadata": {
        "colab": {
          "base_uri": "https://localhost:8080/",
          "height": 17
        },
        "id": "5XFEvh66aXMm",
        "outputId": "e8272791-f987-49b2-8ff1-fea03b2bfca3"
      },
      "execution_count": null,
      "outputs": [
        {
          "output_type": "display_data",
          "data": {
            "text/plain": [
              "<IPython.core.display.HTML object>"
            ],
            "text/html": [
              "\n",
              "            <style>\n",
              "                .geemap-dark {\n",
              "                    --jp-widgets-color: white;\n",
              "                    --jp-widgets-label-color: white;\n",
              "                    --jp-ui-font-color1: white;\n",
              "                    --jp-layout-color2: #454545;\n",
              "                    background-color: #383838;\n",
              "                }\n",
              "                    \n",
              "                .geemap-dark .jupyter-button {\n",
              "                    --jp-layout-color3: #383838;\n",
              "                }\n",
              "                \n",
              "                .geemap-colab {\n",
              "                    background-color: var(--colab-primary-surface-color, white);\n",
              "                }\n",
              "                    \n",
              "                .geemap-colab .jupyter-button {\n",
              "                    --jp-layout-color3: var(--colab-primary-surface-color, white);\n",
              "                }\n",
              "            </style>\n",
              "            "
            ]
          },
          "metadata": {}
        }
      ]
    },
    {
      "cell_type": "code",
      "source": [
        "# merge data dataframes with appropriate dem variables df\n",
        "\n",
        "#2021 data\n",
        "ThreeRivers_June2021_df = pd.merge(threerivers_dem_var, ThreeRivers_2021_df, how='left', left_on=['X','Y'], right_on = ['x','y'])\n",
        "ThreeRivers_June2021_df.rename(columns={'aspect_Band_1': 'aspect', 'slope_Band_1': 'slope'}, inplace=True)\n",
        "\n",
        "#2022 data\n",
        "ThreeRivers_May2022_df = pd.merge(threerivers_dem_var, ThreeRivers_2022_df, how='left', left_on=['X','Y'], right_on = ['x','y'])\n",
        "ThreeRivers_May2022_df.rename(columns={'aspect_Band_1': 'aspect', 'slope_Band_1': 'slope'}, inplace=True)"
      ],
      "metadata": {
        "colab": {
          "base_uri": "https://localhost:8080/",
          "height": 17
        },
        "id": "1KfvYN3sadcZ",
        "outputId": "92de028d-9083-4f53-d8ac-59141ce6138b"
      },
      "execution_count": null,
      "outputs": [
        {
          "output_type": "display_data",
          "data": {
            "text/plain": [
              "<IPython.core.display.HTML object>"
            ],
            "text/html": [
              "\n",
              "            <style>\n",
              "                .geemap-dark {\n",
              "                    --jp-widgets-color: white;\n",
              "                    --jp-widgets-label-color: white;\n",
              "                    --jp-ui-font-color1: white;\n",
              "                    --jp-layout-color2: #454545;\n",
              "                    background-color: #383838;\n",
              "                }\n",
              "                    \n",
              "                .geemap-dark .jupyter-button {\n",
              "                    --jp-layout-color3: #383838;\n",
              "                }\n",
              "                \n",
              "                .geemap-colab {\n",
              "                    background-color: var(--colab-primary-surface-color, white);\n",
              "                }\n",
              "                    \n",
              "                .geemap-colab .jupyter-button {\n",
              "                    --jp-layout-color3: var(--colab-primary-surface-color, white);\n",
              "                }\n",
              "            </style>\n",
              "            "
            ]
          },
          "metadata": {}
        }
      ]
    },
    {
      "cell_type": "markdown",
      "source": [
        "### SMI Data"
      ],
      "metadata": {
        "id": "qqBWnaTfagrW"
      }
    },
    {
      "cell_type": "markdown",
      "source": [
        "The target variable for the last part of the drought, the Soil Moisture Index, was calculated in ArcGIS Pro and brought into this workspace.  The data for the last part of the drought is typically several months later, so usually in June, July, or August.\n",
        "Using Esri's ArcGIS Pro, imported geotiffs of a cloud free image of Bands 4, 5, 10, 11 from Landsat OLI/TIRS C2 L1 from https://earthexplorer.usgs.gov for the region of interest. Performed raster calculations based on https://www.youtube.com/watch?v=KeIYja7CaFg of the method that is referenced by our inspiration study in Korea and detailed in the paper here: https://ieeexplore.ieee.org/document/1370089. SMI was calculated accordingly and brought into Python to join with input data from March."
      ],
      "metadata": {
        "id": "BDKoLmB1ajhx"
      }
    },
    {
      "cell_type": "code",
      "source": [
        "# import csv but without first column of OIDs (ESRI byproduct)\n",
        "# https://www.statology.org/pandas-read-csv-ignore-first-column/\n",
        "# soil moisture values range from 0 (dry) to 1 (wet)\n",
        "\n",
        "# #2022 - Training and Testing - Data from July 16, 2022\n",
        "with open('https://github.com/belalabouzaid/siads699_team13_collab/blob/main/Data/smi_ThreeRivers_2022.csv') as x:\n",
        "    ncols = len(x.readline().split(','))\n",
        "smi_ThreeRivers_2022 = pd.read_csv('https://github.com/belalabouzaid/siads699_team13_collab/blob/main/Data/smi_ThreeRivers_2022.csv', usecols=range(1,ncols))\n",
        "smi_ThreeRivers_2022.rename(columns = {'smi22_Clip_Band_1': 'smi'}, inplace=True)\n",
        "\n",
        "# #2021 - Validation - Data from August 30, 2021\n",
        "with open('https://github.com/belalabouzaid/siads699_team13_collab/blob/main/Data/smi_ThreeRivers_2021.csv') as x:\n",
        "    ncols = len(x.readline().split(','))\n",
        "smi_ThreeRivers_2021 = pd.read_csv('https://github.com/belalabouzaid/siads699_team13_collab/blob/main/Data/smi_ThreeRivers_2021.csv', usecols=range(1,ncols))\n",
        "smi_ThreeRivers_2021.rename(columns = {'smi21_Clip_Band_1': 'smi'}, inplace=True)"
      ],
      "metadata": {
        "colab": {
          "base_uri": "https://localhost:8080/",
          "height": 17
        },
        "id": "iAgvrBBIal4W",
        "outputId": "56a632e9-788b-4604-8fa0-14b8e4983f98"
      },
      "execution_count": null,
      "outputs": [
        {
          "output_type": "display_data",
          "data": {
            "text/plain": [
              "<IPython.core.display.HTML object>"
            ],
            "text/html": [
              "\n",
              "            <style>\n",
              "                .geemap-dark {\n",
              "                    --jp-widgets-color: white;\n",
              "                    --jp-widgets-label-color: white;\n",
              "                    --jp-ui-font-color1: white;\n",
              "                    --jp-layout-color2: #454545;\n",
              "                    background-color: #383838;\n",
              "                }\n",
              "                    \n",
              "                .geemap-dark .jupyter-button {\n",
              "                    --jp-layout-color3: #383838;\n",
              "                }\n",
              "                \n",
              "                .geemap-colab {\n",
              "                    background-color: var(--colab-primary-surface-color, white);\n",
              "                }\n",
              "                    \n",
              "                .geemap-colab .jupyter-button {\n",
              "                    --jp-layout-color3: var(--colab-primary-surface-color, white);\n",
              "                }\n",
              "            </style>\n",
              "            "
            ]
          },
          "metadata": {}
        }
      ]
    },
    {
      "cell_type": "code",
      "source": [
        "ThreeRivers_2022 = pd.merge(ThreeRivers_May2022_df, smi_ThreeRivers_2022)\n",
        "ThreeRivers_2021 = pd.merge(ThreeRivers_June2021_df, smi_ThreeRivers_2021)"
      ],
      "metadata": {
        "colab": {
          "base_uri": "https://localhost:8080/",
          "height": 17
        },
        "id": "FCyI5M2CatMg",
        "outputId": "fb26062f-fb03-496a-ea89-3eebd9e74363"
      },
      "execution_count": null,
      "outputs": [
        {
          "output_type": "display_data",
          "data": {
            "text/plain": [
              "<IPython.core.display.HTML object>"
            ],
            "text/html": [
              "\n",
              "            <style>\n",
              "                .geemap-dark {\n",
              "                    --jp-widgets-color: white;\n",
              "                    --jp-widgets-label-color: white;\n",
              "                    --jp-ui-font-color1: white;\n",
              "                    --jp-layout-color2: #454545;\n",
              "                    background-color: #383838;\n",
              "                }\n",
              "                    \n",
              "                .geemap-dark .jupyter-button {\n",
              "                    --jp-layout-color3: #383838;\n",
              "                }\n",
              "                \n",
              "                .geemap-colab {\n",
              "                    background-color: var(--colab-primary-surface-color, white);\n",
              "                }\n",
              "                    \n",
              "                .geemap-colab .jupyter-button {\n",
              "                    --jp-layout-color3: var(--colab-primary-surface-color, white);\n",
              "                }\n",
              "            </style>\n",
              "            "
            ]
          },
          "metadata": {}
        }
      ]
    },
    {
      "cell_type": "markdown",
      "source": [
        "### Export Finalized Data to CSV"
      ],
      "metadata": {
        "id": "uOxrtWJFau9_"
      }
    },
    {
      "cell_type": "code",
      "source": [
        "# ThreeRivers_2022.to_csv('/content/data/threerivers_2022.csv', index=False)\n",
        "# ThreeRivers_2021.to_csv('/content/data/threerivers_2021.csv', index=False)"
      ],
      "metadata": {
        "colab": {
          "base_uri": "https://localhost:8080/",
          "height": 17
        },
        "id": "1wUhvTmiav4V",
        "outputId": "e4d546c6-5b17-4e00-9427-9023009983ee"
      },
      "execution_count": null,
      "outputs": [
        {
          "output_type": "display_data",
          "data": {
            "text/plain": [
              "<IPython.core.display.HTML object>"
            ],
            "text/html": [
              "\n",
              "            <style>\n",
              "                .geemap-dark {\n",
              "                    --jp-widgets-color: white;\n",
              "                    --jp-widgets-label-color: white;\n",
              "                    --jp-ui-font-color1: white;\n",
              "                    --jp-layout-color2: #454545;\n",
              "                    background-color: #383838;\n",
              "                }\n",
              "                    \n",
              "                .geemap-dark .jupyter-button {\n",
              "                    --jp-layout-color3: #383838;\n",
              "                }\n",
              "                \n",
              "                .geemap-colab {\n",
              "                    background-color: var(--colab-primary-surface-color, white);\n",
              "                }\n",
              "                    \n",
              "                .geemap-colab .jupyter-button {\n",
              "                    --jp-layout-color3: var(--colab-primary-surface-color, white);\n",
              "                }\n",
              "            </style>\n",
              "            "
            ]
          },
          "metadata": {}
        }
      ]
    },
    {
      "cell_type": "markdown",
      "source": [
        "## Mariposa, CA"
      ],
      "metadata": {
        "id": "Nkm-sx1f3os9"
      }
    },
    {
      "cell_type": "code",
      "source": [
        "# area is 20.69 sqMiles or 54 sqKilometers\n",
        "mariposa_polygon = [[\n",
        "                         [-119.93332186358441,37.492038950610564]\n",
        "                        ,[-120.02430507710635,37.491733062301975]\n",
        "                        ,[-120.02462577206953,37.55175969111435]\n",
        "                        ,[-119.93364255854758,37.55206533342423]\n",
        "                        ]]"
      ],
      "metadata": {
        "colab": {
          "base_uri": "https://localhost:8080/",
          "height": 17
        },
        "id": "TvMGonFg3nvE",
        "outputId": "2f8af9a7-0be7-4da5-8a3a-62a72b3c9c2e"
      },
      "execution_count": null,
      "outputs": [
        {
          "output_type": "display_data",
          "data": {
            "text/plain": [
              "<IPython.core.display.HTML object>"
            ],
            "text/html": [
              "\n",
              "            <style>\n",
              "                .geemap-dark {\n",
              "                    --jp-widgets-color: white;\n",
              "                    --jp-widgets-label-color: white;\n",
              "                    --jp-ui-font-color1: white;\n",
              "                    --jp-layout-color2: #454545;\n",
              "                    background-color: #383838;\n",
              "                }\n",
              "                    \n",
              "                .geemap-dark .jupyter-button {\n",
              "                    --jp-layout-color3: #383838;\n",
              "                }\n",
              "                \n",
              "                .geemap-colab {\n",
              "                    background-color: var(--colab-primary-surface-color, white);\n",
              "                }\n",
              "                    \n",
              "                .geemap-colab .jupyter-button {\n",
              "                    --jp-layout-color3: var(--colab-primary-surface-color, white);\n",
              "                }\n",
              "            </style>\n",
              "            "
            ]
          },
          "metadata": {}
        }
      ]
    },
    {
      "cell_type": "markdown",
      "source": [
        "### Obtain Spectral Data"
      ],
      "metadata": {
        "id": "RyamPHvP6g36"
      }
    },
    {
      "cell_type": "code",
      "source": [
        "input_bands = ['SR_B2','SR_B3','SR_B4','SR_B5','SR_B6','SR_B7','ST_B10','NDVI','NDMI','MNDWI','EVI','SAVI','MSAVI','MSI']"
      ],
      "metadata": {
        "colab": {
          "base_uri": "https://localhost:8080/",
          "height": 17
        },
        "id": "3qKB7UpL5adc",
        "outputId": "3a36e763-4004-4a31-88cf-408a298b0c5c"
      },
      "execution_count": null,
      "outputs": [
        {
          "output_type": "display_data",
          "data": {
            "text/plain": [
              "<IPython.core.display.HTML object>"
            ],
            "text/html": [
              "\n",
              "            <style>\n",
              "                .geemap-dark {\n",
              "                    --jp-widgets-color: white;\n",
              "                    --jp-widgets-label-color: white;\n",
              "                    --jp-ui-font-color1: white;\n",
              "                    --jp-layout-color2: #454545;\n",
              "                    background-color: #383838;\n",
              "                }\n",
              "                    \n",
              "                .geemap-dark .jupyter-button {\n",
              "                    --jp-layout-color3: #383838;\n",
              "                }\n",
              "                \n",
              "                .geemap-colab {\n",
              "                    background-color: var(--colab-primary-surface-color, white);\n",
              "                }\n",
              "                    \n",
              "                .geemap-colab .jupyter-button {\n",
              "                    --jp-layout-color3: var(--colab-primary-surface-color, white);\n",
              "                }\n",
              "            </style>\n",
              "            "
            ]
          },
          "metadata": {}
        }
      ]
    },
    {
      "cell_type": "markdown",
      "source": [
        "#### Testing and Training Data"
      ],
      "metadata": {
        "id": "XYULEKwP5gNv"
      }
    },
    {
      "cell_type": "code",
      "source": [
        "# Inputs to the function to get the testing and training data\n",
        "# 2021 was the driest year for Mariposa so this will be best to use for testing and training\n",
        "\n",
        "save_landsat8(\n",
        "    roi = ee.Geometry.Polygon(mariposa_polygon),\n",
        "    date_range = ee.DateRange('2021-05-01', '2021-05-31'),\n",
        "    bands = input_bands,\n",
        "    roiname = 'mariposa',\n",
        "    datename = 'May2021')"
      ],
      "metadata": {
        "id": "AtJzYg1C4zQN"
      },
      "execution_count": null,
      "outputs": []
    },
    {
      "cell_type": "markdown",
      "source": [
        "Landsat Imagery for Mariposa Training and Testing is from 2021-05-01"
      ],
      "metadata": {
        "id": "R6i5gHvf507Y"
      }
    },
    {
      "cell_type": "markdown",
      "source": [
        "#### Validation Data"
      ],
      "metadata": {
        "id": "pASRhr-B58HC"
      }
    },
    {
      "cell_type": "code",
      "source": [
        "# Inputs to the function to get validation data\n",
        "# 2022 was another dry year so this will be good to use for validation\n",
        "\n",
        "save_landsat8(\n",
        "    roi = ee.Geometry.Polygon(mariposa_polygon),\n",
        "    date_range = ee.DateRange('2022-05-01', '2022-05-31'),\n",
        "    bands = input_bands,\n",
        "    roiname = 'mariposa',\n",
        "    datename = 'May2022')"
      ],
      "metadata": {
        "id": "SrmbwQTv599f"
      },
      "execution_count": null,
      "outputs": []
    },
    {
      "cell_type": "markdown",
      "source": [
        "Landsat Imagery for Mariposa Training and Testing is from 2022-05-20"
      ],
      "metadata": {
        "id": "vfJtfyxa6QRz"
      }
    },
    {
      "cell_type": "markdown",
      "source": [
        "### Create Dataframe of Data"
      ],
      "metadata": {
        "id": "IGei6MuP6WD5"
      }
    },
    {
      "cell_type": "code",
      "source": [
        "# inputs to function and run the function to create a dataframe for Mariposa 2021\n",
        "# this is for training and testing\n",
        "\n",
        "roiname='mariposa'\n",
        "files = [f for f in os.listdir() if f.endswith('mariposaMay2021_ls8.tif')]\n",
        "mariposa_2021_df = geotiff_df(files, roiname)"
      ],
      "metadata": {
        "colab": {
          "base_uri": "https://localhost:8080/",
          "height": 17
        },
        "id": "ENIqEC8T6aWl",
        "outputId": "e5724980-90aa-4feb-b70a-d5201aa7c582"
      },
      "execution_count": null,
      "outputs": [
        {
          "output_type": "display_data",
          "data": {
            "text/plain": [
              "<IPython.core.display.HTML object>"
            ],
            "text/html": [
              "\n",
              "            <style>\n",
              "                .geemap-dark {\n",
              "                    --jp-widgets-color: white;\n",
              "                    --jp-widgets-label-color: white;\n",
              "                    --jp-ui-font-color1: white;\n",
              "                    --jp-layout-color2: #454545;\n",
              "                    background-color: #383838;\n",
              "                }\n",
              "                    \n",
              "                .geemap-dark .jupyter-button {\n",
              "                    --jp-layout-color3: #383838;\n",
              "                }\n",
              "                \n",
              "                .geemap-colab {\n",
              "                    background-color: var(--colab-primary-surface-color, white);\n",
              "                }\n",
              "                    \n",
              "                .geemap-colab .jupyter-button {\n",
              "                    --jp-layout-color3: var(--colab-primary-surface-color, white);\n",
              "                }\n",
              "            </style>\n",
              "            "
            ]
          },
          "metadata": {}
        }
      ]
    },
    {
      "cell_type": "code",
      "source": [
        "# inputs to function and run the function to create a dataframe for Mariposa 2022\n",
        "# this is for validation\n",
        "\n",
        "roiname='mariposa'\n",
        "files = [f for f in os.listdir() if f.endswith('mariposaMay2022_ls8.tif')]\n",
        "mariposa_2022_df = geotiff_df(files, roiname)"
      ],
      "metadata": {
        "colab": {
          "base_uri": "https://localhost:8080/",
          "height": 17
        },
        "id": "lMQ8PBiC7B6O",
        "outputId": "75fe4019-a477-461d-b9a2-09c55a88b3b2"
      },
      "execution_count": null,
      "outputs": [
        {
          "output_type": "display_data",
          "data": {
            "text/plain": [
              "<IPython.core.display.HTML object>"
            ],
            "text/html": [
              "\n",
              "            <style>\n",
              "                .geemap-dark {\n",
              "                    --jp-widgets-color: white;\n",
              "                    --jp-widgets-label-color: white;\n",
              "                    --jp-ui-font-color1: white;\n",
              "                    --jp-layout-color2: #454545;\n",
              "                    background-color: #383838;\n",
              "                }\n",
              "                    \n",
              "                .geemap-dark .jupyter-button {\n",
              "                    --jp-layout-color3: #383838;\n",
              "                }\n",
              "                \n",
              "                .geemap-colab {\n",
              "                    background-color: var(--colab-primary-surface-color, white);\n",
              "                }\n",
              "                    \n",
              "                .geemap-colab .jupyter-button {\n",
              "                    --jp-layout-color3: var(--colab-primary-surface-color, white);\n",
              "                }\n",
              "            </style>\n",
              "            "
            ]
          },
          "metadata": {}
        }
      ]
    },
    {
      "cell_type": "markdown",
      "source": [
        "### Elevation Data"
      ],
      "metadata": {
        "id": "qPINmoL1FCyc"
      }
    },
    {
      "cell_type": "code",
      "source": [
        "# Terrain: slope and aspect\n",
        "# import csv but without first column of OIDs (ESRI byproduct)\n",
        "# https://www.statology.org/pandas-read-csv-ignore-first-column/\n",
        "# slope values are in degrees and aspect values are in cardinal direction with 361 as flat ground.\n",
        "\n",
        "# Mariposa area\n",
        "with open('https://github.com/belalabouzaid/siads699_team13_collab/blob/main/Data/mariposa_dem_var.csv') as x:\n",
        "    ncols = len(x.readline().split(','))\n",
        "mariposa_dem_var = pd.read_csv('https://github.com/belalabouzaid/siads699_team13_collab/blob/main/Data/mariposa_dem_var.csv', usecols=range(1,ncols))"
      ],
      "metadata": {
        "colab": {
          "base_uri": "https://localhost:8080/",
          "height": 17
        },
        "id": "BRNeDaqXFNBu",
        "outputId": "ee458e41-dd26-4b02-985a-056e2fefd644"
      },
      "execution_count": null,
      "outputs": [
        {
          "output_type": "display_data",
          "data": {
            "text/plain": [
              "<IPython.core.display.HTML object>"
            ],
            "text/html": [
              "\n",
              "            <style>\n",
              "                .geemap-dark {\n",
              "                    --jp-widgets-color: white;\n",
              "                    --jp-widgets-label-color: white;\n",
              "                    --jp-ui-font-color1: white;\n",
              "                    --jp-layout-color2: #454545;\n",
              "                    background-color: #383838;\n",
              "                }\n",
              "                    \n",
              "                .geemap-dark .jupyter-button {\n",
              "                    --jp-layout-color3: #383838;\n",
              "                }\n",
              "                \n",
              "                .geemap-colab {\n",
              "                    background-color: var(--colab-primary-surface-color, white);\n",
              "                }\n",
              "                    \n",
              "                .geemap-colab .jupyter-button {\n",
              "                    --jp-layout-color3: var(--colab-primary-surface-color, white);\n",
              "                }\n",
              "            </style>\n",
              "            "
            ]
          },
          "metadata": {}
        }
      ]
    },
    {
      "cell_type": "code",
      "source": [
        "# merge data dataframes with appropriate dem variables df\n",
        "\n",
        "#2021 data\n",
        "mariposa_May2021_df = pd.merge(mariposa_dem_var, mariposa_2021_df, how='left', left_on=['X','Y'], right_on = ['x','y'])\n",
        "mariposa_May2021_df.rename(columns={'aspect_Band_1': 'aspect', 'slope_Band_1': 'slope'}, inplace=True)\n",
        "\n",
        "#2022 data\n",
        "mariposa_May2022_df = pd.merge(mariposa_dem_var, mariposa_2022_df, how='left', left_on=['X','Y'], right_on = ['x','y'])\n",
        "mariposa_May2022_df.rename(columns={'aspect_Band_1': 'aspect', 'slope_Band_1': 'slope'}, inplace=True)"
      ],
      "metadata": {
        "colab": {
          "base_uri": "https://localhost:8080/",
          "height": 17
        },
        "id": "cXPOrbSVFXPq",
        "outputId": "5a877c4d-b255-4bd2-e6cf-8f7bf351ec94"
      },
      "execution_count": null,
      "outputs": [
        {
          "output_type": "display_data",
          "data": {
            "text/plain": [
              "<IPython.core.display.HTML object>"
            ],
            "text/html": [
              "\n",
              "            <style>\n",
              "                .geemap-dark {\n",
              "                    --jp-widgets-color: white;\n",
              "                    --jp-widgets-label-color: white;\n",
              "                    --jp-ui-font-color1: white;\n",
              "                    --jp-layout-color2: #454545;\n",
              "                    background-color: #383838;\n",
              "                }\n",
              "                    \n",
              "                .geemap-dark .jupyter-button {\n",
              "                    --jp-layout-color3: #383838;\n",
              "                }\n",
              "                \n",
              "                .geemap-colab {\n",
              "                    background-color: var(--colab-primary-surface-color, white);\n",
              "                }\n",
              "                    \n",
              "                .geemap-colab .jupyter-button {\n",
              "                    --jp-layout-color3: var(--colab-primary-surface-color, white);\n",
              "                }\n",
              "            </style>\n",
              "            "
            ]
          },
          "metadata": {}
        }
      ]
    },
    {
      "cell_type": "markdown",
      "source": [
        "### SMI Data"
      ],
      "metadata": {
        "id": "Gbw73GK4T7GP"
      }
    },
    {
      "cell_type": "code",
      "source": [
        "# import csv but without first column of OIDs (ESRI byproduct)\n",
        "# https://www.statology.org/pandas-read-csv-ignore-first-column/\n",
        "# soil moisture values range from 0 (dry) to 1 (wet)\n",
        "\n",
        "# 2021 - Training and Testing - Data from July 20, 2021\n",
        "with open('https://github.com/belalabouzaid/siads699_team13_collab/blob/main/Data/smi_mariposa_2021.csv') as x:\n",
        "    ncols = len(x.readline().split(','))\n",
        "smi_mariposa_2021 = pd.read_csv('https://github.com/belalabouzaid/siads699_team13_collab/blob/main/Data/smi_mariposa_2021.csv', usecols=range(1,ncols))\n",
        "smi_mariposa_2021.rename(columns = {'smi_21_Band_1': 'smi'}, inplace=True)\n",
        "\n",
        "# #2022 - Validation - Data from July 23, 2022\n",
        "with open('https://github.com/belalabouzaid/siads699_team13_collab/blob/main/Data/smi_mariposa_2022.csv') as x:\n",
        "    ncols = len(x.readline().split(','))\n",
        "smi_mariposa_2022 = pd.read_csv('https://github.com/belalabouzaid/siads699_team13_collab/blob/main/Data/smi_mariposa_2022.csv', usecols=range(1,ncols))\n",
        "smi_mariposa_2022.rename(columns = {'smi_22_Band_1': 'smi'}, inplace=True)"
      ],
      "metadata": {
        "colab": {
          "base_uri": "https://localhost:8080/",
          "height": 17
        },
        "id": "9CN8BDjAFjB-",
        "outputId": "db2e3cc1-d372-4120-d3b4-dd0bb313de41"
      },
      "execution_count": null,
      "outputs": [
        {
          "output_type": "display_data",
          "data": {
            "text/plain": [
              "<IPython.core.display.HTML object>"
            ],
            "text/html": [
              "\n",
              "            <style>\n",
              "                .geemap-dark {\n",
              "                    --jp-widgets-color: white;\n",
              "                    --jp-widgets-label-color: white;\n",
              "                    --jp-ui-font-color1: white;\n",
              "                    --jp-layout-color2: #454545;\n",
              "                    background-color: #383838;\n",
              "                }\n",
              "                    \n",
              "                .geemap-dark .jupyter-button {\n",
              "                    --jp-layout-color3: #383838;\n",
              "                }\n",
              "                \n",
              "                .geemap-colab {\n",
              "                    background-color: var(--colab-primary-surface-color, white);\n",
              "                }\n",
              "                    \n",
              "                .geemap-colab .jupyter-button {\n",
              "                    --jp-layout-color3: var(--colab-primary-surface-color, white);\n",
              "                }\n",
              "            </style>\n",
              "            "
            ]
          },
          "metadata": {}
        }
      ]
    },
    {
      "cell_type": "code",
      "source": [
        "#merge smi with data\n",
        "mariposa_2021 = pd.merge(mariposa_May2021_df, smi_mariposa_2021)\n",
        "mariposa_2022 = pd.merge(mariposa_May2022_df, smi_mariposa_2022)"
      ],
      "metadata": {
        "colab": {
          "base_uri": "https://localhost:8080/",
          "height": 17
        },
        "id": "0iT3_1Q_mAFK",
        "outputId": "55027f3c-10ed-484e-e875-1b0094c6728e"
      },
      "execution_count": null,
      "outputs": [
        {
          "output_type": "display_data",
          "data": {
            "text/plain": [
              "<IPython.core.display.HTML object>"
            ],
            "text/html": [
              "\n",
              "            <style>\n",
              "                .geemap-dark {\n",
              "                    --jp-widgets-color: white;\n",
              "                    --jp-widgets-label-color: white;\n",
              "                    --jp-ui-font-color1: white;\n",
              "                    --jp-layout-color2: #454545;\n",
              "                    background-color: #383838;\n",
              "                }\n",
              "                    \n",
              "                .geemap-dark .jupyter-button {\n",
              "                    --jp-layout-color3: #383838;\n",
              "                }\n",
              "                \n",
              "                .geemap-colab {\n",
              "                    background-color: var(--colab-primary-surface-color, white);\n",
              "                }\n",
              "                    \n",
              "                .geemap-colab .jupyter-button {\n",
              "                    --jp-layout-color3: var(--colab-primary-surface-color, white);\n",
              "                }\n",
              "            </style>\n",
              "            "
            ]
          },
          "metadata": {}
        }
      ]
    },
    {
      "cell_type": "markdown",
      "source": [
        "### Export Finalized Data to CSV"
      ],
      "metadata": {
        "id": "rHIX43x0miKv"
      }
    },
    {
      "cell_type": "code",
      "source": [
        "# mariposa_2021.to_csv('/content/data/mariposa_2021.csv', index=False)\n",
        "# mariposa_2022.to_csv('/content/data/mariposa_2022.csv', index=False)"
      ],
      "metadata": {
        "colab": {
          "base_uri": "https://localhost:8080/",
          "height": 17
        },
        "id": "L1hFVkr5mbDG",
        "outputId": "3e3ff074-fded-4b23-de6c-640425b46c52"
      },
      "execution_count": null,
      "outputs": [
        {
          "output_type": "display_data",
          "data": {
            "text/plain": [
              "<IPython.core.display.HTML object>"
            ],
            "text/html": [
              "\n",
              "            <style>\n",
              "                .geemap-dark {\n",
              "                    --jp-widgets-color: white;\n",
              "                    --jp-widgets-label-color: white;\n",
              "                    --jp-ui-font-color1: white;\n",
              "                    --jp-layout-color2: #454545;\n",
              "                    background-color: #383838;\n",
              "                }\n",
              "                    \n",
              "                .geemap-dark .jupyter-button {\n",
              "                    --jp-layout-color3: #383838;\n",
              "                }\n",
              "                \n",
              "                .geemap-colab {\n",
              "                    background-color: var(--colab-primary-surface-color, white);\n",
              "                }\n",
              "                    \n",
              "                .geemap-colab .jupyter-button {\n",
              "                    --jp-layout-color3: var(--colab-primary-surface-color, white);\n",
              "                }\n",
              "            </style>\n",
              "            "
            ]
          },
          "metadata": {}
        }
      ]
    }
  ],
  "metadata": {
    "colab": {
      "provenance": [],
      "include_colab_link": true
    },
    "kernelspec": {
      "display_name": "Python 3",
      "name": "python3"
    },
    "language_info": {
      "name": "python"
    }
  },
  "nbformat": 4,
  "nbformat_minor": 0
}