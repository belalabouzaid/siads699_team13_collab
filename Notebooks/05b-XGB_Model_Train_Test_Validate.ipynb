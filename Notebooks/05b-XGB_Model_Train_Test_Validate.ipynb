{
  "nbformat": 4,
  "nbformat_minor": 0,
  "metadata": {
    "colab": {
      "provenance": [],
      "include_colab_link": true
    },
    "kernelspec": {
      "name": "python3",
      "display_name": "Python 3"
    },
    "language_info": {
      "name": "python"
    }
  },
  "cells": [
    {
      "cell_type": "markdown",
      "metadata": {
        "id": "view-in-github",
        "colab_type": "text"
      },
      "source": [
        "<a href=\"https://colab.research.google.com/github/belalabouzaid/siads699_team13_collab/blob/main/Notebooks/5b-XGB_Model_Train_Test_Validate.ipynb\" target=\"_parent\"><img src=\"https://colab.research.google.com/assets/colab-badge.svg\" alt=\"Open In Colab\"/></a>"
      ]
    },
    {
      "cell_type": "markdown",
      "source": [
        "# Notebook Objective\n",
        "The aim of this notebook is to validate the XGB model when used to predict from data that was not part of the training dataset (hidden data)."
      ],
      "metadata": {
        "id": "vNYO8jdJrRJE"
      }
    },
    {
      "cell_type": "code",
      "execution_count": null,
      "metadata": {
        "id": "5H9mjfRX4D7j"
      },
      "outputs": [],
      "source": [
        "# Import libraries\n",
        "import os\n",
        "import pandas as pd\n",
        "import seaborn as sns\n",
        "import matplotlib.pyplot as plt\n",
        "# To work with numpy arrays\n",
        "import numpy as np\n",
        "# ML model building, training and testing\n",
        "import sklearn\n",
        "# Kfold split and scoring\n",
        "from sklearn.model_selection import KFold\n",
        "from sklearn.model_selection import cross_val_score\n",
        "# Build ML pipeline\n",
        "from sklearn.pipeline import Pipeline\n",
        "# Liner regression model building\n",
        "from sklearn.linear_model import LinearRegression\n",
        "# Polynomial regression\n",
        "from sklearn.preprocessing import PolynomialFeatures\n",
        "# sklearn included transformer\n",
        "from sklearn.preprocessing import QuantileTransformer\n",
        "# to split data into test and train\n",
        "from sklearn.model_selection import train_test_split\n",
        "# Scaling transform for PCA\n",
        "from sklearn.preprocessing import StandardScaler\n",
        "from sklearn.preprocessing import MinMaxScaler\n",
        "# To run PCA feature reduction\n",
        "from sklearn.decomposition import PCA\n",
        "# XGBoost model\n",
        "from xgboost import XGBRegressor,XGBClassifier\n",
        "# Random forest regressor\n",
        "from sklearn.ensemble import RandomForestRegressor\n",
        "# for regression error calculation\n",
        "from sklearn.metrics import mean_absolute_error\n",
        "from sklearn.metrics import accuracy_score\n",
        "from sklearn.model_selection import learning_curve\n",
        "# for regression r2 score calculation\n",
        "from sklearn.metrics import r2_score\n",
        "# for regression mse score calculation\n",
        "from sklearn.metrics import mean_squared_error\n",
        "# For hyperparameter tuning\n",
        "from sklearn.model_selection import GridSearchCV\n",
        "from sklearn.metrics import make_scorer\n",
        "# To transform the target variable into a normal distribution\n",
        "from sklearn.compose import TransformedTargetRegressor\n",
        "# visualisation\n",
        "from matplotlib import pyplot"
      ]
    },
    {
      "cell_type": "code",
      "source": [
        "# Defining a function to train and test models\n",
        "def train_test_eval_model(df, reg, features, scale = False, test_size= 0.25, n_pca = None, random_state = 42\n",
        "                     #, early_stop = False\n",
        "                     ):\n",
        "  # takes as an input df: dataframe with all independent variables and the output variable. Output variable must be the last column.\n",
        "  #                   reg: model constructor, example: reg = LinearRegression()\n",
        "  #                   features: series of features from the dataset to be used for train/test, compute this using X.columns\n",
        "  #                   scale = Option to scale features prior to training, default = False\n",
        "  #                   test_size = float, percentage of data to be used for testing. Default = 0.2 (20%)\n",
        "  #                   n_pca = int, number of principal components to reduce the independent varibles to. Default = None (no pca is done). Recommended to use scale = True if using pca.\n",
        "  #                   random_state = int, number to set random split. Defeault = 42.\n",
        "  print(type(reg).__name__)\n",
        "\n",
        "  X = df.iloc[:,:-1] # Select all independent variables as X\n",
        "  y = df.iloc[:,-1]  # Select the last variable in the dataframe as the target variable y\n",
        "\n",
        "  # Splitting the data into test (25%) and train (75%)\n",
        "  X_train, X_test, y_train, y_test = train_test_split(X, y, test_size = test_size, random_state= random_state)\n",
        "\n",
        "  # Normalize independent variables (both train and test) if required\n",
        "  if scale == True:\n",
        "    scaler = StandardScaler()\n",
        "    fit_scaler = scaler.fit(X_train)\n",
        "    X_train = scaler.fit_transform(X_train)\n",
        "    X_test = scaler.transform(X_test)\n",
        "  else:\n",
        "    fit_scaler = None\n",
        "\n",
        "  # Run PCA if required. Recommended to normalize if PCA will be used\n",
        "  if n_pca is not None:\n",
        "    pca = PCA(n_components= n_pca)\n",
        "    X_train = pca.fit_transform(X_train)\n",
        "    X_test = pca.transform(X_test)\n",
        "\n",
        "  # Features into a dataframe\n",
        "  X_train_df= pd.DataFrame(X_train)\n",
        "  X_test_df= pd.DataFrame(X_test)\n",
        "\n",
        "  #if early_stop is not False:\n",
        "  #    reg.fit(X_train_df,y_train, eval_set = [(X_train, y_train), (X_test, y_test)])\n",
        "  #else:\n",
        "  #  reg.fit(X_train_df,y_train)\n",
        "\n",
        "  eval_set = [(X_train_df, y_train), (X_test_df, y_test)]\n",
        "  #eval_set = [(X_train, y_train), (X_test, y_test)]\n",
        "\n",
        "  estimator = reg.fit(X_train_df,y_train, eval_metric=[\n",
        "      \"rmse\",\n",
        "      'mae'\n",
        "      ], eval_set = eval_set)\n",
        "\n",
        "  y_pred_reg_test = reg.predict(X_test_df)\n",
        "  y_pred_reg_train = reg.predict(X_train_df)\n",
        "\n",
        "  results = {}\n",
        "  r2_test = r2_score(y_test, y_pred_reg_test)\n",
        "  r2_train = r2_score(y_train, y_pred_reg_train)\n",
        "  n = len(y_test)\n",
        "  k = len(features)\n",
        "  adj_r2_score = 1-(((1-r2_test)*(n-1))/(n-k-1))\n",
        "  mae = mean_absolute_error(y_test,y_pred_reg_test)\n",
        "  mse = mean_squared_error(y_test,y_pred_reg_test)\n",
        "  rmse = np.sqrt(mse)\n",
        "\n",
        "  print(\"Features used for model training = \", features)\n",
        "  print(\"Number of principal components used for model training = \", n_pca)\n",
        "  print(\"Min predicted value = \", min(y_pred_reg_test))\n",
        "  print(\"Max predicted value = \", max(y_pred_reg_test))\n",
        "  print(\"MAE = \", mae)\n",
        "  print(\"MSE = \", mse)\n",
        "  print(\"RMSE = \", rmse)\n",
        "  print(\"R2 test Score = \", r2_test )\n",
        "  print(\"R2 train Score = \", r2_train )\n",
        "  print(\"Adjusted test R2 Score = \", adj_r2_score)\n",
        "\n",
        "  results['estimator'] = estimator\n",
        "  results['scaler'] = fit_scaler\n",
        "  results['X_train'] = X_train\n",
        "  results['y_train'] = y_train\n",
        "  results['X_test'] = X_test\n",
        "  results['y_test'] = y_test\n",
        "  results['y_pred_reg'] = y_pred_reg_test\n",
        "  results['MAE'] = mae\n",
        "  results['MSE'] = mse\n",
        "  results['R2 test Score'] = r2_test\n",
        "  results['R2 train Score'] = r2_train\n",
        "  results['Adjusted test R2 Score'] = adj_r2_score\n",
        "  results['name'] = type(reg).__name__\n",
        "  results['scaler'] = fit_scaler\n",
        "\n",
        "  return results"
      ],
      "metadata": {
        "id": "l76MGIxc5X7b"
      },
      "execution_count": null,
      "outputs": []
    },
    {
      "cell_type": "code",
      "source": [
        "# Creating an XGBoost model (best parameters so far)\n",
        "#build multiple linear regression model\n",
        "xgb_reg = XGBRegressor(\n",
        "      max_depth= 10\n",
        "    , learning_rate= 0.1 # learning speed\n",
        "    , n_estimators = 100 # the number of runs XGBoost will try to learn\n",
        "    , colsample_bylevel = 0.7 # sample of columns to be used to avoid overfitting\n",
        "    , objective = 'reg:squarederror'\n",
        "    #, gamma=0.1\n",
        "    #, early_stopping_rounds = 10\n",
        "    )"
      ],
      "metadata": {
        "id": "Hw8CmdxCWhGg"
      },
      "execution_count": null,
      "outputs": []
    },
    {
      "cell_type": "markdown",
      "source": [
        "# Triaining Data: ThreeRivers 22"
      ],
      "metadata": {
        "id": "puq-RzQz6Ju_"
      }
    },
    {
      "cell_type": "markdown",
      "source": [
        "## Train model on ThreeRivers22 data and test on ThreeRivers21 data"
      ],
      "metadata": {
        "id": "LHDeKcT7E-NR"
      }
    },
    {
      "cell_type": "code",
      "source": [
        "train_df = pd.read_csv('https://github.com/belalabouzaid/siads699_team13_collab/raw/main/Data/threerivers_2022.csv')"
      ],
      "metadata": {
        "id": "o3MQKUoTFDlL"
      },
      "execution_count": null,
      "outputs": []
    },
    {
      "cell_type": "code",
      "source": [
        "train_df = train_df[['aspect','slope','NDMI', 'MSI'\n",
        "                                 ,'SR_B5','SAVI','EVI','NDVI','ST_B10'\n",
        "                                 ,'MNDWI','SR_B7','SR_B6','MSAVI','smi']]"
      ],
      "metadata": {
        "id": "31MVyCVSq7BK"
      },
      "execution_count": null,
      "outputs": []
    },
    {
      "cell_type": "code",
      "source": [
        "test_df = pd.read_csv('https://github.com/belalabouzaid/siads699_team13_collab/raw/main/Data/threerivers_2021.csv')"
      ],
      "metadata": {
        "id": "07bqEFrhFjnN"
      },
      "execution_count": null,
      "outputs": []
    },
    {
      "cell_type": "code",
      "source": [
        "test_df = test_df[['aspect','slope','NDMI', 'MSI'\n",
        "                                 ,'SR_B5','SAVI','EVI','NDVI','ST_B10'\n",
        "                                 ,'MNDWI','SR_B7','SR_B6','MSAVI','smi']]"
      ],
      "metadata": {
        "id": "m2QxDcnxrBID"
      },
      "execution_count": null,
      "outputs": []
    },
    {
      "cell_type": "code",
      "source": [
        "X_2022 = train_df.drop(columns = 'smi')\n",
        "y_2022 = train_df['smi']\n",
        "X_2021 = test_df.drop(columns = 'smi')\n",
        "y_2021 = test_df['smi']"
      ],
      "metadata": {
        "id": "Pa7_YyD9rFFw"
      },
      "execution_count": null,
      "outputs": []
    },
    {
      "cell_type": "code",
      "source": [
        "features = list(train_df.columns)[:-1]"
      ],
      "metadata": {
        "id": "prvbJEFlXdvT"
      },
      "execution_count": null,
      "outputs": []
    },
    {
      "cell_type": "code",
      "source": [
        "training_results_threerivers_2022 = train_test_eval_model(train_df, xgb_reg, features = features, scale = False, test_size= 0.25, n_pca = None)"
      ],
      "metadata": {
        "id": "blUBv6KCGpBe",
        "colab": {
          "base_uri": "https://localhost:8080/"
        },
        "outputId": "e7b07c76-94df-429e-930b-ff45383152ba"
      },
      "execution_count": null,
      "outputs": [
        {
          "output_type": "stream",
          "name": "stdout",
          "text": [
            "XGBRegressor\n"
          ]
        },
        {
          "output_type": "stream",
          "name": "stderr",
          "text": [
            "/usr/local/lib/python3.10/dist-packages/xgboost/sklearn.py:885: UserWarning: `eval_metric` in `fit` method is deprecated for better compatibility with scikit-learn, use `eval_metric` in constructor or`set_params` instead.\n",
            "  warnings.warn(\n"
          ]
        },
        {
          "output_type": "stream",
          "name": "stdout",
          "text": [
            "[0]\tvalidation_0-rmse:0.03938\tvalidation_0-mae:0.03031\tvalidation_1-rmse:0.03984\tvalidation_1-mae:0.03024\n",
            "[1]\tvalidation_0-rmse:0.03607\tvalidation_0-mae:0.02759\tvalidation_1-rmse:0.03668\tvalidation_1-mae:0.02760\n",
            "[2]\tvalidation_0-rmse:0.03313\tvalidation_0-mae:0.02516\tvalidation_1-rmse:0.03390\tvalidation_1-mae:0.02527\n",
            "[3]\tvalidation_0-rmse:0.03049\tvalidation_0-mae:0.02299\tvalidation_1-rmse:0.03145\tvalidation_1-mae:0.02321\n",
            "[4]\tvalidation_0-rmse:0.02814\tvalidation_0-mae:0.02106\tvalidation_1-rmse:0.02928\tvalidation_1-mae:0.02139\n",
            "[5]\tvalidation_0-rmse:0.02604\tvalidation_0-mae:0.01934\tvalidation_1-rmse:0.02739\tvalidation_1-mae:0.01979\n",
            "[6]\tvalidation_0-rmse:0.02417\tvalidation_0-mae:0.01782\tvalidation_1-rmse:0.02573\tvalidation_1-mae:0.01839\n",
            "[7]\tvalidation_0-rmse:0.02252\tvalidation_0-mae:0.01648\tvalidation_1-rmse:0.02427\tvalidation_1-mae:0.01717\n",
            "[8]\tvalidation_0-rmse:0.02106\tvalidation_0-mae:0.01530\tvalidation_1-rmse:0.02297\tvalidation_1-mae:0.01611\n",
            "[9]\tvalidation_0-rmse:0.01974\tvalidation_0-mae:0.01424\tvalidation_1-rmse:0.02185\tvalidation_1-mae:0.01517\n",
            "[10]\tvalidation_0-rmse:0.01857\tvalidation_0-mae:0.01332\tvalidation_1-rmse:0.02089\tvalidation_1-mae:0.01437\n",
            "[11]\tvalidation_0-rmse:0.01754\tvalidation_0-mae:0.01251\tvalidation_1-rmse:0.02004\tvalidation_1-mae:0.01367\n",
            "[12]\tvalidation_0-rmse:0.01663\tvalidation_0-mae:0.01180\tvalidation_1-rmse:0.01933\tvalidation_1-mae:0.01307\n",
            "[13]\tvalidation_0-rmse:0.01581\tvalidation_0-mae:0.01117\tvalidation_1-rmse:0.01868\tvalidation_1-mae:0.01256\n",
            "[14]\tvalidation_0-rmse:0.01509\tvalidation_0-mae:0.01062\tvalidation_1-rmse:0.01815\tvalidation_1-mae:0.01213\n",
            "[15]\tvalidation_0-rmse:0.01446\tvalidation_0-mae:0.01013\tvalidation_1-rmse:0.01769\tvalidation_1-mae:0.01176\n",
            "[16]\tvalidation_0-rmse:0.01389\tvalidation_0-mae:0.00970\tvalidation_1-rmse:0.01728\tvalidation_1-mae:0.01143\n",
            "[17]\tvalidation_0-rmse:0.01340\tvalidation_0-mae:0.00934\tvalidation_1-rmse:0.01695\tvalidation_1-mae:0.01117\n",
            "[18]\tvalidation_0-rmse:0.01295\tvalidation_0-mae:0.00901\tvalidation_1-rmse:0.01666\tvalidation_1-mae:0.01094\n",
            "[19]\tvalidation_0-rmse:0.01255\tvalidation_0-mae:0.00871\tvalidation_1-rmse:0.01640\tvalidation_1-mae:0.01074\n",
            "[20]\tvalidation_0-rmse:0.01219\tvalidation_0-mae:0.00845\tvalidation_1-rmse:0.01617\tvalidation_1-mae:0.01057\n",
            "[21]\tvalidation_0-rmse:0.01187\tvalidation_0-mae:0.00823\tvalidation_1-rmse:0.01598\tvalidation_1-mae:0.01043\n",
            "[22]\tvalidation_0-rmse:0.01157\tvalidation_0-mae:0.00802\tvalidation_1-rmse:0.01583\tvalidation_1-mae:0.01032\n",
            "[23]\tvalidation_0-rmse:0.01132\tvalidation_0-mae:0.00784\tvalidation_1-rmse:0.01570\tvalidation_1-mae:0.01022\n",
            "[24]\tvalidation_0-rmse:0.01108\tvalidation_0-mae:0.00768\tvalidation_1-rmse:0.01559\tvalidation_1-mae:0.01013\n",
            "[25]\tvalidation_0-rmse:0.01088\tvalidation_0-mae:0.00754\tvalidation_1-rmse:0.01549\tvalidation_1-mae:0.01006\n",
            "[26]\tvalidation_0-rmse:0.01069\tvalidation_0-mae:0.00741\tvalidation_1-rmse:0.01540\tvalidation_1-mae:0.01000\n",
            "[27]\tvalidation_0-rmse:0.01052\tvalidation_0-mae:0.00730\tvalidation_1-rmse:0.01532\tvalidation_1-mae:0.00995\n",
            "[28]\tvalidation_0-rmse:0.01037\tvalidation_0-mae:0.00720\tvalidation_1-rmse:0.01525\tvalidation_1-mae:0.00990\n",
            "[29]\tvalidation_0-rmse:0.01022\tvalidation_0-mae:0.00710\tvalidation_1-rmse:0.01518\tvalidation_1-mae:0.00986\n",
            "[30]\tvalidation_0-rmse:0.01006\tvalidation_0-mae:0.00700\tvalidation_1-rmse:0.01512\tvalidation_1-mae:0.00982\n",
            "[31]\tvalidation_0-rmse:0.00994\tvalidation_0-mae:0.00692\tvalidation_1-rmse:0.01506\tvalidation_1-mae:0.00979\n",
            "[32]\tvalidation_0-rmse:0.00981\tvalidation_0-mae:0.00685\tvalidation_1-rmse:0.01503\tvalidation_1-mae:0.00977\n",
            "[33]\tvalidation_0-rmse:0.00971\tvalidation_0-mae:0.00678\tvalidation_1-rmse:0.01500\tvalidation_1-mae:0.00975\n",
            "[34]\tvalidation_0-rmse:0.00960\tvalidation_0-mae:0.00671\tvalidation_1-rmse:0.01497\tvalidation_1-mae:0.00973\n",
            "[35]\tvalidation_0-rmse:0.00950\tvalidation_0-mae:0.00665\tvalidation_1-rmse:0.01494\tvalidation_1-mae:0.00971\n",
            "[36]\tvalidation_0-rmse:0.00941\tvalidation_0-mae:0.00659\tvalidation_1-rmse:0.01492\tvalidation_1-mae:0.00970\n",
            "[37]\tvalidation_0-rmse:0.00929\tvalidation_0-mae:0.00653\tvalidation_1-rmse:0.01490\tvalidation_1-mae:0.00969\n",
            "[38]\tvalidation_0-rmse:0.00922\tvalidation_0-mae:0.00648\tvalidation_1-rmse:0.01487\tvalidation_1-mae:0.00967\n",
            "[39]\tvalidation_0-rmse:0.00914\tvalidation_0-mae:0.00643\tvalidation_1-rmse:0.01485\tvalidation_1-mae:0.00966\n",
            "[40]\tvalidation_0-rmse:0.00908\tvalidation_0-mae:0.00638\tvalidation_1-rmse:0.01483\tvalidation_1-mae:0.00965\n",
            "[41]\tvalidation_0-rmse:0.00902\tvalidation_0-mae:0.00635\tvalidation_1-rmse:0.01482\tvalidation_1-mae:0.00964\n",
            "[42]\tvalidation_0-rmse:0.00891\tvalidation_0-mae:0.00629\tvalidation_1-rmse:0.01478\tvalidation_1-mae:0.00963\n",
            "[43]\tvalidation_0-rmse:0.00887\tvalidation_0-mae:0.00626\tvalidation_1-rmse:0.01476\tvalidation_1-mae:0.00962\n",
            "[44]\tvalidation_0-rmse:0.00881\tvalidation_0-mae:0.00622\tvalidation_1-rmse:0.01475\tvalidation_1-mae:0.00961\n",
            "[45]\tvalidation_0-rmse:0.00873\tvalidation_0-mae:0.00618\tvalidation_1-rmse:0.01473\tvalidation_1-mae:0.00960\n",
            "[46]\tvalidation_0-rmse:0.00868\tvalidation_0-mae:0.00614\tvalidation_1-rmse:0.01472\tvalidation_1-mae:0.00959\n",
            "[47]\tvalidation_0-rmse:0.00862\tvalidation_0-mae:0.00610\tvalidation_1-rmse:0.01471\tvalidation_1-mae:0.00959\n",
            "[48]\tvalidation_0-rmse:0.00857\tvalidation_0-mae:0.00607\tvalidation_1-rmse:0.01470\tvalidation_1-mae:0.00958\n",
            "[49]\tvalidation_0-rmse:0.00849\tvalidation_0-mae:0.00601\tvalidation_1-rmse:0.01469\tvalidation_1-mae:0.00957\n",
            "[50]\tvalidation_0-rmse:0.00841\tvalidation_0-mae:0.00597\tvalidation_1-rmse:0.01468\tvalidation_1-mae:0.00957\n",
            "[51]\tvalidation_0-rmse:0.00832\tvalidation_0-mae:0.00592\tvalidation_1-rmse:0.01466\tvalidation_1-mae:0.00956\n",
            "[52]\tvalidation_0-rmse:0.00827\tvalidation_0-mae:0.00589\tvalidation_1-rmse:0.01465\tvalidation_1-mae:0.00956\n",
            "[53]\tvalidation_0-rmse:0.00821\tvalidation_0-mae:0.00585\tvalidation_1-rmse:0.01465\tvalidation_1-mae:0.00956\n",
            "[54]\tvalidation_0-rmse:0.00815\tvalidation_0-mae:0.00582\tvalidation_1-rmse:0.01463\tvalidation_1-mae:0.00955\n",
            "[55]\tvalidation_0-rmse:0.00809\tvalidation_0-mae:0.00579\tvalidation_1-rmse:0.01462\tvalidation_1-mae:0.00954\n",
            "[56]\tvalidation_0-rmse:0.00802\tvalidation_0-mae:0.00574\tvalidation_1-rmse:0.01461\tvalidation_1-mae:0.00954\n",
            "[57]\tvalidation_0-rmse:0.00797\tvalidation_0-mae:0.00571\tvalidation_1-rmse:0.01461\tvalidation_1-mae:0.00953\n",
            "[58]\tvalidation_0-rmse:0.00790\tvalidation_0-mae:0.00567\tvalidation_1-rmse:0.01459\tvalidation_1-mae:0.00953\n",
            "[59]\tvalidation_0-rmse:0.00784\tvalidation_0-mae:0.00564\tvalidation_1-rmse:0.01458\tvalidation_1-mae:0.00953\n",
            "[60]\tvalidation_0-rmse:0.00778\tvalidation_0-mae:0.00560\tvalidation_1-rmse:0.01457\tvalidation_1-mae:0.00952\n",
            "[61]\tvalidation_0-rmse:0.00772\tvalidation_0-mae:0.00556\tvalidation_1-rmse:0.01456\tvalidation_1-mae:0.00951\n",
            "[62]\tvalidation_0-rmse:0.00769\tvalidation_0-mae:0.00554\tvalidation_1-rmse:0.01456\tvalidation_1-mae:0.00951\n",
            "[63]\tvalidation_0-rmse:0.00763\tvalidation_0-mae:0.00550\tvalidation_1-rmse:0.01455\tvalidation_1-mae:0.00951\n",
            "[64]\tvalidation_0-rmse:0.00757\tvalidation_0-mae:0.00547\tvalidation_1-rmse:0.01454\tvalidation_1-mae:0.00950\n",
            "[65]\tvalidation_0-rmse:0.00752\tvalidation_0-mae:0.00544\tvalidation_1-rmse:0.01453\tvalidation_1-mae:0.00950\n",
            "[66]\tvalidation_0-rmse:0.00749\tvalidation_0-mae:0.00542\tvalidation_1-rmse:0.01453\tvalidation_1-mae:0.00949\n",
            "[67]\tvalidation_0-rmse:0.00746\tvalidation_0-mae:0.00540\tvalidation_1-rmse:0.01452\tvalidation_1-mae:0.00949\n",
            "[68]\tvalidation_0-rmse:0.00744\tvalidation_0-mae:0.00538\tvalidation_1-rmse:0.01452\tvalidation_1-mae:0.00949\n",
            "[69]\tvalidation_0-rmse:0.00740\tvalidation_0-mae:0.00535\tvalidation_1-rmse:0.01452\tvalidation_1-mae:0.00949\n",
            "[70]\tvalidation_0-rmse:0.00736\tvalidation_0-mae:0.00533\tvalidation_1-rmse:0.01451\tvalidation_1-mae:0.00948\n",
            "[71]\tvalidation_0-rmse:0.00730\tvalidation_0-mae:0.00529\tvalidation_1-rmse:0.01451\tvalidation_1-mae:0.00948\n",
            "[72]\tvalidation_0-rmse:0.00726\tvalidation_0-mae:0.00527\tvalidation_1-rmse:0.01450\tvalidation_1-mae:0.00948\n",
            "[73]\tvalidation_0-rmse:0.00724\tvalidation_0-mae:0.00524\tvalidation_1-rmse:0.01450\tvalidation_1-mae:0.00948\n",
            "[74]\tvalidation_0-rmse:0.00720\tvalidation_0-mae:0.00522\tvalidation_1-rmse:0.01450\tvalidation_1-mae:0.00947\n",
            "[75]\tvalidation_0-rmse:0.00717\tvalidation_0-mae:0.00520\tvalidation_1-rmse:0.01449\tvalidation_1-mae:0.00947\n",
            "[76]\tvalidation_0-rmse:0.00714\tvalidation_0-mae:0.00517\tvalidation_1-rmse:0.01449\tvalidation_1-mae:0.00947\n",
            "[77]\tvalidation_0-rmse:0.00710\tvalidation_0-mae:0.00514\tvalidation_1-rmse:0.01449\tvalidation_1-mae:0.00947\n",
            "[78]\tvalidation_0-rmse:0.00706\tvalidation_0-mae:0.00512\tvalidation_1-rmse:0.01448\tvalidation_1-mae:0.00947\n",
            "[79]\tvalidation_0-rmse:0.00704\tvalidation_0-mae:0.00510\tvalidation_1-rmse:0.01448\tvalidation_1-mae:0.00947\n",
            "[80]\tvalidation_0-rmse:0.00700\tvalidation_0-mae:0.00508\tvalidation_1-rmse:0.01448\tvalidation_1-mae:0.00946\n",
            "[81]\tvalidation_0-rmse:0.00695\tvalidation_0-mae:0.00505\tvalidation_1-rmse:0.01448\tvalidation_1-mae:0.00947\n",
            "[82]\tvalidation_0-rmse:0.00691\tvalidation_0-mae:0.00502\tvalidation_1-rmse:0.01448\tvalidation_1-mae:0.00946\n",
            "[83]\tvalidation_0-rmse:0.00687\tvalidation_0-mae:0.00499\tvalidation_1-rmse:0.01448\tvalidation_1-mae:0.00946\n",
            "[84]\tvalidation_0-rmse:0.00683\tvalidation_0-mae:0.00496\tvalidation_1-rmse:0.01448\tvalidation_1-mae:0.00946\n",
            "[85]\tvalidation_0-rmse:0.00680\tvalidation_0-mae:0.00494\tvalidation_1-rmse:0.01448\tvalidation_1-mae:0.00946\n",
            "[86]\tvalidation_0-rmse:0.00677\tvalidation_0-mae:0.00492\tvalidation_1-rmse:0.01447\tvalidation_1-mae:0.00946\n",
            "[87]\tvalidation_0-rmse:0.00675\tvalidation_0-mae:0.00490\tvalidation_1-rmse:0.01447\tvalidation_1-mae:0.00945\n",
            "[88]\tvalidation_0-rmse:0.00673\tvalidation_0-mae:0.00489\tvalidation_1-rmse:0.01447\tvalidation_1-mae:0.00946\n",
            "[89]\tvalidation_0-rmse:0.00671\tvalidation_0-mae:0.00487\tvalidation_1-rmse:0.01447\tvalidation_1-mae:0.00946\n",
            "[90]\tvalidation_0-rmse:0.00669\tvalidation_0-mae:0.00485\tvalidation_1-rmse:0.01447\tvalidation_1-mae:0.00946\n",
            "[91]\tvalidation_0-rmse:0.00668\tvalidation_0-mae:0.00484\tvalidation_1-rmse:0.01447\tvalidation_1-mae:0.00945\n",
            "[92]\tvalidation_0-rmse:0.00665\tvalidation_0-mae:0.00482\tvalidation_1-rmse:0.01447\tvalidation_1-mae:0.00945\n",
            "[93]\tvalidation_0-rmse:0.00662\tvalidation_0-mae:0.00480\tvalidation_1-rmse:0.01447\tvalidation_1-mae:0.00945\n",
            "[94]\tvalidation_0-rmse:0.00659\tvalidation_0-mae:0.00478\tvalidation_1-rmse:0.01447\tvalidation_1-mae:0.00945\n",
            "[95]\tvalidation_0-rmse:0.00656\tvalidation_0-mae:0.00476\tvalidation_1-rmse:0.01447\tvalidation_1-mae:0.00946\n",
            "[96]\tvalidation_0-rmse:0.00654\tvalidation_0-mae:0.00475\tvalidation_1-rmse:0.01447\tvalidation_1-mae:0.00945\n",
            "[97]\tvalidation_0-rmse:0.00650\tvalidation_0-mae:0.00472\tvalidation_1-rmse:0.01447\tvalidation_1-mae:0.00945\n",
            "[98]\tvalidation_0-rmse:0.00647\tvalidation_0-mae:0.00470\tvalidation_1-rmse:0.01446\tvalidation_1-mae:0.00945\n",
            "[99]\tvalidation_0-rmse:0.00642\tvalidation_0-mae:0.00467\tvalidation_1-rmse:0.01446\tvalidation_1-mae:0.00945\n",
            "Features used for model training =  ['aspect', 'slope', 'NDMI', 'MSI', 'SR_B5', 'SAVI', 'EVI', 'NDVI', 'ST_B10', 'MNDWI', 'SR_B7', 'SR_B6', 'MSAVI']\n",
            "Number of principal components used for model training =  None\n",
            "Min predicted value =  0.13180701\n",
            "Max predicted value =  0.46055987\n",
            "MAE =  0.009450235740131232\n",
            "MSE =  0.00020917261720035518\n",
            "RMSE =  0.014462801153315882\n",
            "R2 test Score =  0.8887295611186705\n",
            "R2 train Score =  0.977765944357868\n",
            "Adjusted test R2 Score =  0.8885909528678602\n"
          ]
        }
      ]
    },
    {
      "cell_type": "code",
      "source": [
        "trained_model = training_results_threerivers_2022['estimator']"
      ],
      "metadata": {
        "id": "ouPRQmWRIY7T"
      },
      "execution_count": null,
      "outputs": []
    },
    {
      "cell_type": "code",
      "source": [
        "# splitting the test data to separate dependant and indepenedant variables .. will use y for a hidden prediction\n",
        "X = test_df.drop(columns = 'smi')\n",
        "y = test_df['smi']"
      ],
      "metadata": {
        "id": "U-_HySK9KZ4C"
      },
      "execution_count": null,
      "outputs": []
    },
    {
      "cell_type": "code",
      "source": [
        "y_pred_threerivers21 = trained_model.predict(X)"
      ],
      "metadata": {
        "id": "JL8vwZfvKO4N"
      },
      "execution_count": null,
      "outputs": []
    },
    {
      "cell_type": "code",
      "source": [
        "r2_threerivers21 = r2_score(y, y_pred_threerivers21)\n",
        "r2_threerivers21"
      ],
      "metadata": {
        "colab": {
          "base_uri": "https://localhost:8080/"
        },
        "id": "NWcOxaZULUqh",
        "outputId": "7c0b9484-040f-4d94-ef40-60e4563a3c39"
      },
      "execution_count": null,
      "outputs": [
        {
          "output_type": "execute_result",
          "data": {
            "text/plain": [
              "0.7655014386797723"
            ]
          },
          "metadata": {},
          "execution_count": 140
        }
      ]
    },
    {
      "cell_type": "code",
      "source": [
        "val_TR22_TR21_mae = mean_absolute_error(y_2021,y_pred_threerivers21)\n",
        "val_TR22_TR21_mse = mean_squared_error(y_2021,y_pred_threerivers21)\n",
        "val_TR22_TR21_rmse = np.sqrt(val_TR22_TR21_mse)"
      ],
      "metadata": {
        "id": "DVuIMf7dEXEy"
      },
      "execution_count": null,
      "outputs": []
    },
    {
      "cell_type": "code",
      "source": [
        "val_TR22_TR21_rmse"
      ],
      "metadata": {
        "colab": {
          "base_uri": "https://localhost:8080/"
        },
        "id": "4gwwpzOGFIaT",
        "outputId": "8d2be40f-c5ac-49fa-bb42-778934e0be40"
      },
      "execution_count": null,
      "outputs": [
        {
          "output_type": "execute_result",
          "data": {
            "text/plain": [
              "0.016971943399630627"
            ]
          },
          "metadata": {},
          "execution_count": 143
        }
      ]
    },
    {
      "cell_type": "markdown",
      "source": [
        "## Train model on ThreeRivers22 data and test on Mariposa21 data"
      ],
      "metadata": {
        "id": "MyT005RCaLqT"
      }
    },
    {
      "cell_type": "code",
      "source": [
        "test_df = pd.read_csv('https://github.com/belalabouzaid/siads699_team13_collab/raw/main/Data/mariposa_2021.csv')"
      ],
      "metadata": {
        "id": "mE2_zWdaaQ8O"
      },
      "execution_count": null,
      "outputs": []
    },
    {
      "cell_type": "code",
      "source": [
        "test_df = test_df[['aspect','slope','NDMI', 'MSI'\n",
        "                                 ,'SR_B5','SAVI','EVI','NDVI','ST_B10'\n",
        "                                 ,'MNDWI','SR_B7','SR_B6','MSAVI','smi']]"
      ],
      "metadata": {
        "id": "0bvvFRUTaabq"
      },
      "execution_count": null,
      "outputs": []
    },
    {
      "cell_type": "code",
      "source": [
        "X = test_df.drop('smi', axis = 1)\n",
        "y = test_df['smi']"
      ],
      "metadata": {
        "id": "zmXECkkgaf1I"
      },
      "execution_count": null,
      "outputs": []
    },
    {
      "cell_type": "code",
      "source": [
        "training_results_threerivers_2022 = train_test_eval_model(train_df, xgb_reg, features = features, scale = False, test_size= 0.25, n_pca = None)"
      ],
      "metadata": {
        "colab": {
          "base_uri": "https://localhost:8080/"
        },
        "id": "AWeR1phlsvSv",
        "outputId": "06209d94-9147-4f4c-8be2-5b35cd7f9a5a"
      },
      "execution_count": null,
      "outputs": [
        {
          "output_type": "stream",
          "name": "stdout",
          "text": [
            "XGBRegressor\n"
          ]
        },
        {
          "output_type": "stream",
          "name": "stderr",
          "text": [
            "/usr/local/lib/python3.10/dist-packages/xgboost/sklearn.py:885: UserWarning: `eval_metric` in `fit` method is deprecated for better compatibility with scikit-learn, use `eval_metric` in constructor or`set_params` instead.\n",
            "  warnings.warn(\n"
          ]
        },
        {
          "output_type": "stream",
          "name": "stdout",
          "text": [
            "[0]\tvalidation_0-rmse:0.03938\tvalidation_0-mae:0.03031\tvalidation_1-rmse:0.03984\tvalidation_1-mae:0.03024\n",
            "[1]\tvalidation_0-rmse:0.03607\tvalidation_0-mae:0.02759\tvalidation_1-rmse:0.03668\tvalidation_1-mae:0.02760\n",
            "[2]\tvalidation_0-rmse:0.03313\tvalidation_0-mae:0.02516\tvalidation_1-rmse:0.03390\tvalidation_1-mae:0.02527\n",
            "[3]\tvalidation_0-rmse:0.03049\tvalidation_0-mae:0.02299\tvalidation_1-rmse:0.03145\tvalidation_1-mae:0.02321\n",
            "[4]\tvalidation_0-rmse:0.02814\tvalidation_0-mae:0.02106\tvalidation_1-rmse:0.02928\tvalidation_1-mae:0.02139\n",
            "[5]\tvalidation_0-rmse:0.02604\tvalidation_0-mae:0.01934\tvalidation_1-rmse:0.02739\tvalidation_1-mae:0.01979\n",
            "[6]\tvalidation_0-rmse:0.02417\tvalidation_0-mae:0.01782\tvalidation_1-rmse:0.02573\tvalidation_1-mae:0.01839\n",
            "[7]\tvalidation_0-rmse:0.02252\tvalidation_0-mae:0.01648\tvalidation_1-rmse:0.02427\tvalidation_1-mae:0.01717\n",
            "[8]\tvalidation_0-rmse:0.02106\tvalidation_0-mae:0.01530\tvalidation_1-rmse:0.02297\tvalidation_1-mae:0.01611\n",
            "[9]\tvalidation_0-rmse:0.01974\tvalidation_0-mae:0.01424\tvalidation_1-rmse:0.02185\tvalidation_1-mae:0.01517\n",
            "[10]\tvalidation_0-rmse:0.01857\tvalidation_0-mae:0.01332\tvalidation_1-rmse:0.02089\tvalidation_1-mae:0.01437\n",
            "[11]\tvalidation_0-rmse:0.01754\tvalidation_0-mae:0.01251\tvalidation_1-rmse:0.02004\tvalidation_1-mae:0.01367\n",
            "[12]\tvalidation_0-rmse:0.01663\tvalidation_0-mae:0.01180\tvalidation_1-rmse:0.01933\tvalidation_1-mae:0.01307\n",
            "[13]\tvalidation_0-rmse:0.01581\tvalidation_0-mae:0.01117\tvalidation_1-rmse:0.01868\tvalidation_1-mae:0.01256\n",
            "[14]\tvalidation_0-rmse:0.01509\tvalidation_0-mae:0.01062\tvalidation_1-rmse:0.01815\tvalidation_1-mae:0.01213\n",
            "[15]\tvalidation_0-rmse:0.01446\tvalidation_0-mae:0.01013\tvalidation_1-rmse:0.01769\tvalidation_1-mae:0.01176\n",
            "[16]\tvalidation_0-rmse:0.01389\tvalidation_0-mae:0.00970\tvalidation_1-rmse:0.01728\tvalidation_1-mae:0.01143\n",
            "[17]\tvalidation_0-rmse:0.01340\tvalidation_0-mae:0.00934\tvalidation_1-rmse:0.01695\tvalidation_1-mae:0.01117\n",
            "[18]\tvalidation_0-rmse:0.01295\tvalidation_0-mae:0.00901\tvalidation_1-rmse:0.01666\tvalidation_1-mae:0.01094\n",
            "[19]\tvalidation_0-rmse:0.01255\tvalidation_0-mae:0.00871\tvalidation_1-rmse:0.01640\tvalidation_1-mae:0.01074\n",
            "[20]\tvalidation_0-rmse:0.01219\tvalidation_0-mae:0.00845\tvalidation_1-rmse:0.01617\tvalidation_1-mae:0.01057\n",
            "[21]\tvalidation_0-rmse:0.01187\tvalidation_0-mae:0.00823\tvalidation_1-rmse:0.01598\tvalidation_1-mae:0.01043\n",
            "[22]\tvalidation_0-rmse:0.01157\tvalidation_0-mae:0.00802\tvalidation_1-rmse:0.01583\tvalidation_1-mae:0.01032\n",
            "[23]\tvalidation_0-rmse:0.01132\tvalidation_0-mae:0.00784\tvalidation_1-rmse:0.01570\tvalidation_1-mae:0.01022\n",
            "[24]\tvalidation_0-rmse:0.01108\tvalidation_0-mae:0.00768\tvalidation_1-rmse:0.01559\tvalidation_1-mae:0.01013\n",
            "[25]\tvalidation_0-rmse:0.01088\tvalidation_0-mae:0.00754\tvalidation_1-rmse:0.01549\tvalidation_1-mae:0.01006\n",
            "[26]\tvalidation_0-rmse:0.01069\tvalidation_0-mae:0.00741\tvalidation_1-rmse:0.01540\tvalidation_1-mae:0.01000\n",
            "[27]\tvalidation_0-rmse:0.01052\tvalidation_0-mae:0.00730\tvalidation_1-rmse:0.01532\tvalidation_1-mae:0.00995\n",
            "[28]\tvalidation_0-rmse:0.01037\tvalidation_0-mae:0.00720\tvalidation_1-rmse:0.01525\tvalidation_1-mae:0.00990\n",
            "[29]\tvalidation_0-rmse:0.01022\tvalidation_0-mae:0.00710\tvalidation_1-rmse:0.01518\tvalidation_1-mae:0.00986\n",
            "[30]\tvalidation_0-rmse:0.01006\tvalidation_0-mae:0.00700\tvalidation_1-rmse:0.01512\tvalidation_1-mae:0.00982\n",
            "[31]\tvalidation_0-rmse:0.00994\tvalidation_0-mae:0.00692\tvalidation_1-rmse:0.01506\tvalidation_1-mae:0.00979\n",
            "[32]\tvalidation_0-rmse:0.00981\tvalidation_0-mae:0.00685\tvalidation_1-rmse:0.01503\tvalidation_1-mae:0.00977\n",
            "[33]\tvalidation_0-rmse:0.00971\tvalidation_0-mae:0.00678\tvalidation_1-rmse:0.01500\tvalidation_1-mae:0.00975\n",
            "[34]\tvalidation_0-rmse:0.00960\tvalidation_0-mae:0.00671\tvalidation_1-rmse:0.01497\tvalidation_1-mae:0.00973\n",
            "[35]\tvalidation_0-rmse:0.00950\tvalidation_0-mae:0.00665\tvalidation_1-rmse:0.01494\tvalidation_1-mae:0.00971\n",
            "[36]\tvalidation_0-rmse:0.00941\tvalidation_0-mae:0.00659\tvalidation_1-rmse:0.01492\tvalidation_1-mae:0.00970\n",
            "[37]\tvalidation_0-rmse:0.00929\tvalidation_0-mae:0.00653\tvalidation_1-rmse:0.01490\tvalidation_1-mae:0.00969\n",
            "[38]\tvalidation_0-rmse:0.00922\tvalidation_0-mae:0.00648\tvalidation_1-rmse:0.01487\tvalidation_1-mae:0.00967\n",
            "[39]\tvalidation_0-rmse:0.00914\tvalidation_0-mae:0.00643\tvalidation_1-rmse:0.01485\tvalidation_1-mae:0.00966\n",
            "[40]\tvalidation_0-rmse:0.00908\tvalidation_0-mae:0.00638\tvalidation_1-rmse:0.01483\tvalidation_1-mae:0.00965\n",
            "[41]\tvalidation_0-rmse:0.00902\tvalidation_0-mae:0.00635\tvalidation_1-rmse:0.01482\tvalidation_1-mae:0.00964\n",
            "[42]\tvalidation_0-rmse:0.00891\tvalidation_0-mae:0.00629\tvalidation_1-rmse:0.01478\tvalidation_1-mae:0.00963\n",
            "[43]\tvalidation_0-rmse:0.00887\tvalidation_0-mae:0.00626\tvalidation_1-rmse:0.01476\tvalidation_1-mae:0.00962\n",
            "[44]\tvalidation_0-rmse:0.00881\tvalidation_0-mae:0.00622\tvalidation_1-rmse:0.01475\tvalidation_1-mae:0.00961\n",
            "[45]\tvalidation_0-rmse:0.00873\tvalidation_0-mae:0.00618\tvalidation_1-rmse:0.01473\tvalidation_1-mae:0.00960\n",
            "[46]\tvalidation_0-rmse:0.00868\tvalidation_0-mae:0.00614\tvalidation_1-rmse:0.01472\tvalidation_1-mae:0.00959\n",
            "[47]\tvalidation_0-rmse:0.00862\tvalidation_0-mae:0.00610\tvalidation_1-rmse:0.01471\tvalidation_1-mae:0.00959\n",
            "[48]\tvalidation_0-rmse:0.00857\tvalidation_0-mae:0.00607\tvalidation_1-rmse:0.01470\tvalidation_1-mae:0.00958\n",
            "[49]\tvalidation_0-rmse:0.00849\tvalidation_0-mae:0.00601\tvalidation_1-rmse:0.01469\tvalidation_1-mae:0.00957\n",
            "[50]\tvalidation_0-rmse:0.00841\tvalidation_0-mae:0.00597\tvalidation_1-rmse:0.01468\tvalidation_1-mae:0.00957\n",
            "[51]\tvalidation_0-rmse:0.00832\tvalidation_0-mae:0.00592\tvalidation_1-rmse:0.01466\tvalidation_1-mae:0.00956\n",
            "[52]\tvalidation_0-rmse:0.00827\tvalidation_0-mae:0.00589\tvalidation_1-rmse:0.01465\tvalidation_1-mae:0.00956\n",
            "[53]\tvalidation_0-rmse:0.00821\tvalidation_0-mae:0.00585\tvalidation_1-rmse:0.01465\tvalidation_1-mae:0.00956\n",
            "[54]\tvalidation_0-rmse:0.00815\tvalidation_0-mae:0.00582\tvalidation_1-rmse:0.01463\tvalidation_1-mae:0.00955\n",
            "[55]\tvalidation_0-rmse:0.00809\tvalidation_0-mae:0.00579\tvalidation_1-rmse:0.01462\tvalidation_1-mae:0.00954\n",
            "[56]\tvalidation_0-rmse:0.00802\tvalidation_0-mae:0.00574\tvalidation_1-rmse:0.01461\tvalidation_1-mae:0.00954\n",
            "[57]\tvalidation_0-rmse:0.00797\tvalidation_0-mae:0.00571\tvalidation_1-rmse:0.01461\tvalidation_1-mae:0.00953\n",
            "[58]\tvalidation_0-rmse:0.00790\tvalidation_0-mae:0.00567\tvalidation_1-rmse:0.01459\tvalidation_1-mae:0.00953\n",
            "[59]\tvalidation_0-rmse:0.00784\tvalidation_0-mae:0.00564\tvalidation_1-rmse:0.01458\tvalidation_1-mae:0.00953\n",
            "[60]\tvalidation_0-rmse:0.00778\tvalidation_0-mae:0.00560\tvalidation_1-rmse:0.01457\tvalidation_1-mae:0.00952\n",
            "[61]\tvalidation_0-rmse:0.00772\tvalidation_0-mae:0.00556\tvalidation_1-rmse:0.01456\tvalidation_1-mae:0.00951\n",
            "[62]\tvalidation_0-rmse:0.00769\tvalidation_0-mae:0.00554\tvalidation_1-rmse:0.01456\tvalidation_1-mae:0.00951\n",
            "[63]\tvalidation_0-rmse:0.00763\tvalidation_0-mae:0.00550\tvalidation_1-rmse:0.01455\tvalidation_1-mae:0.00951\n",
            "[64]\tvalidation_0-rmse:0.00757\tvalidation_0-mae:0.00547\tvalidation_1-rmse:0.01454\tvalidation_1-mae:0.00950\n",
            "[65]\tvalidation_0-rmse:0.00752\tvalidation_0-mae:0.00544\tvalidation_1-rmse:0.01453\tvalidation_1-mae:0.00950\n",
            "[66]\tvalidation_0-rmse:0.00749\tvalidation_0-mae:0.00542\tvalidation_1-rmse:0.01453\tvalidation_1-mae:0.00949\n",
            "[67]\tvalidation_0-rmse:0.00746\tvalidation_0-mae:0.00540\tvalidation_1-rmse:0.01452\tvalidation_1-mae:0.00949\n",
            "[68]\tvalidation_0-rmse:0.00744\tvalidation_0-mae:0.00538\tvalidation_1-rmse:0.01452\tvalidation_1-mae:0.00949\n",
            "[69]\tvalidation_0-rmse:0.00740\tvalidation_0-mae:0.00535\tvalidation_1-rmse:0.01452\tvalidation_1-mae:0.00949\n",
            "[70]\tvalidation_0-rmse:0.00736\tvalidation_0-mae:0.00533\tvalidation_1-rmse:0.01451\tvalidation_1-mae:0.00948\n",
            "[71]\tvalidation_0-rmse:0.00730\tvalidation_0-mae:0.00529\tvalidation_1-rmse:0.01451\tvalidation_1-mae:0.00948\n",
            "[72]\tvalidation_0-rmse:0.00726\tvalidation_0-mae:0.00527\tvalidation_1-rmse:0.01450\tvalidation_1-mae:0.00948\n",
            "[73]\tvalidation_0-rmse:0.00724\tvalidation_0-mae:0.00524\tvalidation_1-rmse:0.01450\tvalidation_1-mae:0.00948\n",
            "[74]\tvalidation_0-rmse:0.00720\tvalidation_0-mae:0.00522\tvalidation_1-rmse:0.01450\tvalidation_1-mae:0.00947\n",
            "[75]\tvalidation_0-rmse:0.00717\tvalidation_0-mae:0.00520\tvalidation_1-rmse:0.01449\tvalidation_1-mae:0.00947\n",
            "[76]\tvalidation_0-rmse:0.00714\tvalidation_0-mae:0.00517\tvalidation_1-rmse:0.01449\tvalidation_1-mae:0.00947\n",
            "[77]\tvalidation_0-rmse:0.00710\tvalidation_0-mae:0.00514\tvalidation_1-rmse:0.01449\tvalidation_1-mae:0.00947\n",
            "[78]\tvalidation_0-rmse:0.00706\tvalidation_0-mae:0.00512\tvalidation_1-rmse:0.01448\tvalidation_1-mae:0.00947\n",
            "[79]\tvalidation_0-rmse:0.00704\tvalidation_0-mae:0.00510\tvalidation_1-rmse:0.01448\tvalidation_1-mae:0.00947\n",
            "[80]\tvalidation_0-rmse:0.00700\tvalidation_0-mae:0.00508\tvalidation_1-rmse:0.01448\tvalidation_1-mae:0.00946\n",
            "[81]\tvalidation_0-rmse:0.00695\tvalidation_0-mae:0.00505\tvalidation_1-rmse:0.01448\tvalidation_1-mae:0.00947\n",
            "[82]\tvalidation_0-rmse:0.00691\tvalidation_0-mae:0.00502\tvalidation_1-rmse:0.01448\tvalidation_1-mae:0.00946\n",
            "[83]\tvalidation_0-rmse:0.00687\tvalidation_0-mae:0.00499\tvalidation_1-rmse:0.01448\tvalidation_1-mae:0.00946\n",
            "[84]\tvalidation_0-rmse:0.00683\tvalidation_0-mae:0.00496\tvalidation_1-rmse:0.01448\tvalidation_1-mae:0.00946\n",
            "[85]\tvalidation_0-rmse:0.00680\tvalidation_0-mae:0.00494\tvalidation_1-rmse:0.01448\tvalidation_1-mae:0.00946\n",
            "[86]\tvalidation_0-rmse:0.00677\tvalidation_0-mae:0.00492\tvalidation_1-rmse:0.01447\tvalidation_1-mae:0.00946\n",
            "[87]\tvalidation_0-rmse:0.00675\tvalidation_0-mae:0.00490\tvalidation_1-rmse:0.01447\tvalidation_1-mae:0.00945\n",
            "[88]\tvalidation_0-rmse:0.00673\tvalidation_0-mae:0.00489\tvalidation_1-rmse:0.01447\tvalidation_1-mae:0.00946\n",
            "[89]\tvalidation_0-rmse:0.00671\tvalidation_0-mae:0.00487\tvalidation_1-rmse:0.01447\tvalidation_1-mae:0.00946\n",
            "[90]\tvalidation_0-rmse:0.00669\tvalidation_0-mae:0.00485\tvalidation_1-rmse:0.01447\tvalidation_1-mae:0.00946\n",
            "[91]\tvalidation_0-rmse:0.00668\tvalidation_0-mae:0.00484\tvalidation_1-rmse:0.01447\tvalidation_1-mae:0.00945\n",
            "[92]\tvalidation_0-rmse:0.00665\tvalidation_0-mae:0.00482\tvalidation_1-rmse:0.01447\tvalidation_1-mae:0.00945\n",
            "[93]\tvalidation_0-rmse:0.00662\tvalidation_0-mae:0.00480\tvalidation_1-rmse:0.01447\tvalidation_1-mae:0.00945\n",
            "[94]\tvalidation_0-rmse:0.00659\tvalidation_0-mae:0.00478\tvalidation_1-rmse:0.01447\tvalidation_1-mae:0.00945\n",
            "[95]\tvalidation_0-rmse:0.00656\tvalidation_0-mae:0.00476\tvalidation_1-rmse:0.01447\tvalidation_1-mae:0.00946\n",
            "[96]\tvalidation_0-rmse:0.00654\tvalidation_0-mae:0.00475\tvalidation_1-rmse:0.01447\tvalidation_1-mae:0.00945\n",
            "[97]\tvalidation_0-rmse:0.00650\tvalidation_0-mae:0.00472\tvalidation_1-rmse:0.01447\tvalidation_1-mae:0.00945\n",
            "[98]\tvalidation_0-rmse:0.00647\tvalidation_0-mae:0.00470\tvalidation_1-rmse:0.01446\tvalidation_1-mae:0.00945\n",
            "[99]\tvalidation_0-rmse:0.00642\tvalidation_0-mae:0.00467\tvalidation_1-rmse:0.01446\tvalidation_1-mae:0.00945\n",
            "Features used for model training =  ['aspect', 'slope', 'NDMI', 'MSI', 'SR_B5', 'SAVI', 'EVI', 'NDVI', 'ST_B10', 'MNDWI', 'SR_B7', 'SR_B6', 'MSAVI']\n",
            "Number of principal components used for model training =  None\n",
            "Min predicted value =  0.13180701\n",
            "Max predicted value =  0.46055987\n",
            "MAE =  0.009450235740131232\n",
            "MSE =  0.00020917261720035518\n",
            "RMSE =  0.014462801153315882\n",
            "R2 test Score =  0.8887295611186705\n",
            "R2 train Score =  0.977765944357868\n",
            "Adjusted test R2 Score =  0.8885909528678602\n"
          ]
        }
      ]
    },
    {
      "cell_type": "code",
      "source": [
        "y_pred_mariposa21 = trained_model.predict(X)"
      ],
      "metadata": {
        "id": "kU94dVhNaoS5"
      },
      "execution_count": null,
      "outputs": []
    },
    {
      "cell_type": "code",
      "source": [
        "r2_Mariposa21 = r2_score(y, y_pred_mariposa21)\n",
        "r2_Mariposa21"
      ],
      "metadata": {
        "colab": {
          "base_uri": "https://localhost:8080/"
        },
        "id": "K6fr6CGQbIJf",
        "outputId": "c6d8e056-46bc-49e0-9777-fbe572a95602"
      },
      "execution_count": null,
      "outputs": [
        {
          "output_type": "execute_result",
          "data": {
            "text/plain": [
              "0.28933526722082037"
            ]
          },
          "metadata": {},
          "execution_count": 149
        }
      ]
    },
    {
      "cell_type": "code",
      "source": [
        "val_TR22_M21_mae = mean_absolute_error(y,y_pred_mariposa21)\n",
        "val_TR22_M21_mse = mean_squared_error(y,y_pred_mariposa21)\n",
        "val_TR22_M21_rmse = np.sqrt(val_TR22_M21_mse)"
      ],
      "metadata": {
        "id": "_Y4VBik3GHVO"
      },
      "execution_count": null,
      "outputs": []
    },
    {
      "cell_type": "code",
      "source": [
        "val_TR22_M21_rmse"
      ],
      "metadata": {
        "colab": {
          "base_uri": "https://localhost:8080/"
        },
        "id": "fcJInzM4Gg_K",
        "outputId": "db20544e-77bd-4b43-99dd-a11411b27f4c"
      },
      "execution_count": null,
      "outputs": [
        {
          "output_type": "execute_result",
          "data": {
            "text/plain": [
              "0.11161015324497962"
            ]
          },
          "metadata": {},
          "execution_count": 155
        }
      ]
    },
    {
      "cell_type": "markdown",
      "source": [
        "# Training Data: Mariposa 21"
      ],
      "metadata": {
        "id": "tiFzPI4EiPKG"
      }
    },
    {
      "cell_type": "markdown",
      "source": [
        "## Train model on  Mariposa21 and test on  Mariposa22"
      ],
      "metadata": {
        "id": "7NjYM27Fh2LK"
      }
    },
    {
      "cell_type": "code",
      "source": [
        "train_df = pd.read_csv('https://github.com/belalabouzaid/siads699_team13_collab/raw/main/Data/mariposa_2021.csv')\n",
        "test_df = pd.read_csv('https://github.com/belalabouzaid/siads699_team13_collab/raw/main/Data/mariposa_2022.csv')"
      ],
      "metadata": {
        "id": "KUo9cMVYiGLE"
      },
      "execution_count": null,
      "outputs": []
    },
    {
      "cell_type": "code",
      "source": [
        "train_df = train_df[['aspect','slope','NDMI', 'MSI'\n",
        "                                 ,'SR_B5','SAVI','EVI','NDVI','ST_B10'\n",
        "                                 ,'MNDWI','SR_B7','SR_B6','MSAVI','smi']]\n",
        "test_df = test_df[['aspect','slope','NDMI', 'MSI'\n",
        "                                 ,'SR_B5','SAVI','EVI','NDVI','ST_B10'\n",
        "                                 ,'MNDWI','SR_B7','SR_B6','MSAVI','smi']]"
      ],
      "metadata": {
        "id": "CY7ls-P1jKfS"
      },
      "execution_count": null,
      "outputs": []
    },
    {
      "cell_type": "code",
      "source": [
        "# splitting train_df to train and val\n",
        "X = train_df.drop(columns = 'smi')\n",
        "y = train_df['smi']"
      ],
      "metadata": {
        "id": "xk0o-pt5jRNU"
      },
      "execution_count": null,
      "outputs": []
    },
    {
      "cell_type": "code",
      "source": [
        "features = list(X.columns)"
      ],
      "metadata": {
        "id": "prTzy3AXkA62"
      },
      "execution_count": null,
      "outputs": []
    },
    {
      "cell_type": "code",
      "source": [
        "train_results_mariposa21 = train_test_eval_model(train_df, xgb_reg, features = features, scale = False, test_size= 0.25, n_pca = None)"
      ],
      "metadata": {
        "colab": {
          "base_uri": "https://localhost:8080/"
        },
        "id": "2YmnLpWLkF6p",
        "outputId": "6883cae3-3e90-4839-b306-ffb1f76ccfbb"
      },
      "execution_count": null,
      "outputs": [
        {
          "output_type": "stream",
          "name": "stdout",
          "text": [
            "XGBRegressor\n"
          ]
        },
        {
          "output_type": "stream",
          "name": "stderr",
          "text": [
            "/usr/local/lib/python3.10/dist-packages/xgboost/sklearn.py:885: UserWarning: `eval_metric` in `fit` method is deprecated for better compatibility with scikit-learn, use `eval_metric` in constructor or`set_params` instead.\n",
            "  warnings.warn(\n"
          ]
        },
        {
          "output_type": "stream",
          "name": "stdout",
          "text": [
            "[0]\tvalidation_0-rmse:0.12168\tvalidation_0-mae:0.09371\tvalidation_1-rmse:0.12303\tvalidation_1-mae:0.09507\n",
            "[1]\tvalidation_0-rmse:0.11239\tvalidation_0-mae:0.08638\tvalidation_1-rmse:0.11406\tvalidation_1-mae:0.08793\n",
            "[2]\tvalidation_0-rmse:0.10414\tvalidation_0-mae:0.07990\tvalidation_1-rmse:0.10625\tvalidation_1-mae:0.08168\n",
            "[3]\tvalidation_0-rmse:0.09691\tvalidation_0-mae:0.07419\tvalidation_1-rmse:0.09938\tvalidation_1-mae:0.07620\n",
            "[4]\tvalidation_0-rmse:0.09046\tvalidation_0-mae:0.06910\tvalidation_1-rmse:0.09342\tvalidation_1-mae:0.07144\n",
            "[5]\tvalidation_0-rmse:0.08481\tvalidation_0-mae:0.06465\tvalidation_1-rmse:0.08819\tvalidation_1-mae:0.06729\n",
            "[6]\tvalidation_0-rmse:0.07978\tvalidation_0-mae:0.06070\tvalidation_1-rmse:0.08365\tvalidation_1-mae:0.06365\n",
            "[7]\tvalidation_0-rmse:0.07539\tvalidation_0-mae:0.05723\tvalidation_1-rmse:0.07978\tvalidation_1-mae:0.06051\n",
            "[8]\tvalidation_0-rmse:0.07149\tvalidation_0-mae:0.05412\tvalidation_1-rmse:0.07643\tvalidation_1-mae:0.05775\n",
            "[9]\tvalidation_0-rmse:0.06809\tvalidation_0-mae:0.05141\tvalidation_1-rmse:0.07355\tvalidation_1-mae:0.05533\n",
            "[10]\tvalidation_0-rmse:0.06513\tvalidation_0-mae:0.04906\tvalidation_1-rmse:0.07111\tvalidation_1-mae:0.05327\n",
            "[11]\tvalidation_0-rmse:0.06252\tvalidation_0-mae:0.04696\tvalidation_1-rmse:0.06905\tvalidation_1-mae:0.05152\n",
            "[12]\tvalidation_0-rmse:0.06021\tvalidation_0-mae:0.04510\tvalidation_1-rmse:0.06726\tvalidation_1-mae:0.04994\n",
            "[13]\tvalidation_0-rmse:0.05820\tvalidation_0-mae:0.04347\tvalidation_1-rmse:0.06574\tvalidation_1-mae:0.04860\n",
            "[14]\tvalidation_0-rmse:0.05641\tvalidation_0-mae:0.04200\tvalidation_1-rmse:0.06448\tvalidation_1-mae:0.04744\n",
            "[15]\tvalidation_0-rmse:0.05487\tvalidation_0-mae:0.04073\tvalidation_1-rmse:0.06338\tvalidation_1-mae:0.04643\n",
            "[16]\tvalidation_0-rmse:0.05345\tvalidation_0-mae:0.03957\tvalidation_1-rmse:0.06239\tvalidation_1-mae:0.04553\n",
            "[17]\tvalidation_0-rmse:0.05224\tvalidation_0-mae:0.03856\tvalidation_1-rmse:0.06159\tvalidation_1-mae:0.04478\n",
            "[18]\tvalidation_0-rmse:0.05106\tvalidation_0-mae:0.03761\tvalidation_1-rmse:0.06089\tvalidation_1-mae:0.04412\n",
            "[19]\tvalidation_0-rmse:0.05009\tvalidation_0-mae:0.03680\tvalidation_1-rmse:0.06029\tvalidation_1-mae:0.04354\n",
            "[20]\tvalidation_0-rmse:0.04912\tvalidation_0-mae:0.03602\tvalidation_1-rmse:0.05975\tvalidation_1-mae:0.04302\n",
            "[21]\tvalidation_0-rmse:0.04829\tvalidation_0-mae:0.03534\tvalidation_1-rmse:0.05934\tvalidation_1-mae:0.04259\n",
            "[22]\tvalidation_0-rmse:0.04754\tvalidation_0-mae:0.03473\tvalidation_1-rmse:0.05898\tvalidation_1-mae:0.04222\n",
            "[23]\tvalidation_0-rmse:0.04683\tvalidation_0-mae:0.03417\tvalidation_1-rmse:0.05862\tvalidation_1-mae:0.04188\n",
            "[24]\tvalidation_0-rmse:0.04624\tvalidation_0-mae:0.03369\tvalidation_1-rmse:0.05831\tvalidation_1-mae:0.04158\n",
            "[25]\tvalidation_0-rmse:0.04560\tvalidation_0-mae:0.03320\tvalidation_1-rmse:0.05802\tvalidation_1-mae:0.04130\n",
            "[26]\tvalidation_0-rmse:0.04503\tvalidation_0-mae:0.03277\tvalidation_1-rmse:0.05776\tvalidation_1-mae:0.04108\n",
            "[27]\tvalidation_0-rmse:0.04450\tvalidation_0-mae:0.03236\tvalidation_1-rmse:0.05752\tvalidation_1-mae:0.04085\n",
            "[28]\tvalidation_0-rmse:0.04398\tvalidation_0-mae:0.03197\tvalidation_1-rmse:0.05732\tvalidation_1-mae:0.04066\n",
            "[29]\tvalidation_0-rmse:0.04350\tvalidation_0-mae:0.03161\tvalidation_1-rmse:0.05710\tvalidation_1-mae:0.04047\n",
            "[30]\tvalidation_0-rmse:0.04316\tvalidation_0-mae:0.03134\tvalidation_1-rmse:0.05694\tvalidation_1-mae:0.04032\n",
            "[31]\tvalidation_0-rmse:0.04276\tvalidation_0-mae:0.03104\tvalidation_1-rmse:0.05677\tvalidation_1-mae:0.04018\n",
            "[32]\tvalidation_0-rmse:0.04238\tvalidation_0-mae:0.03076\tvalidation_1-rmse:0.05663\tvalidation_1-mae:0.04006\n",
            "[33]\tvalidation_0-rmse:0.04204\tvalidation_0-mae:0.03052\tvalidation_1-rmse:0.05649\tvalidation_1-mae:0.03995\n",
            "[34]\tvalidation_0-rmse:0.04168\tvalidation_0-mae:0.03026\tvalidation_1-rmse:0.05637\tvalidation_1-mae:0.03984\n",
            "[35]\tvalidation_0-rmse:0.04128\tvalidation_0-mae:0.02999\tvalidation_1-rmse:0.05626\tvalidation_1-mae:0.03975\n",
            "[36]\tvalidation_0-rmse:0.04097\tvalidation_0-mae:0.02976\tvalidation_1-rmse:0.05617\tvalidation_1-mae:0.03967\n",
            "[37]\tvalidation_0-rmse:0.04068\tvalidation_0-mae:0.02956\tvalidation_1-rmse:0.05607\tvalidation_1-mae:0.03960\n",
            "[38]\tvalidation_0-rmse:0.04044\tvalidation_0-mae:0.02938\tvalidation_1-rmse:0.05599\tvalidation_1-mae:0.03953\n",
            "[39]\tvalidation_0-rmse:0.04015\tvalidation_0-mae:0.02918\tvalidation_1-rmse:0.05589\tvalidation_1-mae:0.03947\n",
            "[40]\tvalidation_0-rmse:0.03986\tvalidation_0-mae:0.02898\tvalidation_1-rmse:0.05582\tvalidation_1-mae:0.03941\n",
            "[41]\tvalidation_0-rmse:0.03957\tvalidation_0-mae:0.02878\tvalidation_1-rmse:0.05575\tvalidation_1-mae:0.03935\n",
            "[42]\tvalidation_0-rmse:0.03932\tvalidation_0-mae:0.02861\tvalidation_1-rmse:0.05568\tvalidation_1-mae:0.03930\n",
            "[43]\tvalidation_0-rmse:0.03905\tvalidation_0-mae:0.02843\tvalidation_1-rmse:0.05562\tvalidation_1-mae:0.03925\n",
            "[44]\tvalidation_0-rmse:0.03881\tvalidation_0-mae:0.02827\tvalidation_1-rmse:0.05556\tvalidation_1-mae:0.03921\n",
            "[45]\tvalidation_0-rmse:0.03855\tvalidation_0-mae:0.02809\tvalidation_1-rmse:0.05548\tvalidation_1-mae:0.03916\n",
            "[46]\tvalidation_0-rmse:0.03834\tvalidation_0-mae:0.02795\tvalidation_1-rmse:0.05546\tvalidation_1-mae:0.03915\n",
            "[47]\tvalidation_0-rmse:0.03815\tvalidation_0-mae:0.02782\tvalidation_1-rmse:0.05543\tvalidation_1-mae:0.03913\n",
            "[48]\tvalidation_0-rmse:0.03795\tvalidation_0-mae:0.02768\tvalidation_1-rmse:0.05536\tvalidation_1-mae:0.03908\n",
            "[49]\tvalidation_0-rmse:0.03771\tvalidation_0-mae:0.02752\tvalidation_1-rmse:0.05531\tvalidation_1-mae:0.03905\n",
            "[50]\tvalidation_0-rmse:0.03749\tvalidation_0-mae:0.02737\tvalidation_1-rmse:0.05527\tvalidation_1-mae:0.03903\n",
            "[51]\tvalidation_0-rmse:0.03728\tvalidation_0-mae:0.02724\tvalidation_1-rmse:0.05522\tvalidation_1-mae:0.03901\n",
            "[52]\tvalidation_0-rmse:0.03702\tvalidation_0-mae:0.02706\tvalidation_1-rmse:0.05516\tvalidation_1-mae:0.03898\n",
            "[53]\tvalidation_0-rmse:0.03676\tvalidation_0-mae:0.02690\tvalidation_1-rmse:0.05510\tvalidation_1-mae:0.03895\n",
            "[54]\tvalidation_0-rmse:0.03656\tvalidation_0-mae:0.02675\tvalidation_1-rmse:0.05508\tvalidation_1-mae:0.03892\n",
            "[55]\tvalidation_0-rmse:0.03641\tvalidation_0-mae:0.02665\tvalidation_1-rmse:0.05505\tvalidation_1-mae:0.03890\n",
            "[56]\tvalidation_0-rmse:0.03617\tvalidation_0-mae:0.02650\tvalidation_1-rmse:0.05500\tvalidation_1-mae:0.03886\n",
            "[57]\tvalidation_0-rmse:0.03600\tvalidation_0-mae:0.02638\tvalidation_1-rmse:0.05497\tvalidation_1-mae:0.03885\n",
            "[58]\tvalidation_0-rmse:0.03582\tvalidation_0-mae:0.02625\tvalidation_1-rmse:0.05494\tvalidation_1-mae:0.03883\n",
            "[59]\tvalidation_0-rmse:0.03570\tvalidation_0-mae:0.02617\tvalidation_1-rmse:0.05491\tvalidation_1-mae:0.03881\n",
            "[60]\tvalidation_0-rmse:0.03554\tvalidation_0-mae:0.02606\tvalidation_1-rmse:0.05488\tvalidation_1-mae:0.03879\n",
            "[61]\tvalidation_0-rmse:0.03539\tvalidation_0-mae:0.02595\tvalidation_1-rmse:0.05485\tvalidation_1-mae:0.03877\n",
            "[62]\tvalidation_0-rmse:0.03521\tvalidation_0-mae:0.02582\tvalidation_1-rmse:0.05482\tvalidation_1-mae:0.03876\n",
            "[63]\tvalidation_0-rmse:0.03506\tvalidation_0-mae:0.02572\tvalidation_1-rmse:0.05478\tvalidation_1-mae:0.03874\n",
            "[64]\tvalidation_0-rmse:0.03495\tvalidation_0-mae:0.02564\tvalidation_1-rmse:0.05476\tvalidation_1-mae:0.03872\n",
            "[65]\tvalidation_0-rmse:0.03479\tvalidation_0-mae:0.02552\tvalidation_1-rmse:0.05474\tvalidation_1-mae:0.03871\n",
            "[66]\tvalidation_0-rmse:0.03466\tvalidation_0-mae:0.02544\tvalidation_1-rmse:0.05470\tvalidation_1-mae:0.03868\n",
            "[67]\tvalidation_0-rmse:0.03446\tvalidation_0-mae:0.02529\tvalidation_1-rmse:0.05466\tvalidation_1-mae:0.03865\n",
            "[68]\tvalidation_0-rmse:0.03440\tvalidation_0-mae:0.02524\tvalidation_1-rmse:0.05465\tvalidation_1-mae:0.03864\n",
            "[69]\tvalidation_0-rmse:0.03418\tvalidation_0-mae:0.02510\tvalidation_1-rmse:0.05461\tvalidation_1-mae:0.03861\n",
            "[70]\tvalidation_0-rmse:0.03406\tvalidation_0-mae:0.02501\tvalidation_1-rmse:0.05459\tvalidation_1-mae:0.03859\n",
            "[71]\tvalidation_0-rmse:0.03388\tvalidation_0-mae:0.02489\tvalidation_1-rmse:0.05455\tvalidation_1-mae:0.03857\n",
            "[72]\tvalidation_0-rmse:0.03381\tvalidation_0-mae:0.02484\tvalidation_1-rmse:0.05454\tvalidation_1-mae:0.03856\n",
            "[73]\tvalidation_0-rmse:0.03370\tvalidation_0-mae:0.02475\tvalidation_1-rmse:0.05452\tvalidation_1-mae:0.03854\n",
            "[74]\tvalidation_0-rmse:0.03364\tvalidation_0-mae:0.02471\tvalidation_1-rmse:0.05449\tvalidation_1-mae:0.03853\n",
            "[75]\tvalidation_0-rmse:0.03342\tvalidation_0-mae:0.02455\tvalidation_1-rmse:0.05447\tvalidation_1-mae:0.03852\n",
            "[76]\tvalidation_0-rmse:0.03333\tvalidation_0-mae:0.02449\tvalidation_1-rmse:0.05444\tvalidation_1-mae:0.03849\n",
            "[77]\tvalidation_0-rmse:0.03321\tvalidation_0-mae:0.02440\tvalidation_1-rmse:0.05442\tvalidation_1-mae:0.03848\n",
            "[78]\tvalidation_0-rmse:0.03302\tvalidation_0-mae:0.02426\tvalidation_1-rmse:0.05440\tvalidation_1-mae:0.03846\n",
            "[79]\tvalidation_0-rmse:0.03287\tvalidation_0-mae:0.02416\tvalidation_1-rmse:0.05438\tvalidation_1-mae:0.03845\n",
            "[80]\tvalidation_0-rmse:0.03272\tvalidation_0-mae:0.02406\tvalidation_1-rmse:0.05436\tvalidation_1-mae:0.03844\n",
            "[81]\tvalidation_0-rmse:0.03263\tvalidation_0-mae:0.02400\tvalidation_1-rmse:0.05436\tvalidation_1-mae:0.03844\n",
            "[82]\tvalidation_0-rmse:0.03249\tvalidation_0-mae:0.02389\tvalidation_1-rmse:0.05433\tvalidation_1-mae:0.03842\n",
            "[83]\tvalidation_0-rmse:0.03233\tvalidation_0-mae:0.02378\tvalidation_1-rmse:0.05431\tvalidation_1-mae:0.03840\n",
            "[84]\tvalidation_0-rmse:0.03213\tvalidation_0-mae:0.02365\tvalidation_1-rmse:0.05428\tvalidation_1-mae:0.03838\n",
            "[85]\tvalidation_0-rmse:0.03207\tvalidation_0-mae:0.02361\tvalidation_1-rmse:0.05427\tvalidation_1-mae:0.03838\n",
            "[86]\tvalidation_0-rmse:0.03193\tvalidation_0-mae:0.02349\tvalidation_1-rmse:0.05426\tvalidation_1-mae:0.03838\n",
            "[87]\tvalidation_0-rmse:0.03183\tvalidation_0-mae:0.02342\tvalidation_1-rmse:0.05424\tvalidation_1-mae:0.03837\n",
            "[88]\tvalidation_0-rmse:0.03172\tvalidation_0-mae:0.02334\tvalidation_1-rmse:0.05423\tvalidation_1-mae:0.03836\n",
            "[89]\tvalidation_0-rmse:0.03166\tvalidation_0-mae:0.02329\tvalidation_1-rmse:0.05422\tvalidation_1-mae:0.03836\n",
            "[90]\tvalidation_0-rmse:0.03156\tvalidation_0-mae:0.02322\tvalidation_1-rmse:0.05420\tvalidation_1-mae:0.03834\n",
            "[91]\tvalidation_0-rmse:0.03143\tvalidation_0-mae:0.02313\tvalidation_1-rmse:0.05419\tvalidation_1-mae:0.03834\n",
            "[92]\tvalidation_0-rmse:0.03132\tvalidation_0-mae:0.02305\tvalidation_1-rmse:0.05417\tvalidation_1-mae:0.03832\n",
            "[93]\tvalidation_0-rmse:0.03115\tvalidation_0-mae:0.02294\tvalidation_1-rmse:0.05415\tvalidation_1-mae:0.03831\n",
            "[94]\tvalidation_0-rmse:0.03107\tvalidation_0-mae:0.02287\tvalidation_1-rmse:0.05413\tvalidation_1-mae:0.03830\n",
            "[95]\tvalidation_0-rmse:0.03095\tvalidation_0-mae:0.02278\tvalidation_1-rmse:0.05411\tvalidation_1-mae:0.03829\n",
            "[96]\tvalidation_0-rmse:0.03090\tvalidation_0-mae:0.02275\tvalidation_1-rmse:0.05411\tvalidation_1-mae:0.03829\n",
            "[97]\tvalidation_0-rmse:0.03081\tvalidation_0-mae:0.02268\tvalidation_1-rmse:0.05409\tvalidation_1-mae:0.03828\n",
            "[98]\tvalidation_0-rmse:0.03067\tvalidation_0-mae:0.02258\tvalidation_1-rmse:0.05408\tvalidation_1-mae:0.03827\n",
            "[99]\tvalidation_0-rmse:0.03061\tvalidation_0-mae:0.02253\tvalidation_1-rmse:0.05408\tvalidation_1-mae:0.03827\n",
            "Features used for model training =  ['aspect', 'slope', 'NDMI', 'MSI', 'SR_B5', 'SAVI', 'EVI', 'NDVI', 'ST_B10', 'MNDWI', 'SR_B7', 'SR_B6', 'MSAVI']\n",
            "Number of principal components used for model training =  None\n",
            "Min predicted value =  0.012349322\n",
            "Max predicted value =  0.8061576\n",
            "MAE =  0.03827161389710547\n",
            "MSE =  0.002924359492356368\n",
            "RMSE =  0.05407734731249646\n",
            "R2 test Score =  0.8350939575334988\n",
            "R2 train Score =  0.9463256511738573\n",
            "Adjusted test R2 Score =  0.8349609852873715\n"
          ]
        }
      ]
    },
    {
      "cell_type": "code",
      "source": [
        "trained_model = train_results_mariposa21['estimator']"
      ],
      "metadata": {
        "id": "phYIHeDOkRzd"
      },
      "execution_count": null,
      "outputs": []
    },
    {
      "cell_type": "code",
      "source": [
        "X = test_df.drop(columns = 'smi')\n",
        "y = test_df['smi']"
      ],
      "metadata": {
        "id": "mN6xIgT7lH8b"
      },
      "execution_count": null,
      "outputs": []
    },
    {
      "cell_type": "code",
      "source": [
        "y_pred_mariposa22 = trained_model.predict(X)"
      ],
      "metadata": {
        "id": "1Yk3CFrKke1C"
      },
      "execution_count": null,
      "outputs": []
    },
    {
      "cell_type": "code",
      "source": [
        "r2_Mariposa22 = r2_score(y, y_pred_mariposa22)\n",
        "r2_Mariposa22"
      ],
      "metadata": {
        "colab": {
          "base_uri": "https://localhost:8080/"
        },
        "id": "XG_ShS1Rls8G",
        "outputId": "b75e7bce-b7ca-4f67-a81c-313c284a4139"
      },
      "execution_count": null,
      "outputs": [
        {
          "output_type": "execute_result",
          "data": {
            "text/plain": [
              "0.7386435345667016"
            ]
          },
          "metadata": {},
          "execution_count": 164
        }
      ]
    },
    {
      "cell_type": "code",
      "source": [
        "val_M21_M22_mae = mean_absolute_error(y,y_pred_mariposa22)\n",
        "val_M21_M22_mse = mean_squared_error(y,y_pred_mariposa22)\n",
        "val_M21_M22_rmse = np.sqrt(val_M21_M22_mse)"
      ],
      "metadata": {
        "id": "6Ufs13t1KDUy"
      },
      "execution_count": null,
      "outputs": []
    },
    {
      "cell_type": "code",
      "source": [
        "val_M21_M22_rmse"
      ],
      "metadata": {
        "colab": {
          "base_uri": "https://localhost:8080/"
        },
        "id": "JBSiv2uiKN0m",
        "outputId": "4f76ef11-3e8b-4bf6-9bba-fd502bb7a430"
      },
      "execution_count": null,
      "outputs": [
        {
          "output_type": "execute_result",
          "data": {
            "text/plain": [
              "0.05970099511990619"
            ]
          },
          "metadata": {},
          "execution_count": 167
        }
      ]
    },
    {
      "cell_type": "markdown",
      "source": [
        "## Train model on Mariposa21 and test on Three Rivers 22"
      ],
      "metadata": {
        "id": "1qgk5zd8hak8"
      }
    },
    {
      "cell_type": "code",
      "source": [
        "train_df = pd.read_csv('https://github.com/belalabouzaid/siads699_team13_collab/raw/main/Data/mariposa_2021.csv')\n",
        "test_df = pd.read_csv('https://github.com/belalabouzaid/siads699_team13_collab/raw/main/Data/threerivers_2022.csv')"
      ],
      "metadata": {
        "id": "uwzZrA6Yhitu"
      },
      "execution_count": null,
      "outputs": []
    },
    {
      "cell_type": "code",
      "source": [
        "train_df = train_df[['aspect','slope','NDMI', 'MSI'\n",
        "                                 ,'SR_B5','SAVI','EVI','NDVI','ST_B10'\n",
        "                                 ,'MNDWI','SR_B7','SR_B6','MSAVI','smi']]\n",
        "test_df = test_df[['aspect','slope','NDMI', 'MSI'\n",
        "                                 ,'SR_B5','SAVI','EVI','NDVI','ST_B10'\n",
        "                                 ,'MNDWI','SR_B7','SR_B6','MSAVI','smi']]"
      ],
      "metadata": {
        "id": "ckiAVxIbhtbZ"
      },
      "execution_count": null,
      "outputs": []
    },
    {
      "cell_type": "code",
      "source": [
        "# splitting train_df to train and val\n",
        "X = train_df.drop(columns = 'smi')\n",
        "y = train_df['smi']"
      ],
      "metadata": {
        "id": "QV01tKhOhvg8"
      },
      "execution_count": null,
      "outputs": []
    },
    {
      "cell_type": "code",
      "source": [
        "features = list(X.columns)"
      ],
      "metadata": {
        "id": "xeyvtOz1hx41"
      },
      "execution_count": null,
      "outputs": []
    },
    {
      "cell_type": "code",
      "source": [
        "train_results_mariposa21 = train_test_eval_model(train_df, xgb_reg, features = features, scale = False, test_size= 0.25, n_pca = None)"
      ],
      "metadata": {
        "colab": {
          "base_uri": "https://localhost:8080/"
        },
        "id": "OKVGFswlhzs2",
        "outputId": "0ce9b89f-85d0-4181-8d2a-0f7d7f69a224"
      },
      "execution_count": null,
      "outputs": [
        {
          "output_type": "stream",
          "name": "stdout",
          "text": [
            "XGBRegressor\n",
            "[0]\tvalidation_0-rmse:0.12168\tvalidation_0-mae:0.09371\tvalidation_1-rmse:0.12303\tvalidation_1-mae:0.09507\n",
            "[1]\tvalidation_0-rmse:0.11239\tvalidation_0-mae:0.08638\tvalidation_1-rmse:0.11406\tvalidation_1-mae:0.08793\n",
            "[2]\tvalidation_0-rmse:0.10414\tvalidation_0-mae:0.07990\tvalidation_1-rmse:0.10625\tvalidation_1-mae:0.08168\n"
          ]
        },
        {
          "output_type": "stream",
          "name": "stderr",
          "text": [
            "/usr/local/lib/python3.10/dist-packages/xgboost/sklearn.py:885: UserWarning: `eval_metric` in `fit` method is deprecated for better compatibility with scikit-learn, use `eval_metric` in constructor or`set_params` instead.\n",
            "  warnings.warn(\n"
          ]
        },
        {
          "output_type": "stream",
          "name": "stdout",
          "text": [
            "[3]\tvalidation_0-rmse:0.09691\tvalidation_0-mae:0.07419\tvalidation_1-rmse:0.09938\tvalidation_1-mae:0.07620\n",
            "[4]\tvalidation_0-rmse:0.09046\tvalidation_0-mae:0.06910\tvalidation_1-rmse:0.09342\tvalidation_1-mae:0.07144\n",
            "[5]\tvalidation_0-rmse:0.08481\tvalidation_0-mae:0.06465\tvalidation_1-rmse:0.08819\tvalidation_1-mae:0.06729\n",
            "[6]\tvalidation_0-rmse:0.07978\tvalidation_0-mae:0.06070\tvalidation_1-rmse:0.08365\tvalidation_1-mae:0.06365\n",
            "[7]\tvalidation_0-rmse:0.07539\tvalidation_0-mae:0.05723\tvalidation_1-rmse:0.07978\tvalidation_1-mae:0.06051\n",
            "[8]\tvalidation_0-rmse:0.07149\tvalidation_0-mae:0.05412\tvalidation_1-rmse:0.07643\tvalidation_1-mae:0.05775\n",
            "[9]\tvalidation_0-rmse:0.06809\tvalidation_0-mae:0.05141\tvalidation_1-rmse:0.07355\tvalidation_1-mae:0.05533\n",
            "[10]\tvalidation_0-rmse:0.06513\tvalidation_0-mae:0.04906\tvalidation_1-rmse:0.07111\tvalidation_1-mae:0.05327\n",
            "[11]\tvalidation_0-rmse:0.06252\tvalidation_0-mae:0.04696\tvalidation_1-rmse:0.06905\tvalidation_1-mae:0.05152\n",
            "[12]\tvalidation_0-rmse:0.06021\tvalidation_0-mae:0.04510\tvalidation_1-rmse:0.06726\tvalidation_1-mae:0.04994\n",
            "[13]\tvalidation_0-rmse:0.05820\tvalidation_0-mae:0.04347\tvalidation_1-rmse:0.06574\tvalidation_1-mae:0.04860\n",
            "[14]\tvalidation_0-rmse:0.05641\tvalidation_0-mae:0.04200\tvalidation_1-rmse:0.06448\tvalidation_1-mae:0.04744\n",
            "[15]\tvalidation_0-rmse:0.05487\tvalidation_0-mae:0.04073\tvalidation_1-rmse:0.06338\tvalidation_1-mae:0.04643\n",
            "[16]\tvalidation_0-rmse:0.05345\tvalidation_0-mae:0.03957\tvalidation_1-rmse:0.06239\tvalidation_1-mae:0.04553\n",
            "[17]\tvalidation_0-rmse:0.05224\tvalidation_0-mae:0.03856\tvalidation_1-rmse:0.06159\tvalidation_1-mae:0.04478\n",
            "[18]\tvalidation_0-rmse:0.05106\tvalidation_0-mae:0.03761\tvalidation_1-rmse:0.06089\tvalidation_1-mae:0.04412\n",
            "[19]\tvalidation_0-rmse:0.05009\tvalidation_0-mae:0.03680\tvalidation_1-rmse:0.06029\tvalidation_1-mae:0.04354\n",
            "[20]\tvalidation_0-rmse:0.04912\tvalidation_0-mae:0.03602\tvalidation_1-rmse:0.05975\tvalidation_1-mae:0.04302\n",
            "[21]\tvalidation_0-rmse:0.04829\tvalidation_0-mae:0.03534\tvalidation_1-rmse:0.05934\tvalidation_1-mae:0.04259\n",
            "[22]\tvalidation_0-rmse:0.04754\tvalidation_0-mae:0.03473\tvalidation_1-rmse:0.05898\tvalidation_1-mae:0.04222\n",
            "[23]\tvalidation_0-rmse:0.04683\tvalidation_0-mae:0.03417\tvalidation_1-rmse:0.05862\tvalidation_1-mae:0.04188\n",
            "[24]\tvalidation_0-rmse:0.04624\tvalidation_0-mae:0.03369\tvalidation_1-rmse:0.05831\tvalidation_1-mae:0.04158\n",
            "[25]\tvalidation_0-rmse:0.04560\tvalidation_0-mae:0.03320\tvalidation_1-rmse:0.05802\tvalidation_1-mae:0.04130\n",
            "[26]\tvalidation_0-rmse:0.04503\tvalidation_0-mae:0.03277\tvalidation_1-rmse:0.05776\tvalidation_1-mae:0.04108\n",
            "[27]\tvalidation_0-rmse:0.04450\tvalidation_0-mae:0.03236\tvalidation_1-rmse:0.05752\tvalidation_1-mae:0.04085\n",
            "[28]\tvalidation_0-rmse:0.04398\tvalidation_0-mae:0.03197\tvalidation_1-rmse:0.05732\tvalidation_1-mae:0.04066\n",
            "[29]\tvalidation_0-rmse:0.04350\tvalidation_0-mae:0.03161\tvalidation_1-rmse:0.05710\tvalidation_1-mae:0.04047\n",
            "[30]\tvalidation_0-rmse:0.04316\tvalidation_0-mae:0.03134\tvalidation_1-rmse:0.05694\tvalidation_1-mae:0.04032\n",
            "[31]\tvalidation_0-rmse:0.04276\tvalidation_0-mae:0.03104\tvalidation_1-rmse:0.05677\tvalidation_1-mae:0.04018\n",
            "[32]\tvalidation_0-rmse:0.04238\tvalidation_0-mae:0.03076\tvalidation_1-rmse:0.05663\tvalidation_1-mae:0.04006\n",
            "[33]\tvalidation_0-rmse:0.04204\tvalidation_0-mae:0.03052\tvalidation_1-rmse:0.05649\tvalidation_1-mae:0.03995\n",
            "[34]\tvalidation_0-rmse:0.04168\tvalidation_0-mae:0.03026\tvalidation_1-rmse:0.05637\tvalidation_1-mae:0.03984\n",
            "[35]\tvalidation_0-rmse:0.04128\tvalidation_0-mae:0.02999\tvalidation_1-rmse:0.05626\tvalidation_1-mae:0.03975\n",
            "[36]\tvalidation_0-rmse:0.04097\tvalidation_0-mae:0.02976\tvalidation_1-rmse:0.05617\tvalidation_1-mae:0.03967\n",
            "[37]\tvalidation_0-rmse:0.04068\tvalidation_0-mae:0.02956\tvalidation_1-rmse:0.05607\tvalidation_1-mae:0.03960\n",
            "[38]\tvalidation_0-rmse:0.04044\tvalidation_0-mae:0.02938\tvalidation_1-rmse:0.05599\tvalidation_1-mae:0.03953\n",
            "[39]\tvalidation_0-rmse:0.04015\tvalidation_0-mae:0.02918\tvalidation_1-rmse:0.05589\tvalidation_1-mae:0.03947\n",
            "[40]\tvalidation_0-rmse:0.03986\tvalidation_0-mae:0.02898\tvalidation_1-rmse:0.05582\tvalidation_1-mae:0.03941\n",
            "[41]\tvalidation_0-rmse:0.03957\tvalidation_0-mae:0.02878\tvalidation_1-rmse:0.05575\tvalidation_1-mae:0.03935\n",
            "[42]\tvalidation_0-rmse:0.03932\tvalidation_0-mae:0.02861\tvalidation_1-rmse:0.05568\tvalidation_1-mae:0.03930\n",
            "[43]\tvalidation_0-rmse:0.03905\tvalidation_0-mae:0.02843\tvalidation_1-rmse:0.05562\tvalidation_1-mae:0.03925\n",
            "[44]\tvalidation_0-rmse:0.03881\tvalidation_0-mae:0.02827\tvalidation_1-rmse:0.05556\tvalidation_1-mae:0.03921\n",
            "[45]\tvalidation_0-rmse:0.03855\tvalidation_0-mae:0.02809\tvalidation_1-rmse:0.05548\tvalidation_1-mae:0.03916\n",
            "[46]\tvalidation_0-rmse:0.03834\tvalidation_0-mae:0.02795\tvalidation_1-rmse:0.05546\tvalidation_1-mae:0.03915\n",
            "[47]\tvalidation_0-rmse:0.03815\tvalidation_0-mae:0.02782\tvalidation_1-rmse:0.05543\tvalidation_1-mae:0.03913\n",
            "[48]\tvalidation_0-rmse:0.03795\tvalidation_0-mae:0.02768\tvalidation_1-rmse:0.05536\tvalidation_1-mae:0.03908\n",
            "[49]\tvalidation_0-rmse:0.03771\tvalidation_0-mae:0.02752\tvalidation_1-rmse:0.05531\tvalidation_1-mae:0.03905\n",
            "[50]\tvalidation_0-rmse:0.03749\tvalidation_0-mae:0.02737\tvalidation_1-rmse:0.05527\tvalidation_1-mae:0.03903\n",
            "[51]\tvalidation_0-rmse:0.03728\tvalidation_0-mae:0.02724\tvalidation_1-rmse:0.05522\tvalidation_1-mae:0.03901\n",
            "[52]\tvalidation_0-rmse:0.03702\tvalidation_0-mae:0.02706\tvalidation_1-rmse:0.05516\tvalidation_1-mae:0.03898\n",
            "[53]\tvalidation_0-rmse:0.03676\tvalidation_0-mae:0.02690\tvalidation_1-rmse:0.05510\tvalidation_1-mae:0.03895\n",
            "[54]\tvalidation_0-rmse:0.03656\tvalidation_0-mae:0.02675\tvalidation_1-rmse:0.05508\tvalidation_1-mae:0.03892\n",
            "[55]\tvalidation_0-rmse:0.03641\tvalidation_0-mae:0.02665\tvalidation_1-rmse:0.05505\tvalidation_1-mae:0.03890\n",
            "[56]\tvalidation_0-rmse:0.03617\tvalidation_0-mae:0.02650\tvalidation_1-rmse:0.05500\tvalidation_1-mae:0.03886\n",
            "[57]\tvalidation_0-rmse:0.03600\tvalidation_0-mae:0.02638\tvalidation_1-rmse:0.05497\tvalidation_1-mae:0.03885\n",
            "[58]\tvalidation_0-rmse:0.03582\tvalidation_0-mae:0.02625\tvalidation_1-rmse:0.05494\tvalidation_1-mae:0.03883\n",
            "[59]\tvalidation_0-rmse:0.03570\tvalidation_0-mae:0.02617\tvalidation_1-rmse:0.05491\tvalidation_1-mae:0.03881\n",
            "[60]\tvalidation_0-rmse:0.03554\tvalidation_0-mae:0.02606\tvalidation_1-rmse:0.05488\tvalidation_1-mae:0.03879\n",
            "[61]\tvalidation_0-rmse:0.03539\tvalidation_0-mae:0.02595\tvalidation_1-rmse:0.05485\tvalidation_1-mae:0.03877\n",
            "[62]\tvalidation_0-rmse:0.03521\tvalidation_0-mae:0.02582\tvalidation_1-rmse:0.05482\tvalidation_1-mae:0.03876\n",
            "[63]\tvalidation_0-rmse:0.03506\tvalidation_0-mae:0.02572\tvalidation_1-rmse:0.05478\tvalidation_1-mae:0.03874\n",
            "[64]\tvalidation_0-rmse:0.03495\tvalidation_0-mae:0.02564\tvalidation_1-rmse:0.05476\tvalidation_1-mae:0.03872\n",
            "[65]\tvalidation_0-rmse:0.03479\tvalidation_0-mae:0.02552\tvalidation_1-rmse:0.05474\tvalidation_1-mae:0.03871\n",
            "[66]\tvalidation_0-rmse:0.03466\tvalidation_0-mae:0.02544\tvalidation_1-rmse:0.05470\tvalidation_1-mae:0.03868\n",
            "[67]\tvalidation_0-rmse:0.03446\tvalidation_0-mae:0.02529\tvalidation_1-rmse:0.05466\tvalidation_1-mae:0.03865\n",
            "[68]\tvalidation_0-rmse:0.03440\tvalidation_0-mae:0.02524\tvalidation_1-rmse:0.05465\tvalidation_1-mae:0.03864\n",
            "[69]\tvalidation_0-rmse:0.03418\tvalidation_0-mae:0.02510\tvalidation_1-rmse:0.05461\tvalidation_1-mae:0.03861\n",
            "[70]\tvalidation_0-rmse:0.03406\tvalidation_0-mae:0.02501\tvalidation_1-rmse:0.05459\tvalidation_1-mae:0.03859\n",
            "[71]\tvalidation_0-rmse:0.03388\tvalidation_0-mae:0.02489\tvalidation_1-rmse:0.05455\tvalidation_1-mae:0.03857\n",
            "[72]\tvalidation_0-rmse:0.03381\tvalidation_0-mae:0.02484\tvalidation_1-rmse:0.05454\tvalidation_1-mae:0.03856\n",
            "[73]\tvalidation_0-rmse:0.03370\tvalidation_0-mae:0.02475\tvalidation_1-rmse:0.05452\tvalidation_1-mae:0.03854\n",
            "[74]\tvalidation_0-rmse:0.03364\tvalidation_0-mae:0.02471\tvalidation_1-rmse:0.05449\tvalidation_1-mae:0.03853\n",
            "[75]\tvalidation_0-rmse:0.03342\tvalidation_0-mae:0.02455\tvalidation_1-rmse:0.05447\tvalidation_1-mae:0.03852\n",
            "[76]\tvalidation_0-rmse:0.03333\tvalidation_0-mae:0.02449\tvalidation_1-rmse:0.05444\tvalidation_1-mae:0.03849\n",
            "[77]\tvalidation_0-rmse:0.03321\tvalidation_0-mae:0.02440\tvalidation_1-rmse:0.05442\tvalidation_1-mae:0.03848\n",
            "[78]\tvalidation_0-rmse:0.03302\tvalidation_0-mae:0.02426\tvalidation_1-rmse:0.05440\tvalidation_1-mae:0.03846\n",
            "[79]\tvalidation_0-rmse:0.03287\tvalidation_0-mae:0.02416\tvalidation_1-rmse:0.05438\tvalidation_1-mae:0.03845\n",
            "[80]\tvalidation_0-rmse:0.03272\tvalidation_0-mae:0.02406\tvalidation_1-rmse:0.05436\tvalidation_1-mae:0.03844\n",
            "[81]\tvalidation_0-rmse:0.03263\tvalidation_0-mae:0.02400\tvalidation_1-rmse:0.05436\tvalidation_1-mae:0.03844\n",
            "[82]\tvalidation_0-rmse:0.03249\tvalidation_0-mae:0.02389\tvalidation_1-rmse:0.05433\tvalidation_1-mae:0.03842\n",
            "[83]\tvalidation_0-rmse:0.03233\tvalidation_0-mae:0.02378\tvalidation_1-rmse:0.05431\tvalidation_1-mae:0.03840\n",
            "[84]\tvalidation_0-rmse:0.03213\tvalidation_0-mae:0.02365\tvalidation_1-rmse:0.05428\tvalidation_1-mae:0.03838\n",
            "[85]\tvalidation_0-rmse:0.03207\tvalidation_0-mae:0.02361\tvalidation_1-rmse:0.05427\tvalidation_1-mae:0.03838\n",
            "[86]\tvalidation_0-rmse:0.03193\tvalidation_0-mae:0.02349\tvalidation_1-rmse:0.05426\tvalidation_1-mae:0.03838\n",
            "[87]\tvalidation_0-rmse:0.03183\tvalidation_0-mae:0.02342\tvalidation_1-rmse:0.05424\tvalidation_1-mae:0.03837\n",
            "[88]\tvalidation_0-rmse:0.03172\tvalidation_0-mae:0.02334\tvalidation_1-rmse:0.05423\tvalidation_1-mae:0.03836\n",
            "[89]\tvalidation_0-rmse:0.03166\tvalidation_0-mae:0.02329\tvalidation_1-rmse:0.05422\tvalidation_1-mae:0.03836\n",
            "[90]\tvalidation_0-rmse:0.03156\tvalidation_0-mae:0.02322\tvalidation_1-rmse:0.05420\tvalidation_1-mae:0.03834\n",
            "[91]\tvalidation_0-rmse:0.03143\tvalidation_0-mae:0.02313\tvalidation_1-rmse:0.05419\tvalidation_1-mae:0.03834\n",
            "[92]\tvalidation_0-rmse:0.03132\tvalidation_0-mae:0.02305\tvalidation_1-rmse:0.05417\tvalidation_1-mae:0.03832\n",
            "[93]\tvalidation_0-rmse:0.03115\tvalidation_0-mae:0.02294\tvalidation_1-rmse:0.05415\tvalidation_1-mae:0.03831\n",
            "[94]\tvalidation_0-rmse:0.03107\tvalidation_0-mae:0.02287\tvalidation_1-rmse:0.05413\tvalidation_1-mae:0.03830\n",
            "[95]\tvalidation_0-rmse:0.03095\tvalidation_0-mae:0.02278\tvalidation_1-rmse:0.05411\tvalidation_1-mae:0.03829\n",
            "[96]\tvalidation_0-rmse:0.03090\tvalidation_0-mae:0.02275\tvalidation_1-rmse:0.05411\tvalidation_1-mae:0.03829\n",
            "[97]\tvalidation_0-rmse:0.03081\tvalidation_0-mae:0.02268\tvalidation_1-rmse:0.05409\tvalidation_1-mae:0.03828\n",
            "[98]\tvalidation_0-rmse:0.03067\tvalidation_0-mae:0.02258\tvalidation_1-rmse:0.05408\tvalidation_1-mae:0.03827\n",
            "[99]\tvalidation_0-rmse:0.03061\tvalidation_0-mae:0.02253\tvalidation_1-rmse:0.05408\tvalidation_1-mae:0.03827\n",
            "Features used for model training =  ['aspect', 'slope', 'NDMI', 'MSI', 'SR_B5', 'SAVI', 'EVI', 'NDVI', 'ST_B10', 'MNDWI', 'SR_B7', 'SR_B6', 'MSAVI']\n",
            "Number of principal components used for model training =  None\n",
            "Min predicted value =  0.012349322\n",
            "Max predicted value =  0.8061576\n",
            "MAE =  0.03827161389710547\n",
            "MSE =  0.002924359492356368\n",
            "RMSE =  0.05407734731249646\n",
            "R2 test Score =  0.8350939575334988\n",
            "R2 train Score =  0.9463256511738573\n",
            "Adjusted test R2 Score =  0.8349609852873715\n"
          ]
        }
      ]
    },
    {
      "cell_type": "code",
      "source": [
        "trained_model = train_results_mariposa21['estimator']"
      ],
      "metadata": {
        "id": "aNV7Zannh3TI"
      },
      "execution_count": null,
      "outputs": []
    },
    {
      "cell_type": "code",
      "source": [
        "X = test_df.drop(columns = 'smi')\n",
        "y = test_df['smi']"
      ],
      "metadata": {
        "id": "s9tARTgniDK6"
      },
      "execution_count": null,
      "outputs": []
    },
    {
      "cell_type": "code",
      "source": [
        "y_pred_threerivers22 = trained_model.predict(X)"
      ],
      "metadata": {
        "id": "6Qwq-xxkiItp"
      },
      "execution_count": null,
      "outputs": []
    },
    {
      "cell_type": "code",
      "source": [
        "r2_threeriveres22 = r2_score(y, y_pred_threerivers22)\n",
        "r2_threeriveres22"
      ],
      "metadata": {
        "colab": {
          "base_uri": "https://localhost:8080/"
        },
        "id": "sYZzF5sGiRdW",
        "outputId": "87be7bc8-8a8f-4e63-f6f3-021acf7a4a87"
      },
      "execution_count": null,
      "outputs": [
        {
          "output_type": "execute_result",
          "data": {
            "text/plain": [
              "-4.831797454666241"
            ]
          },
          "metadata": {},
          "execution_count": 176
        }
      ]
    },
    {
      "cell_type": "code",
      "source": [
        "val_M21_TR22_mae = mean_absolute_error(y,y_pred_threerivers22)\n",
        "val_M21_TR22_mse = mean_squared_error(y,y_pred_threerivers22)\n",
        "val_M21_TR22_rmse = np.sqrt(val_M21_TR22_mse)"
      ],
      "metadata": {
        "id": "PbxjvtbLKgGj"
      },
      "execution_count": null,
      "outputs": []
    },
    {
      "cell_type": "code",
      "source": [
        "val_M21_TR22_rmse"
      ],
      "metadata": {
        "colab": {
          "base_uri": "https://localhost:8080/"
        },
        "id": "FTqXRoXdKy8E",
        "outputId": "43b03eaa-2fde-4cbb-d14c-883694871b0c"
      },
      "execution_count": null,
      "outputs": [
        {
          "output_type": "execute_result",
          "data": {
            "text/plain": [
              "0.10416867012074704"
            ]
          },
          "metadata": {},
          "execution_count": 179
        }
      ]
    },
    {
      "cell_type": "code",
      "source": [],
      "metadata": {
        "id": "URhMra7NKz1e"
      },
      "execution_count": null,
      "outputs": []
    }
  ]
}
